{
 "cells": [
  {
   "cell_type": "markdown",
   "metadata": {},
   "source": [
    "# 1.6 套利定价理论 (Arbitrage Pricing Theory, APT)\n",
    "\n",
    "## 概念介绍\n",
    "\n",
    "套利定价理论(APT)是由Stephen Ross于1976年提出的一种多因子资产定价模型，是对资本资产定价模型(CAPM)的扩展。与CAPM只考虑市场风险不同，APT认为资产回报率受多种系统性风险因子影响。\n",
    "\n",
    "### APT模型公式\n",
    "\n",
    "套利定价理论的基本方程：\n",
    "\n",
    "$$E(R_i) = R_f + \\beta_{i1}RP_1 + \\beta_{i2}RP_2 + ... + \\beta_{in}RP_n$$\n",
    "\n",
    "其中：\n",
    "- $E(R_i)$ 是资产$i$的期望收益率\n",
    "- $R_f$ 是无风险收益率\n",
    "- $\\beta_{ij}$ 是资产$i$对因子$j$的敏感度\n",
    "- $RP_j$ 是因子$j$的风险溢价\n",
    "\n",
    "### APT与CAPM的区别\n",
    "\n",
    "- **多因子模型**：APT允许多个因子影响资产收益率，而CAPM只考虑市场风险一个因子\n",
    "- **更少的假设**：APT比CAPM有更少的限制性假设，更适合现实市场\n",
    "- **因子选择灵活**：APT允许使用各种宏观经济因子，如GDP增长率、通货膨胀率、利率等\n",
    "\n",
    "在这个笔记本中，我们将使用宏观经济因子构建APT模型，分析这些因子如何影响股票收益率。"
   ]
  },
  {
   "cell_type": "markdown",
   "metadata": {},
   "source": [
    "## 1.1 安装必要的库\n",
    "\n",
    "首先安装需要用到的Python库"
   ]
  },
  {
   "cell_type": "code",
   "execution_count": null,
   "metadata": {},
   "outputs": [],
   "source": [
    "# 安装必要的库\n",
    "!pip install pandas numpy matplotlib statsmodels seaborn scikit-learn"
   ]
  },
  {
   "cell_type": "markdown",
   "metadata": {},
   "source": [
    "## 1.2 从Github上读取数据"
   ]
  },
  {
   "cell_type": "code",
   "execution_count": null,
   "metadata": {},
   "outputs": [],
   "source": [
    "# 从GitHub下载数据文件 - 使用正确的文件名和路径\n",
    "!wget -O AAPL_data.csv \"https://raw.githubusercontent.com/Newzil-git/Financial-Risk-Management/main/FR%20Code/Part%201/1.6_AAPL_data.csv\"\n",
    "!wget -O SPY_data.csv \"https://raw.githubusercontent.com/Newzil-git/Financial-Risk-Management/main/FR%20Code/Part%201/1.6_market_data.csv\"\n",
    "!wget -O MSFT_data.csv \"https://raw.githubusercontent.com/Newzil-git/Financial-Risk-Management/main/FR%20Code/Part%201/1.6_MSFT_data.csv\"\n",
    "!wget -O GOOGL_data.csv \"https://raw.githubusercontent.com/Newzil-git/Financial-Risk-Management/main/FR%20Code/Part%201/1.6_GOOGL_data.csv\"\n",
    "!wget -O risk_free_rate.csv \"https://raw.githubusercontent.com/Newzil-git/Financial-Risk-Management/main/FR%20Code/Part%201/1.6_risk_free_rate.csv\"\n",
    "!wget -O unemployment_rate.csv \"https://raw.githubusercontent.com/Newzil-git/Financial-Risk-Management/main/FR%20Code/Part%201/1.6_unemployment_rate.csv\"\n",
    "!wget -O inflation_rate.csv \"https://raw.githubusercontent.com/Newzil-git/Financial-Risk-Management/main/FR%20Code/Part%201/1.6_inflation_rate.csv\"\n",
    "!wget -O gdp_data.csv \"https://raw.githubusercontent.com/Newzil-git/Financial-Risk-Management/main/FR%20Code/Part%201/1.6_gdp_data.csv\"\n",
    "\n",
    "# 设置数据文件路径\n",
    "file_path_msft = \"MSFT_data.csv\"\n",
    "file_path_aapl = \"AAPL_data.csv\"\n",
    "file_path_googl = \"GOOGL_data.csv\"\n",
    "file_path_market = \"SPY_data.csv\"  # 市场数据\n",
    "file_path_rf =  \"risk_free_rate.csv\"  # 无风险利率\n",
    "file_path_unrate =  \"unemployment_rate.csv\"  # 失业率\n",
    "file_path_cpi = \"inflation_rate.csv\"  # 通胀率\n",
    "file_path_gdp =  \"gdp_data.csv\"  # GDP数据"
   ]
  },
  {
   "cell_type": "markdown",
   "metadata": {},
   "source": [
    "## 1.3 导入必要的库"
   ]
  },
  {
   "cell_type": "code",
   "execution_count": 35,
   "metadata": {},
   "outputs": [],
   "source": [
    "import pandas as pd\n",
    "import numpy as np\n",
    "import statsmodels.api as sm\n",
    "import matplotlib.pyplot as plt\n",
    "\n",
    "# 设置中文显示\n",
    "plt.rcParams['font.sans-serif'] = ['SimHei']  # 用来正常显示中文标签\n",
    "plt.rcParams['axes.unicode_minus'] = False    # 用来正常显示负号"
   ]
  },
  {
   "cell_type": "markdown",
   "metadata": {},
   "source": [
    "## 1.4 数据加载和预处理"
   ]
  },
  {
   "cell_type": "code",
   "execution_count": null,
   "metadata": {},
   "outputs": [],
   "source": [
    "# 加载数据集\n",
    "try:\n",
    "    msft_data_df = pd.read_csv('MSFT_data.csv', skiprows=2)\n",
    "    aapl_data_df = pd.read_csv('AAPL_data.csv', skiprows=2)\n",
    "    googl_data_df = pd.read_csv('GOOGL_data.csv', skiprows=2)\n",
    "    market_data_df = pd.read_csv('SPY_data.csv', skiprows=2)\n",
    "    risk_free_rate_df = pd.read_csv('risk_free_rate.csv')\n",
    "    unemployment_rate_df = pd.read_csv('unemployment_rate.csv')\n",
    "    inflation_rate_df = pd.read_csv('inflation_rate.csv')\n",
    "    gdp_data_df = pd.read_csv('gdp_data.csv')\n",
    "    print(\"数据加载成功\")\n",
    "except Exception as e:\n",
    "    print(f\"数据加载失败: {e}\")"
   ]
  },
  {
   "cell_type": "markdown",
   "metadata": {},
   "source": [
    "## 1.5 数据预览和结构检查"
   ]
  },
  {
   "cell_type": "code",
   "execution_count": null,
   "metadata": {},
   "outputs": [],
   "source": [
    "# 查看数据结构\n",
    "print(\"MSFT数据前5行:\")\n",
    "display(msft_data_df.head())\n",
    "\n",
    "print(\"\\n无风险利率数据前5行:\")\n",
    "display(risk_free_rate_df.head())\n",
    "\n",
    "print(\"\\n失业率数据前5行:\")\n",
    "display(unemployment_rate_df.head())"
   ]
  },
  {
   "cell_type": "markdown",
   "metadata": {},
   "source": [
    "## 1.6 数据清洗和准备"
   ]
  },
  {
   "cell_type": "code",
   "execution_count": null,
   "metadata": {},
   "outputs": [],
   "source": [
    "# 统一列名\n",
    "column_names = [\"Date\", \"Price\", \"Close\", \"High\", \"Low\", \"Open\"]  # 移除 'Volume' 列名\n",
    "msft_data_df.columns = column_names\n",
    "aapl_data_df.columns = column_names\n",
    "googl_data_df.columns = column_names\n",
    "market_data_df.columns = column_names\n",
    "\n",
    "# 将 \"Close\" 列重命名为 \"Adj Close\" 并转换日期列\n",
    "msft_data_df.rename(columns={'Close': 'Adj Close'}, inplace=True)\n",
    "aapl_data_df.rename(columns={'Close': 'Adj Close'}, inplace=True)\n",
    "googl_data_df.rename(columns={'Close': 'Adj Close'}, inplace=True)\n",
    "market_data_df.rename(columns={'Close': 'Adj Close'}, inplace=True)"
   ]
  },
  {
   "cell_type": "code",
   "execution_count": null,
   "metadata": {},
   "outputs": [],
   "source": [
    "# 转换日期列为日期格式\n",
    "msft_data_df['Date'] = pd.to_datetime(msft_data_df['Date'])\n",
    "aapl_data_df['Date'] = pd.to_datetime(aapl_data_df['Date'])\n",
    "googl_data_df['Date'] = pd.to_datetime(googl_data_df['Date'])\n",
    "market_data_df['Date'] = pd.to_datetime(market_data_df['Date'])\n",
    "\n",
    "# 确保所有宏观经济数据的 'Date' 列转换为 datetime 类型\n",
    "risk_free_rate_df['DATE'] = pd.to_datetime(risk_free_rate_df['DATE'])\n",
    "unemployment_rate_df['DATE'] = pd.to_datetime(unemployment_rate_df['DATE'])\n",
    "inflation_rate_df['DATE'] = pd.to_datetime(inflation_rate_df['DATE'])\n",
    "gdp_data_df['DATE'] = pd.to_datetime(gdp_data_df['DATE'])"
   ]
  },
  {
   "cell_type": "code",
   "execution_count": null,
   "metadata": {},
   "outputs": [],
   "source": [
    "# 将 \"Date\" 设置为索引\n",
    "msft_data_df.set_index('Date', inplace=True)\n",
    "aapl_data_df.set_index('Date', inplace=True)\n",
    "googl_data_df.set_index('Date', inplace=True)\n",
    "market_data_df.set_index('Date', inplace=True)"
   ]
  },
  {
   "cell_type": "markdown",
   "metadata": {},
   "source": [
    "## 1.7 计算收益率"
   ]
  },
  {
   "cell_type": "code",
   "execution_count": null,
   "metadata": {},
   "outputs": [],
   "source": [
    "# 计算每日回报率\n",
    "msft_data_df['Return'] = msft_data_df['Adj Close'].pct_change()\n",
    "aapl_data_df['Return'] = aapl_data_df['Adj Close'].pct_change()\n",
    "googl_data_df['Return'] = googl_data_df['Adj Close'].pct_change()\n",
    "market_data_df['Return'] = market_data_df['Adj Close'].pct_change()\n",
    "\n",
    "# 查看计算得到的回报率\n",
    "print(\"MSFT回报率前5行:\")\n",
    "display(msft_data_df['Return'].head())"
   ]
  },
  {
   "cell_type": "markdown",
   "metadata": {},
   "source": [
    "## 1.8 合并数据集"
   ]
  },
  {
   "cell_type": "code",
   "execution_count": null,
   "metadata": {},
   "outputs": [],
   "source": [
    "# 合并数据\n",
    "merged_df = msft_data_df[['Return']].merge(aapl_data_df[['Return']], on='Date', suffixes=('_MSFT', '_AAPL'))\n",
    "merged_df = merged_df.merge(googl_data_df[['Return']], on='Date')\n",
    "merged_df = merged_df.merge(market_data_df[['Return']], on='Date', suffixes=('', '_Market'))\n",
    "\n",
    "# 重置索引，将 'Date' 列恢复为普通列\n",
    "merged_df.reset_index(inplace=True)\n",
    "\n",
    "# 合并宏观经济数据\n",
    "merged_df = merged_df.merge(risk_free_rate_df[['DATE', 'GS10']], left_on='Date', right_on='DATE', how='left', suffixes=('', '_RiskFree'))\n",
    "merged_df = merged_df.merge(unemployment_rate_df[['DATE', 'UNRATE']], left_on='Date', right_on='DATE', how='left', suffixes=('', '_Unemployment'))\n",
    "merged_df = merged_df.merge(inflation_rate_df[['DATE', 'CPIAUCSL']], left_on='Date', right_on='DATE', how='left', suffixes=('', '_Inflation'))\n",
    "merged_df = merged_df.merge(gdp_data_df[['DATE', 'GDP']], left_on='Date', right_on='DATE', how='left', suffixes=('', '_GDP'))\n",
    "\n",
    "# 删除重复的 'DATE' 列\n",
    "merged_df = merged_df.drop(columns=['DATE'])\n",
    "\n",
    "# 删除缺失值\n",
    "merged_df = merged_df.dropna()"
   ]
  },
  {
   "cell_type": "markdown",
   "metadata": {},
   "source": [
    "## 1.9 计算超额收益"
   ]
  },
  {
   "cell_type": "code",
   "execution_count": null,
   "metadata": {},
   "outputs": [],
   "source": [
    "# 计算超额收益\n",
    "merged_df['Excess_Return_MSFT'] = merged_df['Return_MSFT'] - merged_df['GS10'] / 100\n",
    "merged_df['Excess_Return_AAPL'] = merged_df['Return_AAPL'] - merged_df['GS10'] / 100\n",
    "merged_df['Excess_Return_GOOGL'] = merged_df['Return'] - merged_df['GS10'] / 100\n",
    "\n",
    "# 查看超额收益数据\n",
    "print(\"合并数据集前5行:\")\n",
    "display(merged_df.head())"
   ]
  },
  {
   "cell_type": "markdown",
   "metadata": {},
   "source": [
    "## 1.10 建立APT模型"
   ]
  },
  {
   "cell_type": "code",
   "execution_count": null,
   "metadata": {},
   "outputs": [],
   "source": [
    "# 设置回归的自变量（宏观经济因子）\n",
    "factors = merged_df[['GS10', 'UNRATE', 'CPIAUCSL', 'GDP']]\n",
    "factors = sm.add_constant(factors)  # 加入常数项\n",
    "\n",
    "# 因变量：超额回报\n",
    "y_msft = merged_df['Excess_Return_MSFT']\n",
    "y_aapl = merged_df['Excess_Return_AAPL']\n",
    "y_googl = merged_df['Excess_Return_GOOGL']\n",
    "\n",
    "# 进行回归分析\n",
    "model_msft = sm.OLS(y_msft, factors).fit()\n",
    "model_aapl = sm.OLS(y_aapl, factors).fit()\n",
    "model_googl = sm.OLS(y_googl, factors).fit()"
   ]
  },
  {
   "cell_type": "markdown",
   "metadata": {},
   "source": [
    "## 1.11 分析回归结果"
   ]
  },
  {
   "cell_type": "code",
   "execution_count": null,
   "metadata": {},
   "outputs": [],
   "source": [
    "# 输出回归结果\n",
    "print(\"MSFT回归结果：\")\n",
    "display(model_msft.summary())\n",
    "\n",
    "print(\"\\nAAPL回归结果：\")\n",
    "display(model_aapl.summary())\n",
    "\n",
    "print(\"\\nGOOGL回归结果：\")\n",
    "display(model_googl.summary())"
   ]
  },
  {
   "cell_type": "markdown",
   "metadata": {},
   "source": [
    "## 1.12 结论\n",
    "\n",
    "通过APT模型分析，我们可以观察到：\n",
    "\n",
    "1. 不同股票对宏观经济因子的敏感度各不相同\n",
    "2. 某些因子对股票收益率有显著影响，而其他因子影响较小\n",
    "3. 这种多因子模型比单因子CAPM模型能更好地解释资产收益率的变化\n",
    "\n",
    "这些结果表明，投资者在进行投资决策时，应该考虑多种宏观经济因素对不同资产的影响，而不仅仅是市场风险一个因素。"
   ]
  }
 ],
 "metadata": {
  "kernelspec": {
   "display_name": "base",
   "language": "python",
   "name": "python3"
  },
  "language_info": {
   "codemirror_mode": {
    "name": "ipython",
    "version": 3
   },
   "file_extension": ".py",
   "mimetype": "text/x-python",
   "name": "python",
   "nbconvert_exporter": "python",
   "pygments_lexer": "ipython3",
   "version": "3.9.13"
  }
 },
 "nbformat": 4,
 "nbformat_minor": 4
}
