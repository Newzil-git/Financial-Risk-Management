{
 "cells": [
  {
   "cell_type": "markdown",
   "metadata": {},
   "source": [
    "# 1.6 套利定价理论 (Arbitrage Pricing Theory, APT)\n",
    "\n",
    "## 概念介绍\n",
    "\n",
    "套利定价理论(APT)是由Stephen Ross于1976年提出的一种多因子资产定价模型，是对资本资产定价模型(CAPM)的扩展。与CAPM只考虑市场风险不同，APT认为资产回报率受多种系统性风险因子影响。\n",
    "\n",
    "### APT模型公式\n",
    "\n",
    "套利定价理论的基本方程：\n",
    "\n",
    "$$E(R_i) = R_f + \\beta_{i1}RP_1 + \\beta_{i2}RP_2 + ... + \\beta_{in}RP_n$$\n",
    "\n",
    "其中：\n",
    "- $E(R_i)$ 是资产$i$的期望收益率\n",
    "- $R_f$ 是无风险收益率\n",
    "- $\\beta_{ij}$ 是资产$i$对因子$j$的敏感度\n",
    "- $RP_j$ 是因子$j$的风险溢价\n",
    "\n",
    "### APT与CAPM的区别\n",
    "\n",
    "- **多因子模型**：APT允许多个因子影响资产收益率，而CAPM只考虑市场风险一个因子\n",
    "- **更少的假设**：APT比CAPM有更少的限制性假设，更适合现实市场\n",
    "- **因子选择灵活**：APT允许使用各种宏观经济因子，如GDP增长率、通货膨胀率、利率等\n",
    "\n",
    "在这个笔记本中，我们将使用宏观经济因子构建APT模型，分析这些因子如何影响股票收益率。"
   ]
  },
  {
   "cell_type": "markdown",
   "metadata": {},
   "source": [
    "## 1.1 安装必要的库\n",
    "\n",
    "首先安装需要用到的Python库"
   ]
  },
  {
   "cell_type": "code",
   "execution_count": null,
   "metadata": {},
   "outputs": [],
   "source": [
    "# 安装必要的库\n",
    "!pip install pandas numpy matplotlib statsmodels seaborn scikit-learn"
   ]
  },
  {
   "cell_type": "markdown",
   "metadata": {},
   "source": [
    "## 1.2 从Github上读取数据"
   ]
  },
  {
   "cell_type": "code",
   "execution_count": null,
   "metadata": {},
   "outputs": [],
   "source": [
    "!wget -O AAPL_data.csv \"https://github.com/Newzil-git/Financial-Risk-Management/blob/update-repo/FR%20Code/Part%201/AAPL_data.csv\"\n",
    "!wget -O SPY_data.csv \"https://github.com/Newzil-git/Financial-Risk-Management/blob/update-repo/FR%20Code/Part%201/SPY_data.csv\"\n",
    "!wget -O MSFT_data.csv \"\"\n",
    "!wget -O GOOGL_data.csv \"\"\n",
    "!wget -O risk_free_rate.csv \"\"\n",
    "!wget -O unemployment_rate.csv \"\"\n",
    "!wget -O inflation_rate.csv \"\"\n",
    "!wget -O gdp_data.csv \"\"\n",
    "\n",
    "# 设置数据文件路径\n",
    "file_path_msft = \"MSFT_data.csv\"\n",
    "file_path_aapl = \"AAPL_data.csv\"\n",
    "file_path_googl = \"GOOGL_data.csv\"\n",
    "file_path_market = \"SPY_data.csv\"  # 市场数据\n",
    "file_path_rf =  \"risk_free_rate.csv\"  # 无风险利率\n",
    "file_path_unrate =  \"unemployment_rate.csv\"  # 失业率\n",
    "file_path_cpi = \"inflation_rate.csv\"  # 通胀率\n",
    "file_path_gdp =  \"gdp_data.csv\"  # GDP数据"
   ]
  },
  {
   "cell_type": "markdown",
   "metadata": {},
   "source": [
    "## 1.3 导入必要的库"
   ]
  },
  {
   "cell_type": "code",
   "execution_count": null,
   "metadata": {},
   "outputs": [],
   "source": [
    "import pandas as pd\n",
    "import numpy as np\n",
    "import matplotlib.pyplot as plt\n",
    "import statsmodels.api as sm\n",
    "import seaborn as sns\n",
    "from sklearn.preprocessing import StandardScaler\n",
    "\n",
    "# 设置中文显示\n",
    "plt.rcParams['font.sans-serif'] = ['SimHei']  # 用来正常显示中文标签\n",
    "plt.rcParams['axes.unicode_minus'] = False    # 用来正常显示负号"
   ]
  },
  {
   "cell_type": "markdown",
   "metadata": {},
   "source": [
    "## 1.4 数据加载和预处理"
   ]
  },
  {
   "cell_type": "code",
   "execution_count": null,
   "metadata": {},
   "outputs": [],
   "source": [
    "# 读取股票数据和宏观经济数据\n",
    "try:\n",
    "    msft_data = pd.read_csv(file_path_msft)\n",
    "    aapl_data = pd.read_csv(file_path_aapl)\n",
    "    googl_data = pd.read_csv(file_path_googl)\n",
    "    market_data = pd.read_csv(file_path_market)\n",
    "    rf_data = pd.read_csv(file_path_rf)\n",
    "    unrate_data = pd.read_csv(file_path_unrate)\n",
    "    cpi_data = pd.read_csv(file_path_cpi)\n",
    "    gdp_data = pd.read_csv(file_path_gdp)\n",
    "    print(\"数据加载成功\")\n",
    "except Exception as e:\n",
    "    print(f\"数据加载失败: {e}\")"
   ]
  },
  {
   "cell_type": "code",
   "execution_count": null,
   "metadata": {},
   "outputs": [],
   "source": [
    "# 数据预览\n",
    "print(\"MSFT数据预览:\")\n",
    "display(msft_data.head())\n",
    "print(\"\\n无风险利率数据预览:\")\n",
    "display(rf_data.head())\n",
    "print(\"\\n失业率数据预览:\")\n",
    "display(unrate_data.head())\n",
    "print(\"\\n通胀率数据预览:\")\n",
    "display(cpi_data.head())\n",
    "print(\"\\nGDP数据预览:\")\n",
    "display(gdp_data.head())"
   ]
  },
  {
   "cell_type": "code",
   "execution_count": null,
   "metadata": {},
   "outputs": [],
   "source": [
    "# 统一列名（将 \"Close\" 重命名为 \"Adj Close\"，如果需要）\n",
    "for df in [msft_data, aapl_data, googl_data, market_data]:\n",
    "    if 'Close' in df.columns and 'Adj Close' not in df.columns:\n",
    "        df.rename(columns={'Close': 'Adj Close'}, inplace=True)\n",
    "\n",
    "# 转换日期格式\n",
    "for df in [msft_data, aapl_data, googl_data, market_data, rf_data, unrate_data, cpi_data, gdp_data]:\n",
    "    if 'Date' in df.columns:\n",
    "        try:\n",
    "            df['Date'] = pd.to_datetime(df['Date'])\n",
    "        except Exception as e:\n",
    "            print(f\"日期转换错误: {e}\")"
   ]
  },
  {
   "cell_type": "code",
   "execution_count": null,
   "metadata": {},
   "outputs": [],
   "source": [
    "# 设置日期为索引\n",
    "for df in [msft_data, aapl_data, googl_data, market_data, rf_data, unrate_data, cpi_data, gdp_data]:\n",
    "    if 'Date' in df.columns:\n",
    "        df.set_index('Date', inplace=True)\n",
    "\n",
    "# 计算每日收益率\n",
    "msft_returns = msft_data['Adj Close'].pct_change().dropna()\n",
    "aapl_returns = aapl_data['Adj Close'].pct_change().dropna()\n",
    "googl_returns = googl_data['Adj Close'].pct_change().dropna()\n",
    "market_returns = market_data['Adj Close'].pct_change().dropna()"
   ]
  },
  {
   "cell_type": "code",
   "execution_count": null,
   "metadata": {},
   "outputs": [],
   "source": [
    "# 合并股票收益率和宏观经济数据\n",
    "# 首先创建一个包含股票收益率的DataFrame\n",
    "returns_df = pd.DataFrame({\n",
    "    'MSFT': msft_returns,\n",
    "    'AAPL': aapl_returns,\n",
    "    'GOOGL': googl_returns,\n",
    "    'MKT': market_returns\n",
    "})\n",
    "\n",
    "# 将宏观经济因子添加到returns_df\n",
    "# 注意：宏观经济数据通常频率较低（月度/季度），需要进行适当的频率转换\n",
    "# 这里假设所有数据已经对齐到相同的频率\n",
    "\n",
    "# 合并无风险利率\n",
    "if 'GS10' in rf_data.columns:  # 假设10年期国债收益率的列名是'GS10'\n",
    "    returns_df = returns_df.join(rf_data['GS10'], how='left')\n",
    "\n",
    "# 合并失业率\n",
    "if 'UNRATE' in unrate_data.columns:\n",
    "    returns_df = returns_df.join(unrate_data['UNRATE'], how='left')\n",
    "\n",
    "# 合并通胀率\n",
    "if 'CPIAUCSL' in cpi_data.columns:\n",
    "    returns_df = returns_df.join(cpi_data['CPIAUCSL'], how='left')\n",
    "\n",
    "# 合并GDP\n",
    "if 'GDP' in gdp_data.columns:\n",
    "    returns_df = returns_df.join(gdp_data['GDP'], how='left')\n",
    "\n",
    "# 重置索引，将日期作为列\n",
    "returns_df = returns_df.reset_index()\n",
    "\n",
    "# 处理缺失值（前向填充宏观经济数据）\n",
    "macro_columns = ['GS10', 'UNRATE', 'CPIAUCSL', 'GDP']\n",
    "for col in macro_columns:\n",
    "    if col in returns_df.columns:\n",
    "        returns_df[col] = returns_df[col].fillna(method='ffill')\n",
    "\n",
    "# 删除仍然包含NaN的行\n",
    "returns_df = returns_df.dropna()"
   ]
  },
  {
   "cell_type": "code",
   "execution_count": null,
   "metadata": {},
   "outputs": [],
   "source": [
    "# 计算超额收益率（相对于无风险利率）\n",
    "if 'GS10' in returns_df.columns:\n",
    "    # 将年化无风险利率转换为日收益率\n",
    "    returns_df['RF_daily'] = returns_df['GS10'] / 252\n",
    "    \n",
    "    # 计算超额收益率\n",
    "    returns_df['MSFT_excess'] = returns_df['MSFT'] - returns_df['RF_daily']\n",
    "    returns_df['AAPL_excess'] = returns_df['AAPL'] - returns_df['RF_daily']\n",
    "    returns_df['GOOGL_excess'] = returns_df['GOOGL'] - returns_df['RF_daily']\n",
    "    returns_df['MKT_excess'] = returns_df['MKT'] - returns_df['RF_daily']\n",
    "\n",
    "# 基本统计信息\n",
    "print(\"超额收益率统计信息:\")\n",
    "display(returns_df[['MSFT_excess', 'AAPL_excess', 'GOOGL_excess', 'MKT_excess']].describe())\n",
    "\n",
    "print(\"\\n宏观经济因子统计信息:\")\n",
    "macro_cols = [col for col in macro_columns if col in returns_df.columns]\n",
    "display(returns_df[macro_cols].describe())"
   ]
  },
  {
   "cell_type": "markdown",
   "metadata": {},
   "source": [
    "## 2. APT模型构建\n",
    "\n",
    "在这一部分，我们将构建APT模型，分析宏观经济因子对股票超额收益率的影响。"
   ]
  },
  {
   "cell_type": "code",
   "execution_count": null,
   "metadata": {},
   "outputs": [],
   "source": [
    "# 为回归分析准备自变量（宏观经济因子）\n",
    "X_columns = [col for col in ['GS10', 'UNRATE', 'CPIAUCSL', 'GDP'] if col in returns_df.columns]\n",
    "X = returns_df[X_columns]\n",
    "\n",
    "# 添加常数项\n",
    "X = sm.add_constant(X)"
   ]
  },
  {
   "cell_type": "code",
   "execution_count": null,
   "metadata": {},
   "outputs": [],
   "source": [
    "# 对MSFT进行回归分析\n",
    "y_msft = returns_df['MSFT_excess']\n",
    "model_msft = sm.OLS(y_msft, X).fit()\n",
    "print(\"MSFT回归结果:\")\n",
    "print(model_msft.summary())"
   ]
  },
  {
   "cell_type": "code",
   "execution_count": null,
   "metadata": {},
   "outputs": [],
   "source": [
    "# 对AAPL进行回归分析\n",
    "y_aapl = returns_df['AAPL_excess']\n",
    "model_aapl = sm.OLS(y_aapl, X).fit()\n",
    "print(\"AAPL回归结果:\")\n",
    "print(model_aapl.summary())"
   ]
  },
  {
   "cell_type": "code",
   "execution_count": null,
   "metadata": {},
   "outputs": [],
   "source": [
    "# 对GOOGL进行回归分析\n",
    "y_googl = returns_df['GOOGL_excess']\n",
    "model_googl = sm.OLS(y_googl, X).fit()\n",
    "print(\"GOOGL回归结果:\")\n",
    "print(model_googl.summary())"
   ]
  },
  {
   "cell_type": "markdown",
   "metadata": {},
   "source": [
    "## 2.1 因子敏感度分析\n",
    "\n",
    "分析不同股票对宏观经济因子的敏感度（Beta系数）"
   ]
  },
  {
   "cell_type": "code",
   "execution_count": null,
   "metadata": {},
   "outputs": [],
   "source": [
    "# 提取每个股票的系数（Beta）\n",
    "betas = pd.DataFrame({\n",
    "    'MSFT': model_msft.params,\n",
    "    'AAPL': model_aapl.params,\n",
    "    'GOOGL': model_googl.params\n",
    "})\n",
    "\n",
    "# 提取显著性水平（p值）\n",
    "p_values = pd.DataFrame({\n",
    "    'MSFT': model_msft.pvalues,\n",
    "    'AAPL': model_aapl.pvalues,\n",
    "    'GOOGL': model_googl.pvalues\n",
    "})\n",
    "\n",
    "# 创建一个包含Beta系数和p值的表格\n",
    "beta_table = pd.DataFrame(index=betas.index)\n",
    "\n",
    "for stock in ['MSFT', 'AAPL', 'GOOGL']:\n",
    "    beta_table[f'{stock}_Beta'] = betas[stock]\n",
    "    beta_table[f'{stock}_p'] = p_values[stock]\n",
    "    # 标记显著性\n",
    "    beta_table[f'{stock}_Sig'] = np.where(p_values[stock] < 0.05, '*', '')\n",
    "    beta_table[f'{stock}_Sig'] = np.where(p_values[stock] < 0.01, '**', beta_table[f'{stock}_Sig'])\n",
    "    beta_table[f'{stock}_Sig'] = np.where(p_values[stock] < 0.001, '***', beta_table[f'{stock}_Sig'])\n",
    "\n",
    "display(beta_table)"
   ]
  },
  {
   "cell_type": "code",
   "execution_count": null,
   "metadata": {},
   "outputs": [],
   "source": [
    "# 计算因子的贡献\n",
    "# 假设因子的风险溢价等于因子的平均值\n",
    "risk_premiums = returns_df[X_columns].mean()\n",
    "\n",
    "# 计算每个因子对风险溢价的贡献\n",
    "contributions = pd.DataFrame(index=X_columns)\n",
    "\n",
    "for stock, model in zip(['MSFT', 'AAPL', 'GOOGL'], [model_msft, model_aapl, model_googl]):\n",
    "    # 提取除常数项外的系数\n",
    "    factor_betas = model.params[1:]\n",
    "    \n",
    "    # 计算每个因子的贡献\n",
    "    contributions[stock] = factor_betas * risk_premiums\n",
    "\n",
    "display(contributions)"
   ]
  },
  {
   "cell_type": "markdown",
   "metadata": {},
   "source": [
    "## 2.2 可视化结果"
   ]
  },
  {
   "cell_type": "code",
   "execution_count": null,
   "metadata": {},
   "outputs": [],
   "source": [
    "# 可视化Beta系数\n",
    "plt.figure(figsize=(12, 8))\n",
    "\n",
    "# 提取显著的Beta系数（p < 0.05）\n",
    "significant_betas = pd.DataFrame(index=betas.index)\n",
    "for stock in ['MSFT', 'AAPL', 'GOOGL']:\n",
    "    significant_betas[stock] = np.where(p_values[stock] < 0.05, betas[stock], np.nan)\n",
    "\n",
    "# 只考虑非常数项的因子\n",
    "factor_betas = significant_betas.iloc[1:]\n",
    "\n",
    "# 绘制条形图\n",
    "ax = factor_betas.plot(kind='bar', width=0.8)\n",
    "\n",
    "# 添加水平线表示零\n",
    "plt.axhline(y=0, color='black', linestyle='-', alpha=0.3)\n",
    "\n",
    "# 设置图表标题和标签\n",
    "plt.title('各股票对宏观经济因子的敏感度系数（显著Beta）', fontsize=14)\n",
    "plt.xlabel('宏观经济因子', fontsize=12)\n",
    "plt.ylabel('Beta系数 (敏感度)', fontsize=12)\n",
    "plt.legend(title='股票')\n",
    "plt.grid(axis='y', linestyle='--', alpha=0.7)\n",
    "\n",
    "# 显示图表\n",
    "plt.tight_layout()\n",
    "plt.show()"
   ]
  },
  {
   "cell_type": "code",
   "execution_count": null,
   "metadata": {},
   "outputs": [],
   "source": [
    "# 可视化模型解释能力（R²）\n",
    "r_squared = pd.DataFrame({\n",
    "    'R²': [model_msft.rsquared, model_aapl.rsquared, model_googl.rsquared],\n",
    "    'Adj R²': [model_msft.rsquared_adj, model_aapl.rsquared_adj, model_googl.rsquared_adj]\n",
    "}, index=['MSFT', 'AAPL', 'GOOGL'])\n",
    "\n",
    "plt.figure(figsize=(10, 6))\n",
    "r_squared.plot(kind='bar', width=0.8)\n",
    "plt.title('APT模型解释能力比较', fontsize=14)\n",
    "plt.ylabel('R²值', fontsize=12)\n",
    "plt.ylim(0, 1)  # R²范围是0到1\n",
    "plt.grid(axis='y', linestyle='--', alpha=0.7)\n",
    "plt.legend(title='指标')\n",
    "\n",
    "# 在每个柱子上添加数值标签\n",
    "for i, v in enumerate(r_squared['R²']):\n",
    "    plt.text(i-0.15, v+0.02, f'{v:.3f}', rotation=0, fontsize=10)\n",
    "for i, v in enumerate(r_squared['Adj R²']):\n",
    "    plt.text(i+0.1, v+0.02, f'{v:.3f}', rotation=0, fontsize=10)\n",
    "\n",
    "plt.tight_layout()\n",
    "plt.show()"
   ]
  },
  {
   "cell_type": "code",
   "execution_count": null,
   "metadata": {},
   "outputs": [],
   "source": [
    "# 相关性热图\n",
    "corr_matrix = returns_df[['MSFT_excess', 'AAPL_excess', 'GOOGL_excess'] + X_columns].corr()\n",
    "\n",
    "plt.figure(figsize=(10, 8))\n",
    "sns.heatmap(corr_matrix, annot=True, cmap='coolwarm', vmin=-1, vmax=1, center=0, \n",
    "            linewidths=0.5, cbar_kws={\"shrink\": 0.8})\n",
    "plt.title('因子与股票超额收益率的相关性矩阵', fontsize=14)\n",
    "plt.tight_layout()\n",
    "plt.show()"
   ]
  },
  {
   "cell_type": "code",
   "execution_count": null,
   "metadata": {},
   "outputs": [],
   "source": [
    "# 可视化预测值与实际值的比较\n",
    "plt.figure(figsize=(10, 8))\n",
    "\n",
    "# 为每只股票创建一个子图\n",
    "for i, (stock, model, y) in enumerate(zip(['MSFT', 'AAPL', 'GOOGL'], [model_msft, model_aapl, model_googl], [y_msft, y_aapl, y_googl])):\n",
    "    plt.subplot(2, 2, i+1)\n",
    "    \n",
    "    # 绘制散点图\n",
    "    plt.scatter(y, model.predict(), alpha=0.5)\n",
    "    \n",
    "    # 添加45度线（完美预测）\n",
    "    min_val = min(min(y), min(model.predict()))\n",
    "    max_val = max(max(y), max(model.predict()))\n",
    "    plt.plot([min_val, max_val], [min_val, max_val], 'r--')\n",
    "    \n",
    "    # 添加标题和标签\n",
    "    plt.title(f'{stock} 预测值 vs 实际值', fontsize=12)\n",
    "    plt.xlabel('实际超额收益率', fontsize=10)\n",
    "    plt.ylabel('预测超额收益率', fontsize=10)\n",
    "    plt.grid(True, linestyle='--', alpha=0.7)\n",
    "\n",
    "plt.tight_layout()\n",
    "plt.show()"
   ]
  },
  {
   "cell_type": "markdown",
   "metadata": {},
   "source": [
    "## 2.3 结果分析与解释\n",
    "\n",
    "通过上述APT模型分析，我们可以得出以下结论：\n",
    "\n",
    "1. **模型解释能力分析**：\n",
    "   - 多因子APT模型对MSFT、AAPL和GOOGL超额收益率的解释能力（R²）分别为[模型R²值]\n",
    "   - 调整后的R²值考虑了变量数量的影响，更准确地反映了模型的解释能力\n",
    "   - 总体来看，宏观经济因子能够解释股票超额收益的一部分变动，但仍有较大部分由其他因素（如公司特质因素）驱动\n",
    "\n",
    "2. **因子敏感度分析**：\n",
    "   - 利率(GS10)：[利率对各股票的影响分析]\n",
    "   - 失业率(UNRATE)：[失业率对各股票的影响分析]\n",
    "   - 通胀率(CPIAUCSL)：[通胀率对各股票的影响分析] \n",
    "   - GDP：[GDP对各股票的影响分析]\n",
    "   - 不同科技股对宏观经济因子的敏感度各不相同，反映了它们业务模式和风险特征的差异\n",
    "\n",
    "3. **股票间对比**：\n",
    "   - MSFT：[微软公司对宏观经济因子的敏感度特点]\n",
    "   - AAPL：[苹果公司对宏观经济因子的敏感度特点] \n",
    "   - GOOGL：[谷歌公司对宏观经济因子的敏感度特点]\n",
    "   - 三家科技巨头虽同属技术行业，但对宏观经济环境的反应存在一定差异\n",
    "   \n",
    "4. **投资策略建议**：\n",
    "   - 基于APT模型结果，投资者可以根据对未来宏观经济因子的预期来调整投资组合\n",
    "   - 例如，如果预期利率将上升，可以增持对利率变动敏感度较低或呈负相关的股票\n",
    "   - 多元化投资不同对宏观因子敏感度的股票，可以降低组合的系统性风险\n",
    "\n",
    "5. **模型局限性**：\n",
    "   - APT模型假设线性关系，但实际市场中因子与收益率的关系可能更为复杂\n",
    "   - 本分析使用历史数据，未来关系可能发生变化\n",
    "   - 可能存在遗漏的重要因子，如行业特定因子、全球经济因子等\n",
    "   - 定期更新模型并结合其他评估方法将有助于提高投资决策的准确性"
   ]
  }
 ],
 "metadata": {
  "kernelspec": {
   "display_name": "Python 3",
   "language": "python",
   "name": "python3"
  },
  "language_info": {
   "codemirror_mode": {
    "name": "ipython",
    "version": 3
   },
   "file_extension": ".py",
   "mimetype": "text/x-python",
   "name": "python",
   "nbconvert_exporter": "python",
   "pygments_lexer": "ipython3",
   "version": "3.8.8"
  }
 },
 "nbformat": 4,
 "nbformat_minor": 4
}
