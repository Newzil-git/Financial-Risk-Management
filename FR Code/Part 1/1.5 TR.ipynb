{
 "cells": [
  {
   "cell_type": "code",
   "execution_count": null,
   "id": "3b4f6f3e",
   "metadata": {},
   "outputs": [],
   "source": [
    "import pandas as pd\n",
    "import numpy as np\n",
    "import matplotlib.pyplot as plt\n",
    "import statsmodels.api as sm"
   ]
  },
  {
   "cell_type": "code",
   "execution_count": null,
   "id": "5d48723e",
   "metadata": {},
   "outputs": [],
   "source": [
    "# 无风险收益率\n",
    "risk_free_rate = 0.02 / 252  # 假设年利率为 2%，转换为日利率"
   ]
  },
  {
   "cell_type": "code",
   "execution_count": null,
   "id": "fbc4f5d6",
   "metadata": {},
   "outputs": [],
   "source": [
    "file_path_aapl = \"AAPL_data.csv\"\n",
    "file_path_spy = \"SPY_data.csv\""
   ]
  },
  {
   "cell_type": "code",
   "execution_count": null,
   "id": "60468f96",
   "metadata": {},
   "outputs": [],
   "source": [
    "# 读取 CSV 并跳过前两行\n",
    "column_names = [\"Date\", \"Open\", \"High\", \"Low\", \"Close\", \"Volume\"]"
   ]
  },
  {
   "cell_type": "code",
   "execution_count": null,
   "id": "9a0e4c00",
   "metadata": {},
   "outputs": [],
   "source": [
    "data_aapl = pd.read_csv(file_path_aapl, skiprows=3, names=column_names)\n",
    "data_spy = pd.read_csv(file_path_spy, skiprows=3, names=column_names)"
   ]
  },
  {
   "cell_type": "code",
   "execution_count": null,
   "id": "7b1910d1",
   "metadata": {},
   "outputs": [],
   "source": [
    "# 统一列名（将 \"Close\" 重命名为 \"Adj Close\"）\n",
    "data_aapl.rename(columns={'Close': 'Adj Close'}, inplace=True)\n",
    "data_spy.rename(columns={'Close': 'Adj Close'}, inplace=True)"
   ]
  },
  {
   "cell_type": "code",
   "execution_count": null,
   "id": "0d68fbc6",
   "metadata": {},
   "outputs": [],
   "source": [
    "# 转换日期格式并设置索引\n",
    "data_aapl['Date'] = pd.to_datetime(data_aapl['Date'], format=\"%Y/%m/%d\")\n",
    "data_spy['Date'] = pd.to_datetime(data_spy['Date'])"
   ]
  },
  {
   "cell_type": "code",
   "execution_count": null,
   "id": "d82a49c2",
   "metadata": {},
   "outputs": [],
   "source": [
    "data_aapl.set_index('Date', inplace=True)\n",
    "data_spy.set_index('Date', inplace=True)"
   ]
  },
  {
   "cell_type": "code",
   "execution_count": null,
   "id": "ce065431",
   "metadata": {},
   "outputs": [],
   "source": [
    "# 计算每日收益率\n",
    "data_aapl['Daily Return'] = data_aapl['Adj Close'].pct_change()\n",
    "data_spy['Daily Return'] = data_spy['Adj Close'].pct_change()"
   ]
  },
  {
   "cell_type": "code",
   "execution_count": null,
   "id": "fe901814",
   "metadata": {},
   "outputs": [],
   "source": [
    "# 计算 Beta 值（AAPL 与 SPY 的回归分析）\n",
    "X = sm.add_constant(data_spy['Daily Return'].dropna())  # 加入常数项（截距）\n",
    "y = data_aapl['Daily Return'].dropna()"
   ]
  },
  {
   "cell_type": "code",
   "execution_count": null,
   "id": "b2f41f02",
   "metadata": {},
   "outputs": [],
   "source": [
    "# 回归分析\n",
    "model = sm.OLS(y, X).fit()\n",
    "beta_aapl = model.params[1]"
   ]
  },
  {
   "cell_type": "code",
   "execution_count": null,
   "id": "1989f23f",
   "metadata": {},
   "outputs": [],
   "source": [
    "# 计算 AAPL 和 SPY 的平均回报（日回报）\n",
    "mu_aapl = data_aapl['Daily Return'].mean()\n",
    "mu_spy = data_spy['Daily Return'].mean()"
   ]
  },
  {
   "cell_type": "code",
   "execution_count": null,
   "id": "80dbc0ee",
   "metadata": {},
   "outputs": [],
   "source": [
    "# 计算 Treynor 比率\n",
    "treynor_aapl = (mu_aapl - risk_free_rate) / beta_aapl\n",
    "treynor_spy = (mu_spy - risk_free_rate) / 1  # SPY 的 Beta 值假定为 1，因为 SPY 是市场本身"
   ]
  },
  {
   "cell_type": "code",
   "execution_count": null,
   "id": "3929d27f",
   "metadata": {},
   "outputs": [],
   "source": [
    "# 打印计算结果\n",
    "print(f\"AAPL 的 Beta 值: {beta_aapl:.4f}\")\n",
    "print(f\"AAPL 的每日平均回报: {mu_aapl:.4f}\")\n",
    "print(f\"AAPL 的 Treynor 比率: {treynor_aapl:.4f}\")"
   ]
  },
  {
   "cell_type": "code",
   "execution_count": null,
   "id": "78569f5d",
   "metadata": {
    "lines_to_next_cell": 2
   },
   "outputs": [],
   "source": [
    "print(f\"SPY 的 Beta 值: 1.0000\")\n",
    "print(f\"SPY 的每日平均回报: {mu_spy:.4f}\")\n",
    "print(f\"SPY 的 Treynor 比率: {treynor_spy:.4f}\")"
   ]
  }
 ],
 "metadata": {
  "jupytext": {
   "cell_metadata_filter": "-all",
   "main_language": "python",
   "notebook_metadata_filter": "-all"
  }
 },
 "nbformat": 4,
 "nbformat_minor": 5
}
