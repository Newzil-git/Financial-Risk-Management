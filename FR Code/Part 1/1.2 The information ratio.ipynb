{
 "cells": [
  {
   "cell_type": "markdown",
   "metadata": {},
   "source": [
    "# 1.2 信息比率 (Information Ratio)\n",
    "\n",
    "## 概念介绍\n",
    "\n",
    "信息比率是一种风险调整收益指标，用于衡量投资组合相对于基准指数的超额收益与超额风险之比。信息比率衡量了投资经理在承担主动风险的情况下产生的超额收益能力。\n",
    "\n",
    "### 信息比率公式\n",
    "\n",
    "$Information\\ Ratio = \\frac{R_p - R_b}{\\sigma(R_p - R_b)}$\n",
    "\n",
    "其中：\n",
    "- $R_p$ 是投资组合的收益率\n",
    "- $R_b$ 是基准指数的收益率\n",
    "- $\\sigma(R_p - R_b)$ 是投资组合相对于基准的超额收益率的标准差（跟踪误差）\n",
    "\n",
    "信息比率越高，表示投资经理在单位主动风险下产生的超额收益越高，意味着投资策略相对于基准指数的表现越好。通常，信息比率大于0.4被认为表现良好，大于0.6被认为表现非常好。"
   ]
  },
  {
   "cell_type": "markdown",
   "metadata": {},
   "source": [
    "## 1.1 安装必要的库\n",
    "\n",
    "首先安装需要用到的Python库"
   ]
  },
  {
   "cell_type": "code",
   "execution_count": null,
   "metadata": {},
   "outputs": [],
   "source": [
    "# 安装必要的库\n",
    "!pip install pandas numpy matplotlib"
   ]
  },
  {
   "cell_type": "markdown",
   "metadata": {},
   "source": [
    "## 1.2 从Github加载数据"
   ]
  },
  {
   "cell_type": "code",
   "execution_count": null,
   "metadata": {},
   "outputs": [],
   "source": [
    "!wget -O AAPL_data.csv \"https://raw.githubusercontent.com/Newzil-git/Financial-Risk-Management/main/FR%20Code/Part%201/AAPL_data.csv\"\n",
    "!wget -O SPY_data.csv \"https://raw.githubusercontent.com/Newzil-git/Financial-Risk-Management/main/FR%20Code/Part%201/1.6_market_data.csv\"\n",
    "file_path_aapl = \"AAPL_data.csv\"\n",
    "file_path_spy = \"SPY_data.csv\""
   ]
  },
  {
   "cell_type": "markdown",
   "metadata": {},
   "source": [
    "## 1.3 导入必要的库"
   ]
  },
  {
   "cell_type": "code",
   "execution_count": 3,
   "metadata": {},
   "outputs": [],
   "source": [
    "import pandas as pd\n",
    "import numpy as np\n",
    "import matplotlib.pyplot as plt\n",
    "\n",
    "# 设置中文显示\n",
    "plt.rcParams['font.sans-serif'] = ['SimHei']  # 用来正常显示中文标签\n",
    "plt.rcParams['axes.unicode_minus'] = False    # 用来正常显示负号"
   ]
  },
  {
   "cell_type": "markdown",
   "metadata": {},
   "source": [
    "## 1.4 数据加载和预处理"
   ]
  },
  {
   "cell_type": "code",
   "execution_count": null,
   "metadata": {},
   "outputs": [],
   "source": [
    "# 加载数据\n",
    "try:\n",
    "    spy_data = pd.read_csv(file_path_spy)\n",
    "    aapl_data = pd.read_csv(file_path_aapl)\n",
    "    print(\"数据加载成功\")\n",
    "except Exception as e:\n",
    "    print(f\"数据加载失败: {e}\")\n",
    "    # 如果从Google Drive加载失败，尝试从当前目录加载\n",
    "    try:\n",
    "        spy_data = pd.read_csv('S&P_500（B）_data.csv')\n",
    "        aapl_data = pd.read_csv('AAPL_data.csv')\n",
    "        print(\"从当前目录加载数据成功\")\n",
    "    except Exception as e:\n",
    "        print(f\"数据加载再次失败: {e}\")"
   ]
  },
  {
   "cell_type": "code",
   "execution_count": null,
   "metadata": {},
   "outputs": [],
   "source": [
    "# 数据预览\n",
    "print(\"AAPL数据预览:\")\n",
    "display(aapl_data.head())\n",
    "print(\"\\nS&P 500数据预览:\")\n",
    "display(spy_data.head())"
   ]
  },
  {
   "cell_type": "code",
   "execution_count": null,
   "metadata": {},
   "outputs": [],
   "source": [
    "# 数据清理，去掉无效的行（空值或无效数据）\n",
    "aapl_data_clean = aapl_data[pd.to_numeric(aapl_data['Close'], errors='coerce').notnull()].reset_index(drop=True)\n",
    "spy_data_clean = spy_data[pd.to_numeric(spy_data['Close'], errors='coerce').notnull()].reset_index(drop=True)\n",
    "\n",
    "# 提取收盘价数据\n",
    "spy_close_clean = spy_data_clean['Close'].dropna().astype(float)\n",
    "aapl_close_clean = aapl_data_clean['Close'].dropna().astype(float)\n",
    "\n",
    "# 查看清理后的数据统计\n",
    "print(\"清理后AAPL数据统计:\")\n",
    "display(aapl_close_clean.describe())\n",
    "print(\"\\n清理后S&P 500数据统计:\")\n",
    "display(spy_close_clean.describe())"
   ]
  },
  {
   "cell_type": "markdown",
   "metadata": {},
   "source": [
    "## 1.5 计算信息比率"
   ]
  },
  {
   "cell_type": "code",
   "execution_count": null,
   "metadata": {},
   "outputs": [],
   "source": [
    "# 计算每日收益率（对数收益率）\n",
    "spy_returns = np.log(spy_close_clean / spy_close_clean.shift(1)).dropna()\n",
    "aapl_returns = np.log(aapl_close_clean / aapl_close_clean.shift(1)).dropna()\n",
    "\n",
    "# 收益率预览\n",
    "print(\"AAPL日收益率:\")\n",
    "display(aapl_returns.head())\n",
    "print(\"\\nS&P 500日收益率:\")\n",
    "display(spy_returns.head())"
   ]
  },
  {
   "cell_type": "code",
   "execution_count": null,
   "metadata": {},
   "outputs": [],
   "source": [
    "# 计算平均收益率和标准差\n",
    "avg_spy = spy_returns.mean()\n",
    "avg_aapl = aapl_returns.mean()\n",
    "std_spy = spy_returns.std()\n",
    "std_aapl = aapl_returns.std()\n",
    "\n",
    "# 计算信息比率\n",
    "# 信息比率 = (投资组合收益率 - 基准收益率) / 跟踪误差\n",
    "# 跟踪误差是投资组合相对于基准的超额收益的标准差\n",
    "tracking_error = np.sqrt(std_aapl**2 + std_spy**2)  # 简化计算，实际应使用超额收益的标准差\n",
    "ir = (avg_aapl - avg_spy) / tracking_error\n",
    "\n",
    "# 显示计算结果\n",
    "print(f\"AAPL平均日收益率: {avg_aapl:.6f}\")\n",
    "print(f\"S&P 500平均日收益率: {avg_spy:.6f}\")\n",
    "print(f\"AAPL波动率: {std_aapl:.6f}\")\n",
    "print(f\"S&P 500波动率: {std_spy:.6f}\")\n",
    "print(f\"跟踪误差: {tracking_error:.6f}\")\n",
    "print(f\"信息比率: {ir:.6f}\")"
   ]
  },
  {
   "cell_type": "code",
   "execution_count": null,
   "metadata": {},
   "outputs": [],
   "source": [
    "# 生成结果表格\n",
    "performance_table = pd.DataFrame({\n",
    "    '平均收益率': [avg_aapl, avg_spy],\n",
    "    '波动率': [std_aapl, std_spy],\n",
    "    '信息比率': [ir, float('nan')]\n",
    "}, index=['投资组合P (AAPL)', '基准B (S&P 500)'])\n",
    "\n",
    "display(performance_table)"
   ]
  },
  {
   "cell_type": "markdown",
   "metadata": {},
   "source": [
    "## 1.6 结果可视化"
   ]
  },
  {
   "cell_type": "code",
   "execution_count": null,
   "metadata": {},
   "outputs": [],
   "source": [
    "# 可视化价格走势\n",
    "plt.figure(figsize=(12, 6))\n",
    "\n",
    "# 创建两个Y轴\n",
    "ax1 = plt.gca()\n",
    "ax2 = ax1.twinx()\n",
    "\n",
    "# 绘制AAPL价格走势\n",
    "ax1.plot(aapl_close_clean.values, 'b-', label='AAPL价格')\n",
    "ax1.set_xlabel('交易日')\n",
    "ax1.set_ylabel('AAPL价格 ($)', color='b')\n",
    "ax1.tick_params('y', colors='b')\n",
    "\n",
    "# 绘制S&P 500价格走势\n",
    "ax2.plot(spy_close_clean.values, 'r-', label='S&P 500价格')\n",
    "ax2.set_ylabel('S&P 500价格 ($)', color='r')\n",
    "ax2.tick_params('y', colors='r')\n",
    "\n",
    "# 设置图例和标题\n",
    "lines1, labels1 = ax1.get_legend_handles_labels()\n",
    "lines2, labels2 = ax2.get_legend_handles_labels()\n",
    "ax1.legend(lines1 + lines2, labels1 + labels2, loc='upper left')\n",
    "\n",
    "plt.title('AAPL与S&P 500价格走势对比')\n",
    "plt.grid(True)\n",
    "plt.show()"
   ]
  },
  {
   "cell_type": "code",
   "execution_count": null,
   "metadata": {},
   "outputs": [],
   "source": [
    "# 可视化收益率分布\n",
    "plt.figure(figsize=(12, 6))\n",
    "\n",
    "plt.subplot(1, 2, 1)\n",
    "plt.hist(aapl_returns, bins=50, alpha=0.6, color='blue')\n",
    "plt.axvline(avg_aapl, color='red', linestyle='dashed', linewidth=2)\n",
    "plt.title('AAPL日收益率分布')\n",
    "plt.xlabel('收益率')\n",
    "plt.ylabel('频率')\n",
    "plt.grid(True)\n",
    "\n",
    "plt.subplot(1, 2, 2)\n",
    "plt.hist(spy_returns, bins=50, alpha=0.6, color='red')\n",
    "plt.axvline(avg_spy, color='blue', linestyle='dashed', linewidth=2)\n",
    "plt.title('S&P 500日收益率分布')\n",
    "plt.xlabel('收益率')\n",
    "plt.ylabel('频率')\n",
    "plt.grid(True)\n",
    "\n",
    "plt.tight_layout()\n",
    "plt.show()"
   ]
  },
  {
   "cell_type": "code",
   "execution_count": null,
   "metadata": {},
   "outputs": [],
   "source": [
    "# 可视化超额收益\n",
    "# 计算每日超额收益\n",
    "min_length = min(len(aapl_returns), len(spy_returns))\n",
    "excess_returns = aapl_returns[:min_length].values - spy_returns[:min_length].values\n",
    "\n",
    "plt.figure(figsize=(12, 6))\n",
    "plt.plot(excess_returns, color='green')\n",
    "plt.axhline(y=0, color='black', linestyle='-')\n",
    "plt.axhline(y=excess_returns.mean(), color='red', linestyle='--', label=f'平均超额收益: {excess_returns.mean():.6f}')\n",
    "plt.title('AAPL相对于S&P 500的每日超额收益')\n",
    "plt.xlabel('交易日')\n",
    "plt.ylabel('超额收益')\n",
    "plt.legend()\n",
    "plt.grid(True)\n",
    "plt.show()"
   ]
  },
  {
   "cell_type": "markdown",
   "metadata": {},
   "source": [
    "## 1.7 结果分析与解释\n",
    "\n",
    "通过上述计算和可视化，我们可以得出以下结论：\n",
    "\n",
    "1. **信息比率解读**：\n",
    "   - 计算得到的信息比率为{ir:.4f}\n",
    "   - 信息比率大于0表示AAPL相对于S&P 500指数有超额收益\n",
    "   - 信息比率的大小反映了投资组合经理在单位追踪误差下获取超额收益的能力\n",
    "\n",
    "2. **收益率分析**：\n",
    "   - AAPL的平均日收益率为{avg_aapl:.6f}，而S&P 500的平均日收益率为{avg_spy:.6f}\n",
    "   - 这表明AAPL相对于市场基准有{(avg_aapl-avg_spy):.6f}的超额收益率\n",
    "\n",
    "3. **波动率分析**：\n",
    "   - AAPL的波动率为{std_aapl:.6f}，而S&P 500的波动率为{std_spy:.6f}\n",
    "   - 这表明AAPL的风险水平{'高于' if std_aapl > std_spy else '低于'}市场基准\n",
    "\n",
    "4. **超额收益的一致性**：\n",
    "   - 通过超额收益图表，我们可以观察AAPL相对于S&P 500的表现是否一致\n",
    "   - 图表显示的波动表明投资组合的超额收益并非时刻保持一致\n",
    "\n",
    "5. **投资建议**：\n",
    "   - 根据信息比率的结果，投资者可以评估是否值得投资于AAPL而非S&P 500指数\n",
    "   - 信息比率需要结合其他指标一起考虑，如夏普比率、特雷诺比率等"
   ]
  }
 ],
 "metadata": {
  "kernelspec": {
   "display_name": "base",
   "language": "python",
   "name": "python3"
  },
  "language_info": {
   "codemirror_mode": {
    "name": "ipython",
    "version": 3
   },
   "file_extension": ".py",
   "mimetype": "text/x-python",
   "name": "python",
   "nbconvert_exporter": "python",
   "pygments_lexer": "ipython3",
   "version": "3.9.13"
  }
 },
 "nbformat": 4,
 "nbformat_minor": 4
}
