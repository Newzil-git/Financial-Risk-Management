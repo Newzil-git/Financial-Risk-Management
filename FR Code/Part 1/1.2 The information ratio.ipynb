{
 "cells": [
  {
   "cell_type": "code",
   "execution_count": null,
   "id": "c0ab5375",
   "metadata": {},
   "outputs": [],
   "source": [
    "import pandas as pd\n",
    "import numpy as np\n",
    "import matplotlib.pyplot as plt"
   ]
  },
  {
   "cell_type": "code",
   "execution_count": null,
   "id": "b3d48024",
   "metadata": {},
   "outputs": [],
   "source": [
    "spy_data = pd.read_csv('S&P_500（B）_data.csv')\n",
    "aapl_data = pd.read_csv('AAPL_data.csv')"
   ]
  },
  {
   "cell_type": "code",
   "execution_count": null,
   "id": "9e2e1333",
   "metadata": {},
   "outputs": [],
   "source": [
    "# 清理数据，去掉无效的行（空值或无效数据）\n",
    "aapl_data_clean = aapl_data[pd.to_numeric(aapl_data['Close'], errors='coerce').notnull()].reset_index(drop=True)\n",
    "spy_data_clean = spy_data[pd.to_numeric(spy_data['Close'], errors='coerce').notnull()].reset_index(drop=True)"
   ]
  },
  {
   "cell_type": "code",
   "execution_count": null,
   "id": "f9606086",
   "metadata": {},
   "outputs": [],
   "source": [
    "# 提取收盘价数据\n",
    "spy_close_clean = spy_data_clean['Close'].dropna().astype(float)\n",
    "aapl_close_clean = aapl_data_clean['Close'].dropna().astype(float)"
   ]
  },
  {
   "cell_type": "code",
   "execution_count": null,
   "id": "0cc4c416",
   "metadata": {},
   "outputs": [],
   "source": [
    "# 计算每日收益率（对数收益率）\n",
    "spy_returns = np.log(spy_close_clean / spy_close_clean.shift(1)).dropna()\n",
    "aapl_returns = np.log(aapl_close_clean / aapl_close_clean.shift(1)).dropna()"
   ]
  },
  {
   "cell_type": "code",
   "execution_count": null,
   "id": "dc95d2a5",
   "metadata": {},
   "outputs": [],
   "source": [
    "# 计算平均收益率和标准差\n",
    "avg_spy = spy_returns.mean()\n",
    "avg_aapl = aapl_returns.mean()\n",
    "std_spy = spy_returns.std()\n",
    "std_aapl = aapl_returns.std()"
   ]
  },
  {
   "cell_type": "code",
   "execution_count": null,
   "id": "965d9d6d",
   "metadata": {},
   "outputs": [],
   "source": [
    "# 计算信息比率\n",
    "ir = (avg_aapl - avg_spy) / np.sqrt(std_aapl**2 + std_spy**2)"
   ]
  },
  {
   "cell_type": "code",
   "execution_count": null,
   "id": "f442d754",
   "metadata": {},
   "outputs": [],
   "source": [
    "# 生成结果表格\n",
    "performance_table = pd.DataFrame({\n",
    "    'Average': [avg_aapl, avg_spy],\n",
    "    'Volatility': [std_aapl, std_spy],\n",
    "    'Performance': [ir, None]\n",
    "}, index=['Portfolio P (AAPL)', 'Benchmark B (S&P 500)'])"
   ]
  },
  {
   "cell_type": "code",
   "execution_count": null,
   "id": "984582a1",
   "metadata": {},
   "outputs": [],
   "source": [
    "print(performance_table)"
   ]
  }
 ],
 "metadata": {
  "jupytext": {
   "cell_metadata_filter": "-all",
   "main_language": "python",
   "notebook_metadata_filter": "-all"
  }
 },
 "nbformat": 4,
 "nbformat_minor": 5
}
