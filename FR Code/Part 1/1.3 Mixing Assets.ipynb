{
 "cells": [
  {
   "cell_type": "markdown",
   "metadata": {},
   "source": [
    "# 1.3 资产组合 (Mixing Assets)\n",
    "\n",
    "## 概念介绍\n",
    "\n",
    "资产组合理论是现代投资理论的核心，由哈里·马科维茨(Harry Markowitz)于1952年提出。该理论研究如何通过组合不同的资产来获得最优的风险回报特性。通过在不相关或低相关的资产间进行多元化投资，可以降低投资组合的整体风险，同时保持一定的收益水平。\n",
    "\n",
    "### 投资组合收益与风险\n",
    "\n",
    "投资组合的期望收益率是各资产期望收益率的加权平均：\n",
    "\n",
    "$E(R_p) = \\sum_{i=1}^{n} w_i \\cdot E(R_i)$\n",
    "\n",
    "投资组合的方差（风险的平方）计算涉及资产间的协方差：\n",
    "\n",
    "$\\sigma_p^2 = \\sum_{i=1}^{n} \\sum_{j=1}^{n} w_i \\cdot w_j \\cdot \\sigma_{ij}$\n",
    "\n",
    "其中：\n",
    "- $E(R_p)$ 是投资组合的期望收益率\n",
    "- $w_i$ 是第i个资产的权重\n",
    "- $E(R_i)$ 是第i个资产的期望收益率\n",
    "- $\\sigma_p^2$ 是投资组合的方差\n",
    "- $\\sigma_{ij}$ 是资产i和资产j之间的协方差\n",
    "\n",
    "对于两资产组合，风险计算可以简化为：\n",
    "\n",
    "$\\sigma_p = \\sqrt{w_1^2 \\cdot \\sigma_1^2 + w_2^2 \\cdot \\sigma_2^2 + 2 \\cdot w_1 \\cdot w_2 \\cdot \\rho_{12} \\cdot \\sigma_1 \\cdot \\sigma_2}$\n",
    "\n",
    "其中：\n",
    "- $\\sigma_p$ 是投资组合的标准差（风险）\n",
    "- $\\sigma_1$ 和 $\\sigma_2$ 是两个资产的标准差\n",
    "- $\\rho_{12}$ 是两个资产之间的相关系数"
   ]
  },
  {
   "cell_type": "markdown",
   "metadata": {},
   "source": [
    "## 1.1 安装必要的库\n",
    "\n",
    "首先安装需要用到的Python库"
   ]
  },
  {
   "cell_type": "code",
   "execution_count": null,
   "metadata": {},
   "outputs": [],
   "source": [
    "# 安装必要的库\n",
    "!pip install pandas numpy matplotlib yfinance"
   ]
  },
  {
   "cell_type": "markdown",
   "metadata": {},
   "source": [
    "## 1.2 从Github加载数据"
   ]
  },
  {
   "cell_type": "code",
   "execution_count": null,
   "metadata": {},
   "outputs": [],
   "source": [
    "!wget -O AAPL_data.csv \"https://github.com/Newzil-git/Financial-Risk-Management/blob/update-repo/FR%20Code/Part%201/AAPL_data.csv\"\n",
    "!wget -O \"US_national_debt _data.csv\" \"https://github.com/Newzil-git/Financial-Risk-Management/blob/update-repo/FR%20Code/Part%201/US_national_debt%20_data.csv\"\n",
    "file_path_aapl = \"AAPL_data.csv\"\n",
    "file_path_debt = \"US_national_debt _data.csv\""
   ]
  },
  {
   "cell_type": "markdown",
   "metadata": {},
   "source": [
    "## 1.3 导入必要的库"
   ]
  },
  {
   "cell_type": "code",
   "execution_count": null,
   "metadata": {},
   "outputs": [],
   "source": [
    "import pandas as pd\n",
    "import numpy as np\n",
    "import matplotlib.pyplot as plt\n",
    "import yfinance as yf\n",
    "\n",
    "# 设置中文显示\n",
    "plt.rcParams['font.sans-serif'] = ['SimHei']  # 用来正常显示中文标签\n",
    "plt.rcParams['axes.unicode_minus'] = False    # 用来正常显示负号"
   ]
  },
  {
   "cell_type": "markdown",
   "metadata": {},
   "source": [
    "## 1.4 数据加载和预处理"
   ]
  },
  {
   "cell_type": "code",
   "execution_count": null,
   "metadata": {},
   "outputs": [],
   "source": [
    "# 读取AAPL数据和US国债数据\n",
    "try:\n",
    "    aapl_data = pd.read_csv(file_path_aapl)\n",
    "    debt_data = pd.read_csv(file_path_debt)\n",
    "    print(\"数据加载成功\")\n",
    "except Exception as e:\n",
    "    print(f\"数据加载失败: {e}\")\n",
    "    # 如果从Google Drive加载失败，尝试从当前目录加载\n",
    "    try:\n",
    "        aapl_data = pd.read_csv('AAPL_data.csv')\n",
    "        debt_data = pd.read_csv('US_national_debt _data.csv')\n",
    "        print(\"从当前目录加载数据成功\")\n",
    "    except Exception as e:\n",
    "        print(f\"数据加载再次失败: {e}\")"
   ]
  },
  {
   "cell_type": "code",
   "execution_count": null,
   "metadata": {},
   "outputs": [],
   "source": [
    "# 数据预览\n",
    "print(\"AAPL数据预览:\")\n",
    "display(aapl_data.head())\n",
    "print(\"\\nUS国债数据预览:\")\n",
    "display(debt_data.head())"
   ]
  },
  {
   "cell_type": "code",
   "execution_count": null,
   "metadata": {},
   "outputs": [],
   "source": [
    "# 提取收盘价数据并计算对数收益率\n",
    "try:\n",
    "    aapl_data['Close'] = pd.to_numeric(aapl_data['Close'], errors='coerce')\n",
    "    debt_data['Close'] = pd.to_numeric(debt_data['Close'], errors='coerce')\n",
    "    \n",
    "    # 检查数据是否正确转换\n",
    "    print(\"AAPL收盘价数据类型:\", type(aapl_data['Close'].iloc[0]))\n",
    "    print(\"US国债收盘价数据类型:\", type(debt_data['Close'].iloc[0]))\n",
    "    \n",
    "    # 数据统计\n",
    "    print(\"\\nAAPL收盘价统计:\")\n",
    "    display(aapl_data['Close'].describe())\n",
    "    print(\"\\nUS国债收盘价统计:\")\n",
    "    display(debt_data['Close'].describe())\n",
    "except Exception as e:\n",
    "    print(f\"数据类型转换错误: {e}\")"
   ]
  },
  {
   "cell_type": "markdown",
   "metadata": {},
   "source": [
    "## 1.5 计算收益率和波动率"
   ]
  },
  {
   "cell_type": "code",
   "execution_count": null,
   "metadata": {},
   "outputs": [],
   "source": [
    "# 计算每日收益率（对数收益率）\n",
    "aapl_returns = np.log(aapl_data['Close'] / aapl_data['Close'].shift(1)).dropna()\n",
    "debt_returns = np.log(debt_data['Close'] / debt_data['Close'].shift(1)).dropna()\n",
    "\n",
    "# 收益率预览\n",
    "print(\"AAPL日收益率:\")\n",
    "display(aapl_returns.head())\n",
    "print(\"\\nUS国债日收益率:\")\n",
    "display(debt_returns.head())"
   ]
  },
  {
   "cell_type": "code",
   "execution_count": null,
   "metadata": {},
   "outputs": [],
   "source": [
    "# 计算平均收益率和波动率（标准差）\n",
    "avg_aapl = aapl_returns.mean()\n",
    "avg_debt = debt_returns.mean()\n",
    "std_aapl = aapl_returns.std()\n",
    "std_debt = debt_returns.std()\n",
    "\n",
    "# 计算资产间的相关系数\n",
    "correlation = aapl_returns.corr(debt_returns)\n",
    "\n",
    "# 显示结果\n",
    "print(f\"AAPL平均日收益率: {avg_aapl:.6f}\")\n",
    "print(f\"AAPL波动率: {std_aapl:.6f}\")\n",
    "print(f\"US国债平均日收益率: {avg_debt:.6f}\")\n",
    "print(f\"US国债波动率: {std_debt:.6f}\")\n",
    "print(f\"AAPL与US国债相关系数: {correlation:.6f}\")\n",
    "\n",
    "# 年化数据（假设一年252个交易日）\n",
    "annual_avg_aapl = avg_aapl * 252\n",
    "annual_avg_debt = avg_debt * 252\n",
    "annual_std_aapl = std_aapl * np.sqrt(252)\n",
    "annual_std_debt = std_debt * np.sqrt(252)\n",
    "\n",
    "print(\"\\n年化结果:\")\n",
    "print(f\"AAPL年化收益率: {annual_avg_aapl:.2%}\")\n",
    "print(f\"AAPL年化波动率: {annual_std_aapl:.2%}\")\n",
    "print(f\"US国债年化收益率: {annual_avg_debt:.2%}\")\n",
    "print(f\"US国债年化波动率: {annual_std_debt:.2%}\")"
   ]
  },
  {
   "cell_type": "markdown",
   "metadata": {},
   "source": [
    "## 1.6 计算不同权重的组合收益率和波动率"
   ]
  },
  {
   "cell_type": "code",
   "execution_count": null,
   "metadata": {},
   "outputs": [],
   "source": [
    "# 计算不同权重下的投资组合收益率和波动率\n",
    "weights = np.linspace(0, 1, 100)  # 生成100个权重值，从0到1\n",
    "portfolio_returns = []\n",
    "portfolio_volatility = []\n",
    "\n",
    "for w in weights:\n",
    "    # 组合的预期回报（日收益率）\n",
    "    portfolio_return = w * avg_aapl + (1 - w) * avg_debt\n",
    "    portfolio_returns.append(portfolio_return * 252)  # 年化\n",
    "    \n",
    "    # 组合的波动率\n",
    "    portfolio_vol = np.sqrt(\n",
    "        w ** 2 * std_aapl ** 2 + \n",
    "        (1 - w) ** 2 * std_debt ** 2 + \n",
    "        2 * w * (1 - w) * correlation * std_aapl * std_debt\n",
    "    )\n",
    "    portfolio_volatility.append(portfolio_vol * np.sqrt(252))  # 年化\n",
    "\n",
    "# 找到最小波动率投资组合\n",
    "min_vol_idx = np.argmin(portfolio_volatility)\n",
    "min_vol_return = portfolio_returns[min_vol_idx]\n",
    "min_vol_volatility = portfolio_volatility[min_vol_idx]\n",
    "min_vol_weight = weights[min_vol_idx]\n",
    "\n",
    "print(f\"最小波动率组合:\")\n",
    "print(f\"AAPL权重: {min_vol_weight:.2f}, US国债权重: {1-min_vol_weight:.2f}\")\n",
    "print(f\"年化预期收益率: {min_vol_return:.2%}\")\n",
    "print(f\"年化波动率: {min_vol_volatility:.2%}\")"
   ]
  },
  {
   "cell_type": "markdown",
   "metadata": {},
   "source": [
    "## 1.7 结果可视化"
   ]
  },
  {
   "cell_type": "code",
   "execution_count": null,
   "metadata": {},
   "outputs": [],
   "source": [
    "# 绘制风险-回报曲线（有效前沿）\n",
    "plt.figure(figsize=(12, 8))\n",
    "\n",
    "# 绘制投资组合曲线\n",
    "plt.plot(portfolio_volatility, portfolio_returns, 'b-', linewidth=3, label=\"投资组合组合\")\n",
    "\n",
    "# 绘制单个资产点\n",
    "plt.scatter(annual_std_aapl, annual_avg_aapl, color='blue', s=100, label=\"AAPL (股票)\", marker='o', edgecolors='black')\n",
    "plt.scatter(annual_std_debt, annual_avg_debt, color='red', s=100, label=\"US国债 (债券)\", marker='x', edgecolors='black')\n",
    "\n",
    "# 标记最小波动率投资组合点\n",
    "plt.scatter(min_vol_volatility, min_vol_return, color='green', s=150, label=f\"最小波动率组合 (AAPL: {min_vol_weight:.2f})\", marker='*', edgecolors='black')\n",
    "\n",
    "# 添加投资组合权重标签\n",
    "for i in range(0, len(weights), 10):  # 每10个点标记一个\n",
    "    plt.annotate(f\"{weights[i]:.1f}\", \n",
    "                (portfolio_volatility[i], portfolio_returns[i]),\n",
    "                xytext=(5, 0), \n",
    "                textcoords='offset points',\n",
    "                fontsize=8)\n",
    "\n",
    "# 设置图表属性\n",
    "plt.title('投资组合风险-收益特性', fontsize=16)\n",
    "plt.xlabel('年化波动率 (%)', fontsize=12)\n",
    "plt.ylabel('年化预期收益率 (%)', fontsize=12)\n",
    "plt.legend(loc='best', fontsize=12)\n",
    "plt.grid(True, linestyle='--', alpha=0.7)\n",
    "\n",
    "# 标注资产相关系数\n",
    "plt.annotate(f\"相关系数: {correlation:.2f}\", \n",
    "             xy=(0.05, 0.05), \n",
    "             xycoords='axes fraction',\n",
    "             fontsize=12,\n",
    "             bbox=dict(boxstyle=\"round,pad=0.3\", fc=\"white\", ec=\"gray\", alpha=0.8))\n",
    "\n",
    "# 显示图表\n",
    "plt.tight_layout()\n",
    "plt.show()"
   ]
  },
  {
   "cell_type": "code",
   "execution_count": null,
   "metadata": {},
   "outputs": [],
   "source": [
    "# 绘制权重与组合特性的关系图\n",
    "fig, axs = plt.subplots(2, 1, figsize=(12, 10), sharex=True)\n",
    "\n",
    "# 预期收益率与权重关系\n",
    "axs[0].plot(weights, portfolio_returns, 'r-', linewidth=2)\n",
    "axs[0].set_ylabel('年化预期收益率 (%)', fontsize=12)\n",
    "axs[0].set_title('权重与预期收益率的关系', fontsize=14)\n",
    "axs[0].grid(True, linestyle='--', alpha=0.7)\n",
    "axs[0].axvline(x=min_vol_weight, color='green', linestyle='--', alpha=0.7, label='最小波动率权重')\n",
    "axs[0].legend()\n",
    "\n",
    "# 波动率与权重关系\n",
    "axs[1].plot(weights, portfolio_volatility, 'b-', linewidth=2)\n",
    "axs[1].set_xlabel('AAPL权重', fontsize=12)\n",
    "axs[1].set_ylabel('年化波动率 (%)', fontsize=12)\n",
    "axs[1].set_title('权重与波动率的关系', fontsize=14)\n",
    "axs[1].grid(True, linestyle='--', alpha=0.7)\n",
    "axs[1].axvline(x=min_vol_weight, color='green', linestyle='--', alpha=0.7, label='最小波动率权重')\n",
    "axs[1].legend()\n",
    "\n",
    "# 显示图表\n",
    "plt.tight_layout()\n",
    "plt.show()"
   ]
  },
  {
   "cell_type": "markdown",
   "metadata": {},
   "source": [
    "## 1.8 结果分析与解释\n",
    "\n",
    "通过上述分析与可视化，我们可以得出以下结论：\n",
    "\n",
    "1. **资产特性**：\n",
    "   - AAPL (股票)：年化预期收益率为{annual_avg_aapl:.2%}，年化波动率为{annual_std_aapl:.2%}\n",
    "   - US国债 (债券)：年化预期收益率为{annual_avg_debt:.2%}，年化波动率为{annual_std_debt:.2%}\n",
    "   - 两种资产的相关系数为{correlation:.2f}，表示{'较弱的正相关' if correlation > 0 and correlation < 0.3 else '较强的正相关' if correlation >= 0.3 and correlation < 0.7 else '强正相关' if correlation >= 0.7 else '负相关' if correlation < 0 else '无相关'}\n",
    "\n",
    "2. **投资组合多元化收益**：\n",
    "   - 通过组合这两种资产，我们可以构建具有不同风险和收益特性的投资组合\n",
    "   - 最小波动率投资组合：AAPL权重为{min_vol_weight:.2f}，US国债权重为{1-min_vol_weight:.2f}\n",
    "   - 该组合的年化预期收益率为{min_vol_return:.2%}，年化波动率为{min_vol_volatility:.2%}\n",
    "   - 这一组合的波动率低于任一单一资产的波动率，体现了多元化投资的风险分散效果\n",
    "\n",
    "3. **有效前沿分析**：\n",
    "   - 图表展示的曲线代表了所有可能的投资组合组合\n",
    "   - 曲线上的每一点代表一个特定的权重分配\n",
    "   - 在给定风险水平下，越靠上的点提供更高的预期收益率\n",
    "\n",
    "4. **投资策略建议**：\n",
    "   - 风险厌恶型投资者可能更倾向于接近最小波动率投资组合的权重配置\n",
    "   - 风险偏好型投资者可能更倾向于增加AAPL的权重以追求更高的收益\n",
    "   - 投资者应根据自身风险承受能力、投资目标和时间跨度来调整投资组合权重\n",
    "   \n",
    "5. **局限性**：\n",
    "   - 此模型基于历史数据，未来的实际表现可能不同\n",
    "   - 分析假设资产收益率服从正态分布，而实际市场可能存在偏斜和尾部风险\n",
    "   - 相关系数在不同市场条件下可能会变化，特别是在极端市场事件期间"
   ]
  }
 ],
 "metadata": {
  "kernelspec": {
   "display_name": "Python 3",
   "language": "python",
   "name": "python3"
  },
  "language_info": {
   "codemirror_mode": {
    "name": "ipython",
    "version": 3
   },
   "file_extension": ".py",
   "mimetype": "text/x-python",
   "name": "python",
   "nbconvert_exporter": "python",
   "pygments_lexer": "ipython3",
   "version": "3.8.8"
  }
 },
 "nbformat": 4,
 "nbformat_minor": 4
}
