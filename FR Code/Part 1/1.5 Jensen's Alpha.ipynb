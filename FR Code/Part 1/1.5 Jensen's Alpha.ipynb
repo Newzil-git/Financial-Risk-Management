{
 "cells": [
  {
   "cell_type": "markdown",
   "metadata": {},
   "source": [
    "# 1.5 詹森阿尔法 (Jensen's Alpha)\n",
    "\n",
    "## 概念介绍\n",
    "\n",
    "詹森阿尔法(Jensen's Alpha)，简称阿尔法，由迈克尔·詹森(Michael Jensen)于1968年提出，是一种风险调整后的绩效评估指标。它衡量了投资组合相对于资本资产定价模型(CAPM)预测的超额收益，即超出市场给予的风险溢价的部分。\n",
    "\n",
    "### 詹森阿尔法公式\n",
    "\n",
    "$\\alpha_J = R_p - [R_f + \\beta_p(R_m - R_f)]$\n",
    "\n",
    "其中：\n",
    "- $\\alpha_J$ 是詹森阿尔法\n",
    "- $R_p$ 是投资组合的实际收益率\n",
    "- $R_f$ 是无风险收益率\n",
    "- $\\beta_p$ 是投资组合的Beta系数\n",
    "- $R_m$ 是市场收益率\n",
    "- $R_f + \\beta_p(R_m - R_f)$ 是根据CAPM模型计算的预期收益率\n",
    "\n",
    "正的阿尔法值表示投资组合表现超过其风险水平所预期的收益，即投资经理产生了超额收益。负的阿尔法值表示投资组合表现不及预期。Alpha = 0表示投资组合正好获得了与其风险水平相匹配的收益。"
   ]
  },
  {
   "cell_type": "markdown",
   "metadata": {},
   "source": [
    "## 1.1 安装必要的库\n",
    "\n",
    "首先安装需要用到的Python库"
   ]
  },
  {
   "cell_type": "code",
   "execution_count": null,
   "metadata": {},
   "outputs": [],
   "source": [
    "# 安装必要的库\n",
    "!pip install pandas numpy matplotlib statsmodels seaborn"
   ]
  },
  {
   "cell_type": "markdown",
   "metadata": {},
   "source": [
    "## 1.2 从Github加载数据"
   ]
  },
  {
   "cell_type": "code",
   "execution_count": null,
   "metadata": {},
   "outputs": [],
   "source": [
    "!wget -O AAPL_data.csv \"https://github.com/Newzil-git/Financial-Risk-Management/blob/update-repo/FR%20Code/Part%201/AAPL_data.csv\"\n",
    "!wget -O SPY_data.csv \"https://github.com/Newzil-git/Financial-Risk-Management/blob/update-repo/FR%20Code/Part%201/SPY_data.csv\"\n",
    "file_path_aapl = \"AAPL_data.csv\"\n",
    "file_path_spy = \"SPY_data.csv\""
   ]
  },
  {
   "cell_type": "markdown",
   "metadata": {},
   "source": [
    "## 1.3 导入必要的库"
   ]
  },
  {
   "cell_type": "code",
   "execution_count": null,
   "metadata": {},
   "outputs": [],
   "source": [
    "import pandas as pd\n",
    "import numpy as np\n",
    "import matplotlib.pyplot as plt\n",
    "import statsmodels.api as sm\n",
    "import seaborn as sns\n",
    "\n",
    "# 设置中文显示\n",
    "plt.rcParams['font.sans-serif'] = ['SimHei']  # 用来正常显示中文标签\n",
    "plt.rcParams['axes.unicode_minus'] = False    # 用来正常显示负号"
   ]
  },
  {
   "cell_type": "markdown",
   "metadata": {},
   "source": [
    "## 1.4 数据加载和预处理"
   ]
  },
  {
   "cell_type": "code",
   "execution_count": null,
   "metadata": {},
   "outputs": [],
   "source": [
    "# 假设的无风险利率\n",
    "risk_free_rate = 0.02 / 252  # 年利率2%转换为日利率\n",
    "\n",
    "# 读取数据\n",
    "try:\n",
    "    # 读取 CSV 数据\n",
    "    column_names = [\"Date\", \"Open\", \"High\", \"Low\", \"Close\", \"Volume\"]\n",
    "    \n",
    "    data_aapl = pd.read_csv(file_path_aapl, skiprows=3, names=column_names)\n",
    "    data_spy = pd.read_csv(file_path_spy, skiprows=3, names=column_names)\n",
    "    print(\"数据加载成功\")\n",
    "except Exception as e:\n",
    "    print(f\"数据加载失败: {e}\")\n",
    "    # 如果加载失败，尝试不跳过行读取\n",
    "    try:\n",
    "        data_aapl = pd.read_csv(file_path_aapl)\n",
    "        data_spy = pd.read_csv(file_path_spy)\n",
    "        print(\"重新尝试数据加载成功\")\n",
    "    except Exception as e:\n",
    "        print(f\"数据加载再次失败: {e}\")"
   ]
  },
  {
   "cell_type": "code",
   "execution_count": null,
   "metadata": {},
   "outputs": [],
   "source": [
    "# 数据预览\n",
    "print(\"AAPL数据预览:\")\n",
    "display(data_aapl.head())\n",
    "print(\"\\nSPY数据预览:\")\n",
    "display(data_spy.head())"
   ]
  },
  {
   "cell_type": "code",
   "execution_count": null,
   "metadata": {},
   "outputs": [],
   "source": [
    "# 统一列名\n",
    "data_aapl.rename(columns={'Close': 'Adj Close'}, inplace=True)\n",
    "data_spy.rename(columns={'Close': 'Adj Close'}, inplace=True)\n",
    "\n",
    "# 转换日期格式\n",
    "try:\n",
    "    data_aapl['Date'] = pd.to_datetime(data_aapl['Date'], format=\"%Y/%m/%d\")\n",
    "except Exception as e:\n",
    "    print(f\"AAPL日期转换错误，尝试自动检测格式: {e}\")\n",
    "    data_aapl['Date'] = pd.to_datetime(data_aapl['Date'])\n",
    "\n",
    "try:    \n",
    "    data_spy['Date'] = pd.to_datetime(data_spy['Date'], format=\"%Y/%m/%d\")\n",
    "except Exception as e:\n",
    "    print(f\"SPY日期转换错误，尝试自动检测格式: {e}\")\n",
    "    data_spy['Date'] = pd.to_datetime(data_spy['Date'])\n",
    "\n",
    "# 设置索引\n",
    "data_aapl.set_index('Date', inplace=True)\n",
    "data_spy.set_index('Date', inplace=True)"
   ]
  },
  {
   "cell_type": "code",
   "execution_count": null,
   "metadata": {},
   "outputs": [],
   "source": [
    "# 计算每日收益率\n",
    "data_aapl['Daily Return'] = data_aapl['Adj Close'].pct_change()\n",
    "data_spy['Daily Return'] = data_spy['Adj Close'].pct_change()\n",
    "\n",
    "# 清除缺失值\n",
    "data_aapl = data_aapl.dropna()\n",
    "data_spy = data_spy.dropna()\n",
    "\n",
    "# 数据基本统计量\n",
    "print(\"AAPL日收益率统计:\")\n",
    "display(data_aapl['Daily Return'].describe())\n",
    "print(\"\\nSPY日收益率统计:\")\n",
    "display(data_spy['Daily Return'].describe())"
   ]
  },
  {
   "cell_type": "markdown",
   "metadata": {},
   "source": [
    "## 1.5 对齐数据集并计算Beta系数"
   ]
  },
  {
   "cell_type": "code",
   "execution_count": null,
   "metadata": {},
   "outputs": [],
   "source": [
    "# 确保两个DataFrame具有相同的索引\n",
    "# 寻找两个数据集的共同日期\n",
    "common_dates = data_aapl.index.intersection(data_spy.index)\n",
    "data_aapl_aligned = data_aapl.loc[common_dates]\n",
    "data_spy_aligned = data_spy.loc[common_dates]\n",
    "\n",
    "# 验证对齐后的数据大小\n",
    "print(f\"AAPL对齐后数据量: {len(data_aapl_aligned)}\")\n",
    "print(f\"SPY对齐后数据量: {len(data_spy_aligned)}\")"
   ]
  },
  {
   "cell_type": "code",
   "execution_count": null,
   "metadata": {},
   "outputs": [],
   "source": [
    "# 计算AAPL的Beta值\n",
    "X = sm.add_constant(data_spy_aligned['Daily Return'])\n",
    "y = data_aapl_aligned['Daily Return']\n",
    "\n",
    "model = sm.OLS(y, X).fit()\n",
    "beta_aapl = model.params.iloc[1]\n",
    "alpha_regression = model.params.iloc[0]  # 回归截距\n",
    "\n",
    "# 显示回归结果\n",
    "print(model.summary())\n",
    "print(f\"\\nAAPL Beta: {beta_aapl:.4f}\")\n",
    "print(f\"回归截距(Alpha): {alpha_regression:.6f}\")"
   ]
  },
  {
   "cell_type": "markdown",
   "metadata": {},
   "source": [
    "## 1.6 计算詹森阿尔法"
   ]
  },
  {
   "cell_type": "code",
   "execution_count": null,
   "metadata": {},
   "outputs": [],
   "source": [
    "# 计算 AAPL 和 SPY 的平均回报\n",
    "mu_aapl = data_aapl_aligned['Daily Return'].mean()\n",
    "mu_spy = data_spy_aligned['Daily Return'].mean()\n",
    "\n",
    "# 根据CAPM模型计算AAPL的预期收益率\n",
    "expected_return_aapl = risk_free_rate + beta_aapl * (mu_spy - risk_free_rate)\n",
    "\n",
    "# 计算 Jensen's Alpha（日度）\n",
    "jensens_alpha_aapl = mu_aapl - expected_return_aapl\n",
    "\n",
    "# 计算年化值\n",
    "annual_mu_aapl = mu_aapl * 252\n",
    "annual_mu_spy = mu_spy * 252\n",
    "annual_risk_free = risk_free_rate * 252\n",
    "annual_expected_return = annual_risk_free + beta_aapl * (annual_mu_spy - annual_risk_free)\n",
    "annual_jensens_alpha = annual_mu_aapl - annual_expected_return\n",
    "\n",
    "# 打印结果\n",
    "print(\"日度计算结果:\")\n",
    "print(f\"AAPL的实际平均收益率: {mu_aapl:.6f}\")\n",
    "print(f\"SPY的平均收益率: {mu_spy:.6f}\")\n",
    "print(f\"CAPM预期收益率: {expected_return_aapl:.6f}\")\n",
    "print(f\"AAPL的詹森阿尔法: {jensens_alpha_aapl:.6f}\")\n",
    "\n",
    "print(\"\\n年化计算结果:\")\n",
    "print(f\"AAPL的年化平均收益率: {annual_mu_aapl:.4f} ({annual_mu_aapl:.2%})\")\n",
    "print(f\"SPY的年化平均收益率: {annual_mu_spy:.4f} ({annual_mu_spy:.2%})\")\n",
    "print(f\"年化无风险收益率: {annual_risk_free:.4f} ({annual_risk_free:.2%})\")\n",
    "print(f\"年化CAPM预期收益率: {annual_expected_return:.4f} ({annual_expected_return:.2%})\")\n",
    "print(f\"AAPL的年化詹森阿尔法: {annual_jensens_alpha:.4f} ({annual_jensens_alpha:.2%})\")"
   ]
  },
  {
   "cell_type": "markdown",
   "metadata": {},
   "source": [
    "## 1.7 结果可视化"
   ]
  },
  {
   "cell_type": "code",
   "execution_count": null,
   "metadata": {},
   "outputs": [],
   "source": [
    "# 绘制证券市场线(SML)和AAPL位置\n",
    "plt.figure(figsize=(12, 8))\n",
    "\n",
    "# 绘制证券市场线\n",
    "beta_range = np.linspace(0, 2, 100)\n",
    "expected_returns = annual_risk_free + beta_range * (annual_mu_spy - annual_risk_free)\n",
    "plt.plot(beta_range, expected_returns, 'r-', linewidth=2, label='证券市场线(SML)')\n",
    "\n",
    "# 标记重要点\n",
    "plt.scatter(0, annual_risk_free, s=100, color='green', label='无风险资产', zorder=5)\n",
    "plt.scatter(1, annual_mu_spy, s=100, color='blue', label='市场组合(SPY)', zorder=5)\n",
    "plt.scatter(beta_aapl, annual_mu_aapl, s=150, color='red', label='AAPL(实际)', zorder=5)\n",
    "plt.scatter(beta_aapl, annual_expected_return, s=100, color='purple', marker='x', label='AAPL(预期)', zorder=5)\n",
    "\n",
    "# 绘制詹森阿尔法\n",
    "plt.plot([beta_aapl, beta_aapl], [annual_expected_return, annual_mu_aapl], 'g--', linewidth=2, label='詹森阿尔法')\n",
    "\n",
    "# 设置图表属性\n",
    "plt.title('证券市场线(SML)与詹森阿尔法', fontsize=16)\n",
    "plt.xlabel('Beta系数', fontsize=12)\n",
    "plt.ylabel('年化预期收益率', fontsize=12)\n",
    "plt.legend(fontsize=12)\n",
    "plt.grid(True, linestyle='--', alpha=0.7)\n",
    "\n",
    "# 添加注释\n",
    "plt.annotate(f\"Jensen's Alpha: {annual_jensens_alpha:.2%}\", \n",
    "             xy=(beta_aapl, (annual_mu_aapl + annual_expected_return)/2),\n",
    "             xytext=(beta_aapl + 0.2, (annual_mu_aapl + annual_expected_return)/2),\n",
    "             arrowprops=dict(facecolor='black', shrink=0.05),\n",
    "             fontsize=12)\n",
    "\n",
    "plt.tight_layout()\n",
    "plt.show()"
   ]
  },
  {
   "cell_type": "code",
   "execution_count": null,
   "metadata": {},
   "outputs": [],
   "source": [
    "# 计算实际收益率与CAPM预期收益率的差异（日度）\n",
    "# 为每个日期计算CAPM预期收益\n",
    "data_spy_aligned['Expected Return AAPL'] = risk_free_rate + beta_aapl * (data_spy_aligned['Daily Return'] - risk_free_rate)\n",
    "\n",
    "# 计算每日Alpha（实际收益 - 预期收益）\n",
    "data_aapl_aligned['Daily Alpha'] = data_aapl_aligned['Daily Return'] - data_spy_aligned['Expected Return AAPL']\n",
    "\n",
    "# 绘制每日Alpha的时间序列\n",
    "plt.figure(figsize=(12, 6))\n",
    "plt.plot(data_aapl_aligned.index, data_aapl_aligned['Daily Alpha'], 'b-', alpha=0.6)\n",
    "plt.axhline(y=0, color='r', linestyle='-', alpha=0.3)\n",
    "plt.axhline(y=jensens_alpha_aapl, color='g', linestyle='--', linewidth=2, label=f'平均Alpha: {jensens_alpha_aapl:.6f}')\n",
    "plt.fill_between(data_aapl_aligned.index, data_aapl_aligned['Daily Alpha'], 0, \n",
    "                 where=(data_aapl_aligned['Daily Alpha'] >= 0), color='g', alpha=0.3, label='正Alpha')\n",
    "plt.fill_between(data_aapl_aligned.index, data_aapl_aligned['Daily Alpha'], 0, \n",
    "                 where=(data_aapl_aligned['Daily Alpha'] < 0), color='r', alpha=0.3, label='负Alpha')\n",
    "\n",
    "plt.title('AAPL的每日詹森阿尔法', fontsize=16)\n",
    "plt.xlabel('日期', fontsize=12)\n",
    "plt.ylabel('每日Alpha值', fontsize=12)\n",
    "plt.legend(fontsize=12)\n",
    "plt.grid(True, linestyle='--', alpha=0.7)\n",
    "plt.tight_layout()\n",
    "plt.show()"
   ]
  },
  {
   "cell_type": "code",
   "execution_count": null,
   "metadata": {},
   "outputs": [],
   "source": [
    "# 绘制CAPM拟合图\n",
    "plt.figure(figsize=(12, 8))\n",
    "\n",
    "# 散点图：市场收益率vs股票收益率\n",
    "plt.scatter(data_spy_aligned['Daily Return'], data_aapl_aligned['Daily Return'], \n",
    "            alpha=0.5, label='日收益率数据点')\n",
    "\n",
    "# 回归线\n",
    "x_range = np.linspace(data_spy_aligned['Daily Return'].min(), data_spy_aligned['Daily Return'].max(), 100)\n",
    "y_pred = model.params[0] + model.params[1] * x_range\n",
    "plt.plot(x_range, y_pred, 'r', linewidth=2, label=f'回归线 (Beta = {beta_aapl:.4f})')\n",
    "\n",
    "# 标记Alpha\n",
    "plt.plot([0], [model.params[0]], 'go', markersize=10)\n",
    "plt.axhline(y=0, color='black', linestyle='-', alpha=0.3)\n",
    "plt.axvline(x=0, color='black', linestyle='-', alpha=0.3)\n",
    "plt.annotate(f\"Alpha = {alpha_regression:.6f}\", \n",
    "             xy=(0, model.params[0]), \n",
    "             xytext=(0.001, model.params[0] + 0.001),\n",
    "             arrowprops=dict(facecolor='black', shrink=0.05),\n",
    "             fontsize=12)\n",
    "\n",
    "# 设置图表属性\n",
    "plt.title('CAPM拟合与詹森阿尔法', fontsize=16)\n",
    "plt.xlabel('市场(SPY)日收益率', fontsize=12)\n",
    "plt.ylabel('AAPL日收益率', fontsize=12)\n",
    "plt.legend(fontsize=12)\n",
    "plt.grid(True, linestyle='--', alpha=0.7)\n",
    "\n",
    "# 添加注释\n",
    "plt.annotate(f\"Beta = {beta_aapl:.4f}\\nR² = {model.rsquared:.4f}\\nJensen's Alpha = {jensens_alpha_aapl:.6f}\", \n",
    "             xy=(0.05, 0.95), \n",
    "             xycoords='axes fraction',\n",
    "             fontsize=12,\n",
    "             bbox=dict(boxstyle=\"round,pad=0.3\", fc=\"white\", ec=\"gray\", alpha=0.8))\n",
    "\n",
    "plt.tight_layout()\n",
    "plt.show()"
   ]
  },
  {
   "cell_type": "markdown",
   "metadata": {},
   "source": [
    "## 1.8 结果分析与解释\n",
    "\n",
    "通过上述计算和可视化，我们可以得出以下结论：\n",
    "\n",
    "1. **詹森阿尔法解读**：\n",
    "   - AAPL的詹森阿尔法为{annual_jensens_alpha:.2%}（年化）\n",
    "   - {'正' if annual_jensens_alpha > 0 else '负'}的阿尔法值表示AAPL的实际表现{'超过' if annual_jensens_alpha > 0 else '低于'}了根据CAPM模型预期的收益\n",
    "   - 这说明苹果公司在考虑其系统性风险后，{'产生了超额收益' if annual_jensens_alpha > 0 else '表现不及预期'}\n",
    "\n",
    "2. **CAPM模型分析**：\n",
    "   - AAPL的Beta系数为{beta_aapl:.4f}，表明其{'波动性大于市场' if beta_aapl > 1 else '波动性小于市场'}\n",
    "   - 根据CAPM模型，AAPL的预期年化收益率应为{annual_expected_return:.2%}\n",
    "   - 实际年化收益率为{annual_mu_aapl:.2%}，与预期{'存在显著差异' if abs(annual_mu_aapl - annual_expected_return) > 0.01 else '基本一致'}\n",
    "\n",
    "3. **时间序列分析**：\n",
    "   - 从每日Alpha的时间序列图可以看出，AAPL在大部分时间内的表现{'高于' if np.sum(data_aapl_aligned['Daily Alpha'] > 0) > len(data_aapl_aligned)/2 else '低于'}CAPM预期\n",
    "   - Alpha值的{'波动性较大' if data_aapl_aligned['Daily Alpha'].std() > 0.01 else '波动性较小'}，表明公司绩效相对于市场预期存在{'显著' if data_aapl_aligned['Daily Alpha'].std() > 0.01 else '轻微'}波动\n",
    "\n",
    "4. **回归分析结果**：\n",
    "   - 回归截距（Alpha）为{alpha_regression:.6f}，这与我们计算的詹森阿尔法{'接近' if abs(alpha_regression - jensens_alpha_aapl) < 0.0001 else '有所不同'}\n",
    "   - R²值为{model.rsquared:.4f}，表明市场收益率能解释AAPL收益率变动的{model.rsquared:.2%}\n",
    "   - 这意味着AAPL的收益有{(1-model.rsquared):.2%}来自非系统性因素\n",
    "\n",
    "5. **投资策略建议**：\n",
    "   - 詹森阿尔法是评估投资组合管理者创造超额收益能力的重要指标\n",
    "   - {'正' if annual_jensens_alpha > 0 else '负'}的阿尔法值表明投资AAPL{'可能是有利的' if annual_jensens_alpha > 0 else '需要谨慎考虑'}\n",
    "   - 投资者应注意，历史表现不代表未来结果，阿尔法可能随时间变化\n",
    "   - 同时考虑詹森阿尔法、夏普比率和特雷诺比率可以获得更全面的风险调整收益评估\n",
    "\n",
    "6. **阿尔法来源分析**：\n",
    "   - 阿尔法可能来自公司特有的因素，如管理层决策、创新能力、品牌价值等\n",
    "   - 也可能来自市场异常或CAPM模型假设的不完善"
   ]
  }
 ],
 "metadata": {
  "kernelspec": {
   "display_name": "Python 3",
   "language": "python",
   "name": "python3"
  },
  "language_info": {
   "codemirror_mode": {
    "name": "ipython",
    "version": 3
   },
   "file_extension": ".py",
   "mimetype": "text/x-python",
   "name": "python",
   "nbconvert_exporter": "python",
   "pygments_lexer": "ipython3",
   "version": "3.8.8"
  }
 },
 "nbformat": 4,
 "nbformat_minor": 4
}
