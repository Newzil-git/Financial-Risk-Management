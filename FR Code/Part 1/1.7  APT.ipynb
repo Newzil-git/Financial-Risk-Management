{
 "cells": [
  {
   "cell_type": "code",
   "execution_count": null,
   "id": "3909b0d9",
   "metadata": {},
   "outputs": [],
   "source": [
    "import pandas as pd\n",
    "import numpy as np\n",
    "import statsmodels.api as sm\n",
    "import matplotlib.pyplot as plt"
   ]
  },
  {
   "cell_type": "code",
   "execution_count": null,
   "id": "642bfc58",
   "metadata": {},
   "outputs": [],
   "source": [
    "# 加载数据集\n",
    "msft_data_df = pd.read_csv('1.7_MSFT_data.csv', skiprows=2)\n",
    "aapl_data_df = pd.read_csv('1.7_AAPL_data.csv', skiprows=2)\n",
    "googl_data_df = pd.read_csv('1.7_GOOGL_data.csv', skiprows=2)\n",
    "market_data_df = pd.read_csv('1.7_market_data.csv', skiprows=2)\n",
    "risk_free_rate_df = pd.read_csv('1.7_risk_free_rate.csv')\n",
    "unemployment_rate_df = pd.read_csv('1.7_unemployment_rate.csv')\n",
    "inflation_rate_df = pd.read_csv('1.7_inflation_rate.csv')\n",
    "gdp_data_df = pd.read_csv('1.7_gdp_data.csv')"
   ]
  },
  {
   "cell_type": "code",
   "execution_count": null,
   "id": "6d60f69b",
   "metadata": {},
   "outputs": [],
   "source": [
    "# 统一列名\n",
    "column_names = [\"Date\", \"Price\", \"Close\", \"High\", \"Low\", \"Open\"]  # 移除 'Volume' 列名\n",
    "msft_data_df.columns = column_names\n",
    "aapl_data_df.columns = column_names\n",
    "googl_data_df.columns = column_names\n",
    "market_data_df.columns = column_names"
   ]
  },
  {
   "cell_type": "code",
   "execution_count": null,
   "id": "23349c4b",
   "metadata": {},
   "outputs": [],
   "source": [
    "# 将 \"Close\" 列重命名为 \"Adj Close\" 并转换日期列\n",
    "msft_data_df.rename(columns={'Close': 'Adj Close'}, inplace=True)\n",
    "aapl_data_df.rename(columns={'Close': 'Adj Close'}, inplace=True)\n",
    "googl_data_df.rename(columns={'Close': 'Adj Close'}, inplace=True)\n",
    "market_data_df.rename(columns={'Close': 'Adj Close'}, inplace=True)"
   ]
  },
  {
   "cell_type": "code",
   "execution_count": null,
   "id": "3e02949e",
   "metadata": {},
   "outputs": [],
   "source": [
    "# 转换日期列为日期格式\n",
    "msft_data_df['Date'] = pd.to_datetime(msft_data_df['Date'])\n",
    "aapl_data_df['Date'] = pd.to_datetime(aapl_data_df['Date'])\n",
    "googl_data_df['Date'] = pd.to_datetime(googl_data_df['Date'])\n",
    "market_data_df['Date'] = pd.to_datetime(market_data_df['Date'])"
   ]
  },
  {
   "cell_type": "code",
   "execution_count": null,
   "id": "b6ed05a0",
   "metadata": {},
   "outputs": [],
   "source": [
    "# 确保所有宏观经济数据的 'Date' 列转换为 datetime 类型\n",
    "risk_free_rate_df['DATE'] = pd.to_datetime(risk_free_rate_df['DATE'])\n",
    "unemployment_rate_df['DATE'] = pd.to_datetime(unemployment_rate_df['DATE'])\n",
    "inflation_rate_df['DATE'] = pd.to_datetime(inflation_rate_df['DATE'])\n",
    "gdp_data_df['DATE'] = pd.to_datetime(gdp_data_df['DATE'])"
   ]
  },
  {
   "cell_type": "code",
   "execution_count": null,
   "id": "11f5fb76",
   "metadata": {},
   "outputs": [],
   "source": [
    "# 将 \"Date\" 设置为索引\n",
    "msft_data_df.set_index('Date', inplace=True)\n",
    "aapl_data_df.set_index('Date', inplace=True)\n",
    "googl_data_df.set_index('Date', inplace=True)\n",
    "market_data_df.set_index('Date', inplace=True)"
   ]
  },
  {
   "cell_type": "code",
   "execution_count": null,
   "id": "5a4f3717",
   "metadata": {},
   "outputs": [],
   "source": [
    "# 计算每日回报率\n",
    "msft_data_df['Return'] = msft_data_df['Adj Close'].pct_change()\n",
    "aapl_data_df['Return'] = aapl_data_df['Adj Close'].pct_change()\n",
    "googl_data_df['Return'] = googl_data_df['Adj Close'].pct_change()\n",
    "market_data_df['Return'] = market_data_df['Adj Close'].pct_change()"
   ]
  },
  {
   "cell_type": "code",
   "execution_count": null,
   "id": "180e73ca",
   "metadata": {},
   "outputs": [],
   "source": [
    "# 合并数据\n",
    "merged_df = msft_data_df[['Return']].merge(aapl_data_df[['Return']], on='Date', suffixes=('_MSFT', '_AAPL'))\n",
    "merged_df = merged_df.merge(googl_data_df[['Return']], on='Date')\n",
    "merged_df = merged_df.merge(market_data_df[['Return']], on='Date', suffixes=('', '_Market'))"
   ]
  },
  {
   "cell_type": "code",
   "execution_count": null,
   "id": "44821c68",
   "metadata": {},
   "outputs": [],
   "source": [
    "# 重置索引，将 'Date' 列恢复为普通列\n",
    "merged_df.reset_index(inplace=True)"
   ]
  },
  {
   "cell_type": "code",
   "execution_count": null,
   "id": "c0a282cd",
   "metadata": {},
   "outputs": [],
   "source": [
    "# 合并宏观经济数据\n",
    "merged_df = merged_df.merge(risk_free_rate_df[['DATE', 'GS10']], left_on='Date', right_on='DATE', how='left', suffixes=('', '_RiskFree'))\n",
    "merged_df = merged_df.merge(unemployment_rate_df[['DATE', 'UNRATE']], left_on='Date', right_on='DATE', how='left', suffixes=('', '_Unemployment'))\n",
    "merged_df = merged_df.merge(inflation_rate_df[['DATE', 'CPIAUCSL']], left_on='Date', right_on='DATE', how='left', suffixes=('', '_Inflation'))\n",
    "merged_df = merged_df.merge(gdp_data_df[['DATE', 'GDP']], left_on='Date', right_on='DATE', how='left', suffixes=('', '_GDP'))"
   ]
  },
  {
   "cell_type": "code",
   "execution_count": null,
   "id": "07fa459a",
   "metadata": {},
   "outputs": [],
   "source": [
    "# 删除重复的 'DATE' 列\n",
    "merged_df = merged_df.drop(columns=['DATE'])"
   ]
  },
  {
   "cell_type": "code",
   "execution_count": null,
   "id": "0f8b5198",
   "metadata": {},
   "outputs": [],
   "source": [
    "# 删除缺失值\n",
    "merged_df = merged_df.dropna()"
   ]
  },
  {
   "cell_type": "code",
   "execution_count": null,
   "id": "d65f1de4",
   "metadata": {},
   "outputs": [],
   "source": [
    "# 计算超额收益\n",
    "merged_df['Excess_Return_MSFT'] = merged_df['Return_MSFT'] - merged_df['GS10'] / 100\n",
    "merged_df['Excess_Return_AAPL'] = merged_df['Return_AAPL'] - merged_df['GS10'] / 100\n",
    "merged_df['Excess_Return_GOOGL'] = merged_df['Return'] - merged_df['GS10'] / 100"
   ]
  },
  {
   "cell_type": "code",
   "execution_count": null,
   "id": "add2f192",
   "metadata": {},
   "outputs": [],
   "source": [
    "# 设置回归的自变量（宏观经济因子）\n",
    "factors = merged_df[['GS10', 'UNRATE', 'CPIAUCSL', 'GDP']]\n",
    "factors = sm.add_constant(factors)  # 加入常数项"
   ]
  },
  {
   "cell_type": "code",
   "execution_count": null,
   "id": "8cb8cc4c",
   "metadata": {},
   "outputs": [],
   "source": [
    "# 因变量：超额回报\n",
    "y_msft = merged_df['Excess_Return_MSFT']\n",
    "y_aapl = merged_df['Excess_Return_AAPL']\n",
    "y_googl = merged_df['Excess_Return_GOOGL']"
   ]
  },
  {
   "cell_type": "code",
   "execution_count": null,
   "id": "623376f1",
   "metadata": {},
   "outputs": [],
   "source": [
    "# 进行回归分析\n",
    "model_msft = sm.OLS(y_msft, factors).fit()\n",
    "model_aapl = sm.OLS(y_aapl, factors).fit()\n",
    "model_googl = sm.OLS(y_googl, factors).fit()"
   ]
  },
  {
   "cell_type": "code",
   "execution_count": null,
   "id": "4a1fdb72",
   "metadata": {
    "lines_to_next_cell": 2
   },
   "outputs": [],
   "source": [
    "# 输出回归结果\n",
    "print(\"MSFT回归结果：\\n\", model_msft.summary())\n",
    "print(\"\\nAAPL回归结果：\\n\", model_aapl.summary())\n",
    "print(\"\\nGOOGL回归结果：\\n\", model_googl.summary())"
   ]
  }
 ],
 "metadata": {
  "jupytext": {
   "cell_metadata_filter": "-all",
   "main_language": "python",
   "notebook_metadata_filter": "-all"
  }
 },
 "nbformat": 4,
 "nbformat_minor": 5
}
