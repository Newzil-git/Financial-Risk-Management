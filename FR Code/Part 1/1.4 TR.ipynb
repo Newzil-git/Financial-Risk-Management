{
 "cells": [
  {
   "cell_type": "markdown",
   "metadata": {},
   "source": [
    "# 1.4 特雷诺比率 (Treynor Ratio)\n",
    "\n",
    "## 概念介绍\n",
    "\n",
    "特雷诺比率(Treynor Ratio)由杰克·特雷诺(Jack Treynor)于1965年提出，是一种风险调整后的绩效评估指标。与夏普比率类似，特雷诺比率也衡量投资组合超额收益与风险的关系，但不同之处在于，特雷诺比率使用Beta(β)作为风险度量，而不是标准差。\n",
    "\n",
    "### 特雷诺比率公式\n",
    "\n",
    "$Treynor\\ Ratio = \\frac{R_p - R_f}{\\beta_p}$\n",
    "\n",
    "其中：\n",
    "- $R_p$ 是投资组合的期望收益率\n",
    "- $R_f$ 是无风险收益率\n",
    "- $\\beta_p$ 是投资组合相对于市场的Beta系数\n",
    "\n",
    "Beta系数衡量了投资组合收益对市场变动的敏感性，是投资组合与市场的协方差除以市场方差：\n",
    "\n",
    "$\\beta_p = \\frac{Cov(R_p, R_m)}{Var(R_m)}$\n",
    "\n",
    "特雷诺比率越高，表示单位系统性风险下的超额收益越高，意味着投资组合在面对市场风险时的表现越好。"
   ]
  },
  {
   "cell_type": "markdown",
   "metadata": {},
   "source": [
    "## 1.1 安装必要的库\n",
    "\n",
    "首先安装需要用到的Python库"
   ]
  },
  {
   "cell_type": "code",
   "execution_count": null,
   "metadata": {},
   "outputs": [],
   "source": [
    "# 安装必要的库\n",
    "!pip install pandas numpy matplotlib statsmodels"
   ]
  },
  {
   "cell_type": "markdown",
   "metadata": {},
   "source": [
    "## 1.2 从Github加载数据"
   ]
  },
  {
   "cell_type": "code",
   "execution_count": null,
   "metadata": {},
   "outputs": [],
   "source": [
    "\n",
    "!wget -O AAPL_data.csv \"https://github.com/Newzil-git/Financial-Risk-Management/blob/update-repo/FR%20Code/Part%201/AAPL_data.csv\"\n",
    "!wget -O SPY_data.csv \"https://github.com/Newzil-git/Financial-Risk-Management/blob/update-repo/FR%20Code/Part%201/SPY_data.csv\"\n",
    "file_path_aapl = \"AAPL_data.csv\"\n",
    "file_path_spy = \"SPY_data.csv\""
   ]
  },
  {
   "cell_type": "markdown",
   "metadata": {},
   "source": [
    "## 1.3 导入必要的库"
   ]
  },
  {
   "cell_type": "code",
   "execution_count": null,
   "metadata": {},
   "outputs": [],
   "source": [
    "import pandas as pd\n",
    "import numpy as np\n",
    "import matplotlib.pyplot as plt\n",
    "import statsmodels.api as sm\n",
    "\n",
    "# 设置中文显示\n",
    "plt.rcParams['font.sans-serif'] = ['SimHei']  # 用来正常显示中文标签\n",
    "plt.rcParams['axes.unicode_minus'] = False    # 用来正常显示负号"
   ]
  },
  {
   "cell_type": "markdown",
   "metadata": {},
   "source": [
    "## 1.4 数据加载和预处理"
   ]
  },
  {
   "cell_type": "code",
   "execution_count": null,
   "metadata": {},
   "outputs": [],
   "source": [
    "# 设定无风险收益率\n",
    "risk_free_rate = 0.02 / 252  # 假设年利率为 2%，转换为日利率\n",
    "\n",
    "# 读取数据\n",
    "try:\n",
    "    # 读取 CSV 并跳过前两行\n",
    "    column_names = [\"Date\", \"Open\", \"High\", \"Low\", \"Close\", \"Volume\"]\n",
    "    \n",
    "    data_aapl = pd.read_csv(file_path_aapl, skiprows=3, names=column_names)\n",
    "    data_spy = pd.read_csv(file_path_spy, skiprows=3, names=column_names)\n",
    "    print(\"数据加载成功\")\n",
    "except Exception as e:\n",
    "    print(f\"数据加载失败: {e}\")\n",
    "    # 如果加载失败，尝试不跳过行读取\n",
    "    try:\n",
    "        data_aapl = pd.read_csv(file_path_aapl)\n",
    "        data_spy = pd.read_csv(file_path_spy)\n",
    "        print(\"重新尝试数据加载成功\")\n",
    "    except Exception as e:\n",
    "        print(f\"数据加载再次失败: {e}\")"
   ]
  },
  {
   "cell_type": "code",
   "execution_count": null,
   "metadata": {},
   "outputs": [],
   "source": [
    "# 数据预览\n",
    "print(\"AAPL数据预览:\")\n",
    "display(data_aapl.head())\n",
    "print(\"\\nSPY数据预览:\")\n",
    "display(data_spy.head())"
   ]
  },
  {
   "cell_type": "code",
   "execution_count": null,
   "metadata": {},
   "outputs": [],
   "source": [
    "# 统一列名（将 \"Close\" 重命名为 \"Adj Close\"）\n",
    "data_aapl.rename(columns={'Close': 'Adj Close'}, inplace=True)\n",
    "data_spy.rename(columns={'Close': 'Adj Close'}, inplace=True)\n",
    "\n",
    "# 转换日期格式并设置索引\n",
    "try:\n",
    "    data_aapl['Date'] = pd.to_datetime(data_aapl['Date'], format=\"%Y/%m/%d\")\n",
    "except Exception as e:\n",
    "    print(f\"AAPL日期转换错误，尝试自动检测格式: {e}\")\n",
    "    data_aapl['Date'] = pd.to_datetime(data_aapl['Date'])\n",
    "\n",
    "try:    \n",
    "    data_spy['Date'] = pd.to_datetime(data_spy['Date'], format=\"%Y/%m/%d\")\n",
    "except Exception as e:\n",
    "    print(f\"SPY日期转换错误，尝试自动检测格式: {e}\")\n",
    "    data_spy['Date'] = pd.to_datetime(data_spy['Date'])\n",
    "\n",
    "data_aapl.set_index('Date', inplace=True)\n",
    "data_spy.set_index('Date', inplace=True)"
   ]
  },
  {
   "cell_type": "code",
   "execution_count": null,
   "metadata": {},
   "outputs": [],
   "source": [
    "# 计算每日收益率\n",
    "data_aapl['Daily Return'] = data_aapl['Adj Close'].pct_change()\n",
    "data_spy['Daily Return'] = data_spy['Adj Close'].pct_change()\n",
    "\n",
    "# 清除缺失值\n",
    "data_aapl = data_aapl.dropna()\n",
    "data_spy = data_spy.dropna()\n",
    "\n",
    "# 数据基本统计量\n",
    "print(\"AAPL日收益率统计:\")\n",
    "display(data_aapl['Daily Return'].describe())\n",
    "print(\"\\nSPY日收益率统计:\")\n",
    "display(data_spy['Daily Return'].describe())"
   ]
  },
  {
   "cell_type": "markdown",
   "metadata": {},
   "source": [
    "## 1.5 计算Beta系数"
   ]
  },
  {
   "cell_type": "code",
   "execution_count": null,
   "metadata": {},
   "outputs": [],
   "source": [
    "# 确保两个DataFrame具有相同的索引\n",
    "# 寻找两个数据集的共同日期\n",
    "common_dates = data_aapl.index.intersection(data_spy.index)\n",
    "data_aapl_aligned = data_aapl.loc[common_dates]\n",
    "data_spy_aligned = data_spy.loc[common_dates]\n",
    "\n",
    "# 验证对齐后的数据大小\n",
    "print(f\"AAPL对齐后数据量: {len(data_aapl_aligned)}\")\n",
    "print(f\"SPY对齐后数据量: {len(data_spy_aligned)}\")"
   ]
  },
  {
   "cell_type": "code",
   "execution_count": null,
   "metadata": {},
   "outputs": [],
   "source": [
    "# 计算Beta值（AAPL与SPY的回归分析）\n",
    "# 准备回归数据\n",
    "X = sm.add_constant(data_spy_aligned['Daily Return'])  # 加入常数项（截距）\n",
    "y = data_aapl_aligned['Daily Return']\n",
    "\n",
    "# 运行回归模型\n",
    "model = sm.OLS(y, X).fit()\n",
    "\n",
    "# 提取Beta系数\n",
    "beta_aapl = model.params[1]\n",
    "\n",
    "# 显示回归结果摘要\n",
    "print(model.summary())"
   ]
  },
  {
   "cell_type": "markdown",
   "metadata": {},
   "source": [
    "## 1.6 计算特雷诺比率"
   ]
  },
  {
   "cell_type": "code",
   "execution_count": null,
   "metadata": {},
   "outputs": [],
   "source": [
    "# 计算AAPL和SPY的平均回报（日回报）\n",
    "mu_aapl = data_aapl_aligned['Daily Return'].mean()\n",
    "mu_spy = data_spy_aligned['Daily Return'].mean()\n",
    "\n",
    "# 计算年化收益率\n",
    "annual_mu_aapl = mu_aapl * 252\n",
    "annual_mu_spy = mu_spy * 252\n",
    "annual_risk_free = risk_free_rate * 252\n",
    "\n",
    "# 计算Treynor比率\n",
    "treynor_aapl = (mu_aapl - risk_free_rate) / beta_aapl\n",
    "treynor_spy = (mu_spy - risk_free_rate) / 1  # SPY的Beta值假定为1，因为SPY是市场本身\n",
    "\n",
    "# 计算年化Treynor比率\n",
    "annual_treynor_aapl = (annual_mu_aapl - annual_risk_free) / beta_aapl\n",
    "annual_treynor_spy = (annual_mu_spy - annual_risk_free) / 1\n",
    "\n",
    "# 打印计算结果\n",
    "print(\"日度计算结果:\")\n",
    "print(f\"AAPL的Beta值: {beta_aapl:.4f}\")\n",
    "print(f\"AAPL的每日平均回报: {mu_aapl:.4f}\")\n",
    "print(f\"AAPL的Treynor比率: {treynor_aapl:.4f}\")\n",
    "\n",
    "print(f\"SPY的Beta值: 1.0000 (基准)\")\n",
    "print(f\"SPY的每日平均回报: {mu_spy:.4f}\")\n",
    "print(f\"SPY的Treynor比率: {treynor_spy:.4f}\")\n",
    "\n",
    "print(\"\\n年化计算结果:\")\n",
    "print(f\"AAPL的年化平均回报: {annual_mu_aapl:.4f} ({annual_mu_aapl:.2%})\")\n",
    "print(f\"AAPL的年化Treynor比率: {annual_treynor_aapl:.4f}\")\n",
    "print(f\"SPY的年化平均回报: {annual_mu_spy:.4f} ({annual_mu_spy:.2%})\")\n",
    "print(f\"SPY的年化Treynor比率: {annual_treynor_spy:.4f}\")"
   ]
  },
  {
   "cell_type": "markdown",
   "metadata": {},
   "source": [
    "## 1.7 结果可视化"
   ]
  },
  {
   "cell_type": "code",
   "execution_count": null,
   "metadata": {},
   "outputs": [],
   "source": [
    "# 回归拟合可视化\n",
    "plt.figure(figsize=(12, 8))\n",
    "\n",
    "# 散点图：市场收益率vs股票收益率\n",
    "plt.scatter(data_spy_aligned['Daily Return'], data_aapl_aligned['Daily Return'], \n",
    "            alpha=0.5, label='日收益率数据点')\n",
    "\n",
    "# 回归线\n",
    "x_range = np.linspace(data_spy_aligned['Daily Return'].min(), data_spy_aligned['Daily Return'].max(), 100)\n",
    "y_pred = model.params[0] + model.params[1] * x_range\n",
    "plt.plot(x_range, y_pred, 'r', linewidth=2, label=f'回归线 (Beta = {beta_aapl:.4f})')\n",
    "\n",
    "# 添加市场线（Beta=1）\n",
    "y_market = model.params[0] + 1 * x_range\n",
    "plt.plot(x_range, y_market, 'g--', linewidth=2, label='市场线 (Beta = 1)')\n",
    "\n",
    "# 设置图表属性\n",
    "plt.title('AAPL与市场(SPY)收益率回归分析', fontsize=16)\n",
    "plt.xlabel('市场(SPY)日收益率', fontsize=12)\n",
    "plt.ylabel('AAPL日收益率', fontsize=12)\n",
    "plt.legend(fontsize=12)\n",
    "plt.grid(True, linestyle='--', alpha=0.7)\n",
    "\n",
    "# 添加注释\n",
    "plt.annotate(f\"Beta = {beta_aapl:.4f}\\nR² = {model.rsquared:.4f}\", \n",
    "             xy=(0.05, 0.95), \n",
    "             xycoords='axes fraction',\n",
    "             fontsize=12,\n",
    "             bbox=dict(boxstyle=\"round,pad=0.3\", fc=\"white\", ec=\"gray\", alpha=0.8))\n",
    "\n",
    "plt.tight_layout()\n",
    "plt.show()"
   ]
  },
  {
   "cell_type": "code",
   "execution_count": null,
   "metadata": {},
   "outputs": [],
   "source": [
    "# 特雷诺比率比较可视化\n",
    "plt.figure(figsize=(10, 6))\n",
    "\n",
    "# 创建条形图\n",
    "assets = ['AAPL', 'SPY (市场)']\n",
    "treynor_values = [annual_treynor_aapl, annual_treynor_spy]\n",
    "colors = ['blue', 'green']\n",
    "\n",
    "# 绘制条形图\n",
    "bars = plt.bar(assets, treynor_values, color=colors, width=0.6)\n",
    "\n",
    "# 添加条形图上的数值标签\n",
    "for bar in bars:\n",
    "    height = bar.get_height()\n",
    "    plt.text(bar.get_x() + bar.get_width()/2., height + 0.002,\n",
    "             f'{height:.4f}',\n",
    "             ha='center', va='bottom', fontsize=12)\n",
    "\n",
    "# 设置图表属性\n",
    "plt.title('AAPL与市场(SPY)的年化特雷诺比率比较', fontsize=16)\n",
    "plt.ylabel('年化特雷诺比率', fontsize=12)\n",
    "plt.grid(True, linestyle='--', alpha=0.3, axis='y')\n",
    "\n",
    "# 添加注释解释\n",
    "plt.figtext(0.15, 0.02, \n",
    "            f\"注: 特雷诺比率 = (资产收益率 - 无风险收益率) / Beta\\nAAPL Beta: {beta_aapl:.4f}, 市场(SPY) Beta: 1.00\", \n",
    "            ha=\"left\", fontsize=10,\n",
    "            bbox={\"facecolor\":\"white\", \"alpha\":0.9, \"pad\":5})\n",
    "\n",
    "plt.tight_layout(padding=2)\n",
    "plt.show()"
   ]
  },
  {
   "cell_type": "code",
   "execution_count": null,
   "metadata": {},
   "outputs": [],
   "source": [
    "# 累计收益率对比\n",
    "# 计算累计收益率\n",
    "data_aapl_aligned['Cumulative Return'] = (1 + data_aapl_aligned['Daily Return']).cumprod()\n",
    "data_spy_aligned['Cumulative Return'] = (1 + data_spy_aligned['Daily Return']).cumprod()\n",
    "\n",
    "plt.figure(figsize=(12, 6))\n",
    "plt.plot(data_aapl_aligned.index, data_aapl_aligned['Cumulative Return'], 'b-', linewidth=2, label='AAPL累计收益')\n",
    "plt.plot(data_spy_aligned.index, data_spy_aligned['Cumulative Return'], 'g-', linewidth=2, label='SPY累计收益')\n",
    "plt.title('AAPL与SPY累计收益率对比', fontsize=16)\n",
    "plt.xlabel('日期', fontsize=12)\n",
    "plt.ylabel('累计收益率', fontsize=12)\n",
    "plt.legend(fontsize=12)\n",
    "plt.grid(True, linestyle='--', alpha=0.7)\n",
    "\n",
    "# 添加注释\n",
    "plt.annotate(f\"AAPL Beta: {beta_aapl:.4f}\\nAAPL Treynor: {annual_treynor_aapl:.4f}\\nSPY Treynor: {annual_treynor_spy:.4f}\", \n",
    "             xy=(0.05, 0.95), \n",
    "             xycoords='axes fraction',\n",
    "             fontsize=12,\n",
    "             bbox=dict(boxstyle=\"round,pad=0.3\", fc=\"white\", ec=\"gray\", alpha=0.8))\n",
    "\n",
    "plt.tight_layout()\n",
    "plt.show()"
   ]
  },
  {
   "cell_type": "markdown",
   "metadata": {},
   "source": [
    "## 1.8 结果分析与解释\n",
    "\n",
    "通过上述计算和可视化，我们可以得出以下结论：\n",
    "\n",
    "1. **Beta系数解读**：\n",
    "   - AAPL的Beta值为{beta_aapl:.4f}\n",
    "   - Beta > 1表示AAPL的波动性大于市场，对市场变动的反应更为敏感\n",
    "   - Beta < 1表示AAPL的波动性小于市场，相对稳定\n",
    "   - 在本例中，AAPL的Beta {'大于' if beta_aapl > 1 else '小于'} 1，说明它的系统性风险{'高于' if beta_aapl > 1 else '低于'}市场平均水平\n",
    "\n",
    "2. **特雷诺比率比较**：\n",
    "   - AAPL的年化特雷诺比率为{annual_treynor_aapl:.4f}\n",
    "   - SPY的年化特雷诺比率为{annual_treynor_spy:.4f}\n",
    "   - AAPL的特雷诺比率{'高于' if annual_treynor_aapl > annual_treynor_spy else '低于'}市场，表明在考虑系统性风险后，AAPL{'提供了更好的' if annual_treynor_aapl > annual_treynor_spy else '提供了较差的'}风险调整收益\n",
    "\n",
    "3. **回归分析结果**：\n",
    "   - 回归方程：AAPL收益率 = {model.params[0]:.6f} + {model.params[1]:.4f} × SPY收益率\n",
    "   - R²值为{model.rsquared:.4f}，表明市场收益率能解释AAPL收益率变动的{model.rsquared:.2%}\n",
    "   - 这意味着AAPL的收益有{(1-model.rsquared):.2%}来自非系统性因素（公司特有因素）\n",
    "\n",
    "4. **投资策略建议**：\n",
    "   - 特雷诺比率主要关注投资的系统性风险，适合用于评估已经分散化的投资组合\n",
    "   - 如果投资者主要关注系统性风险，并且{'已经通过' if annual_treynor_aapl > annual_treynor_spy else '希望通过'}投资AAPL降低非系统性风险，则可以{'考虑' if annual_treynor_aapl > annual_treynor_spy else '谨慎考虑'}投资AAPL\n",
    "   - 需要注意的是，特雷诺比率假设非系统性风险已经通过分散投资消除，因此单一股票的特雷诺比率应该结合其他指标一起考虑\n",
    "\n",
    "5. **与夏普比率的对比**：\n",
    "   - 与夏普比率不同，特雷诺比率只考虑系统性风险(Beta)，而忽略了总风险（标准差）\n",
    "   - 特雷诺比率更适合评估已经分散投资的组合，而夏普比率适用于评估任何类型的投资\n",
    "   - 对于单一资产，同时考虑特雷诺比率和夏普比率能提供更全面的风险收益评估"
   ]
  }
 ],
 "metadata": {
  "kernelspec": {
   "display_name": "Python 3",
   "language": "python",
   "name": "python3"
  },
  "language_info": {
   "codemirror_mode": {
    "name": "ipython",
    "version": 3
   },
   "file_extension": ".py",
   "mimetype": "text/x-python",
   "name": "python",
   "nbconvert_exporter": "python",
   "pygments_lexer": "ipython3",
   "version": "3.8.8"
  }
 },
 "nbformat": 4,
 "nbformat_minor": 4
}
