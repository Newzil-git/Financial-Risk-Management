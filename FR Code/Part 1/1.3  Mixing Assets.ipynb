{
 "cells": [
  {
   "cell_type": "code",
   "execution_count": null,
   "id": "8c8f4a45",
   "metadata": {},
   "outputs": [],
   "source": [
    "import pandas as pd\n",
    "import numpy as np\n",
    "import matplotlib.pyplot as plt\n",
    "import yfinance as yf"
   ]
  },
  {
   "cell_type": "code",
   "execution_count": null,
   "id": "917f6126",
   "metadata": {},
   "outputs": [],
   "source": [
    "# 读取AAPL数据和US国债数据\n",
    "aapl_data = pd.read_csv('AAPL_data.csv')  # AAPL 股票数据\n",
    "debt_data = pd.read_csv('US_national_debt _data.csv')  # 美国国债数据"
   ]
  },
  {
   "cell_type": "code",
   "execution_count": null,
   "id": "0caadd68",
   "metadata": {},
   "outputs": [],
   "source": [
    "# 提取收盘价数据并计算对数收益率\n",
    "aapl_data['Close'] = pd.to_numeric(aapl_data['Close'], errors='coerce')\n",
    "debt_data['Close'] = pd.to_numeric(debt_data['Close'], errors='coerce')"
   ]
  },
  {
   "cell_type": "code",
   "execution_count": null,
   "id": "f29f35b7",
   "metadata": {},
   "outputs": [],
   "source": [
    "# 计算每日收益率（对数收益率）\n",
    "aapl_returns = np.log(aapl_data['Close'] / aapl_data['Close'].shift(1)).dropna()\n",
    "debt_returns = np.log(debt_data['Close'] / debt_data['Close'].shift(1)).dropna()"
   ]
  },
  {
   "cell_type": "code",
   "execution_count": null,
   "id": "d424589b",
   "metadata": {},
   "outputs": [],
   "source": [
    "# 计算平均收益率和波动率（标准差）\n",
    "avg_aapl = aapl_returns.mean()\n",
    "avg_debt = debt_returns.mean()\n",
    "std_aapl = aapl_returns.std()\n",
    "std_debt = debt_returns.std()"
   ]
  },
  {
   "cell_type": "code",
   "execution_count": null,
   "id": "311c5d42",
   "metadata": {},
   "outputs": [],
   "source": [
    "# 计算资产间的相关系数\n",
    "correlation = aapl_returns.corr(debt_returns)"
   ]
  },
  {
   "cell_type": "code",
   "execution_count": null,
   "id": "2c78f0d3",
   "metadata": {},
   "outputs": [],
   "source": [
    "# 计算不同权重下的投资组合收益率和波动率\n",
    "weights = np.linspace(0, 1, 100)\n",
    "portfolio_returns = []\n",
    "portfolio_volatility = []"
   ]
  },
  {
   "cell_type": "code",
   "execution_count": null,
   "id": "f860861c",
   "metadata": {},
   "outputs": [],
   "source": [
    "for w in weights:\n",
    "    # 组合的预期回报\n",
    "    portfolio_return = w * avg_aapl + (1 - w) * avg_debt\n",
    "    portfolio_returns.append(portfolio_return)\n",
    "\n",
    "    # 组合的波动率\n",
    "    portfolio_vol = np.sqrt(\n",
    "        w ** 2 * std_aapl ** 2 + (1 - w) ** 2 * std_debt ** 2 + 2 * w * (1 - w) * correlation * std_aapl * std_debt)\n",
    "    portfolio_volatility.append(portfolio_vol)"
   ]
  },
  {
   "cell_type": "code",
   "execution_count": null,
   "id": "937155c1",
   "metadata": {},
   "outputs": [],
   "source": [
    "# 绘制风险-回报曲线\n",
    "plt.figure(figsize=(10, 6))\n",
    "plt.plot(portfolio_volatility, portfolio_returns, label=\"Portfolio Mix\")\n",
    "plt.scatter(std_aapl, avg_aapl, color='blue', label=\"AAPL (Stock)\", marker='o')\n",
    "plt.scatter(std_debt, avg_debt, color='red', label=\"US Debt (Bond)\", marker='x')\n",
    "plt.title('Risk-Return Profile of Portfolio Mix')\n",
    "plt.xlabel('Volatility (%)')\n",
    "plt.ylabel('Expected Return (%)')\n",
    "plt.legend(loc='upper left')\n",
    "plt.grid(True)\n",
    "plt.show()"
   ]
  },
  {
   "cell_type": "code",
   "execution_count": null,
   "id": "debcdc92",
   "metadata": {},
   "outputs": [],
   "source": [
    "# 输出计算的结果\n",
    "print(f\"AAPL Expected Return: {avg_aapl * 100:.2f}%\")\n",
    "print(f\"AAPL Volatility: {std_aapl * 100:.2f}%\")\n",
    "print(f\"US Debt Expected Return: {avg_debt * 100:.2f}%\")\n",
    "print(f\"US Debt Volatility: {std_debt * 100:.2f}%\")\n",
    "print(f\"Correlation between AAPL and US Debt: {correlation:.2f}\")"
   ]
  }
 ],
 "metadata": {
  "jupytext": {
   "cell_metadata_filter": "-all",
   "main_language": "python",
   "notebook_metadata_filter": "-all"
  }
 },
 "nbformat": 4,
 "nbformat_minor": 5
}
