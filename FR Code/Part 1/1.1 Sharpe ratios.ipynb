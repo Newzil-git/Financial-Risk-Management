{
 "cells": [
  {
   "cell_type": "markdown",
   "metadata": {},
   "source": [
    "# 1.1 夏普比率 (Sharpe Ratio)\n",
    "\n",
    "## 概念介绍\n",
    "\n",
    "夏普比率是由诺贝尔经济学奖获得者威廉·夏普(William F. Sharpe)于1966年提出的，用于衡量投资组合的风险调整收益率。该比率计算超额收益与收益标准差之比，用于评估单位风险下的收益表现。\n",
    "\n",
    "### 夏普比率公式\n",
    "\n",
    "$Sharpe\\ Ratio = \\frac{R_p - R_f}{\\sigma_p}$\n",
    "\n",
    "其中：\n",
    "- $R_p$ 是投资组合的期望收益率\n",
    "- $R_f$ 是无风险收益率\n",
    "- $\\sigma_p$ 是投资组合收益率的标准差（波动率）\n",
    "\n",
    "夏普比率越高，表示投资组合在单位风险下的收益越好。通常，夏普比率大于1被认为是良好的风险回报特征。"
   ]
  },
  {
   "cell_type": "markdown",
   "metadata": {},
   "source": [
    "## 1.1 安装必要的库\n",
    "\n",
    "首先安装需要用到的Python库"
   ]
  },
  {
   "cell_type": "code",
   "execution_count": null,
   "metadata": {},
   "outputs": [],
   "source": [
    "# 安装必要的库\n",
    "!pip install pandas numpy matplotlib"
   ]
  },
  {
   "cell_type": "markdown",
   "metadata": {},
   "source": [
    "## 1.2 从Github加载数据\n"
   ]
  },
  {
   "cell_type": "code",
   "execution_count": null,
   "metadata": {},
   "outputs": [],
   "source": [
    "!wget -O AAPL_data.csv \"https://raw.githubusercontent.com/Newzil-git/Financial-Risk-Management/main/FR%20Code/Part%201/AAPL_data.csv\"\n",
    "!wget -O SPY_data.csv \"https://raw.githubusercontent.com/Newzil-git/Financial-Risk-Management/main/FR%20Code/Part%201/1.6_market_data.csv\"\n",
    "file_path_aapl = \"AAPL_data.csv\"\n",
    "file_path_spy = \"SPY_data.csv\""
   ]
  },
  {
   "cell_type": "markdown",
   "metadata": {},
   "source": [
    "## 1.3 导入必要的库"
   ]
  },
  {
   "cell_type": "code",
   "execution_count": 8,
   "metadata": {},
   "outputs": [],
   "source": [
    "import pandas as pd\n",
    "import numpy as np\n",
    "import matplotlib.pyplot as plt\n",
    "\n",
    "# 设置中文显示\n",
    "plt.rcParams['font.sans-serif'] = ['SimHei']  # 用来正常显示中文标签\n",
    "plt.rcParams['axes.unicode_minus'] = False    # 用来正常显示负号"
   ]
  },
  {
   "cell_type": "markdown",
   "metadata": {},
   "source": [
    "## 1.4 数据加载和预处理"
   ]
  },
  {
   "cell_type": "code",
   "execution_count": null,
   "metadata": {},
   "outputs": [],
   "source": [
    "# 设定无风险收益率\n",
    "risk_free_rate = 0.02  # 假设年化无风险利率为2%\n",
    "\n",
    "# 读取 CSV 并跳过前两行\n",
    "column_names = [\"Date\", \"Open\", \"High\", \"Low\", \"Close\", \"Volume\"]\n",
    "\n",
    "try:\n",
    "    data_aapl = pd.read_csv(file_path_aapl, skiprows=3, names=column_names)\n",
    "    data_spy = pd.read_csv(file_path_spy, skiprows=3, names=column_names)\n",
    "    print(\"数据加载成功\")\n",
    "except Exception as e:\n",
    "    print(f\"数据加载失败: {e}\")\n",
    "    # 如果加载失败，尝试不跳过行读取\n",
    "    try:\n",
    "        data_aapl = pd.read_csv(file_path_aapl)\n",
    "        data_spy = pd.read_csv(file_path_spy)\n",
    "        print(\"重新尝试数据加载成功\")\n",
    "    except Exception as e:\n",
    "        print(f\"数据加载再次失败: {e}\")"
   ]
  },
  {
   "cell_type": "code",
   "execution_count": null,
   "metadata": {},
   "outputs": [],
   "source": [
    "# 数据预览\n",
    "print(\"AAPL数据预览:\")\n",
    "display(data_aapl.head())\n",
    "print(\"\\nSPY数据预览:\")\n",
    "display(data_spy.head())"
   ]
  },
  {
   "cell_type": "code",
   "execution_count": null,
   "metadata": {},
   "outputs": [],
   "source": [
    "# 统一列名（将 \"Close\" 重命名为 \"Adj Close\"）\n",
    "data_aapl.rename(columns={'Close': 'Adj Close'}, inplace=True)\n",
    "data_spy.rename(columns={'Close': 'Adj Close'}, inplace=True)\n",
    "\n",
    "# 转换日期格式并设置索引\n",
    "try:\n",
    "    data_aapl['Date'] = pd.to_datetime(data_aapl['Date'], format=\"%Y/%m/%d\")\n",
    "except Exception as e:\n",
    "    print(f\"AAPL日期转换错误，尝试自动检测格式: {e}\")\n",
    "    data_aapl['Date'] = pd.to_datetime(data_aapl['Date'])\n",
    "\n",
    "try:    \n",
    "    data_spy['Date'] = pd.to_datetime(data_spy['Date'], format=\"%Y/%m/%d\")\n",
    "except Exception as e:\n",
    "    print(f\"SPY日期转换错误，尝试自动检测格式: {e}\")\n",
    "    data_spy['Date'] = pd.to_datetime(data_spy['Date'])\n",
    "\n",
    "data_aapl.set_index('Date', inplace=True)\n",
    "data_spy.set_index('Date', inplace=True)\n",
    "\n",
    "# 数据基本统计量\n",
    "print(\"\\nAAPL数据基本统计量:\")\n",
    "display(data_aapl.describe())\n",
    "print(\"\\nSPY数据基本统计量:\")\n",
    "display(data_spy.describe())"
   ]
  },
  {
   "cell_type": "code",
   "execution_count": null,
   "metadata": {},
   "outputs": [],
   "source": [
    "# 计算每日收益率\n",
    "data_aapl['Daily Return'] = data_aapl['Adj Close'].pct_change()\n",
    "data_spy['Daily Return'] = data_spy['Adj Close'].pct_change()\n",
    "\n",
    "# 查看收益率\n",
    "print(\"AAPL日收益率:\")\n",
    "display(data_aapl['Daily Return'].head())\n",
    "print(\"\\nSPY日收益率:\")\n",
    "display(data_spy['Daily Return'].head())"
   ]
  },
  {
   "cell_type": "markdown",
   "metadata": {},
   "source": [
    "## 1.5 计算夏普比率"
   ]
  },
  {
   "cell_type": "code",
   "execution_count": 13,
   "metadata": {},
   "outputs": [],
   "source": [
    "# 定义夏普比率计算函数\n",
    "def calculate_sharpe_ratio(data, risk_free_rate=0.02):\n",
    "    \"\"\"计算夏普比率\n",
    "    \n",
    "    参数:\n",
    "        data: 包含'Daily Return'列的DataFrame\n",
    "        risk_free_rate: 年化无风险收益率，默认为2%\n",
    "        \n",
    "    返回:\n",
    "        sharpe_ratio: 夏普比率\n",
    "        annual_return: 年化收益率\n",
    "        annual_std: 年化标准差\n",
    "    \"\"\"\n",
    "    avg_daily_return = data['Daily Return'].mean()\n",
    "    std_daily_return = data['Daily Return'].std()\n",
    "\n",
    "    # 年化收益率和标准差\n",
    "    annual_return = avg_daily_return * 252  # 假设一年有252个交易日\n",
    "    annual_std = std_daily_return * np.sqrt(252)\n",
    "\n",
    "    # 计算夏普比率\n",
    "    sharpe_ratio = (annual_return - risk_free_rate) / annual_std\n",
    "    return sharpe_ratio, annual_return, annual_std"
   ]
  },
  {
   "cell_type": "code",
   "execution_count": null,
   "metadata": {},
   "outputs": [],
   "source": [
    "# 计算 AAPL 和 SPY 的夏普比率\n",
    "sharpe_aapl, return_aapl, std_aapl = calculate_sharpe_ratio(data_aapl)\n",
    "sharpe_spy, return_spy, std_spy = calculate_sharpe_ratio(data_spy)\n",
    "\n",
    "# 打印计算结果\n",
    "print(f\"AAPL 夏普比率: {sharpe_aapl:.2f}, 年化收益率: {return_aapl:.2%}, 年化标准差: {std_aapl:.2%}\")\n",
    "print(f\"SPY 夏普比率: {sharpe_spy:.2f}, 年化收益率: {return_spy:.2%}, 年化标准差: {std_spy:.2%}\")"
   ]
  },
  {
   "cell_type": "markdown",
   "metadata": {},
   "source": [
    "## 1.6 结果可视化"
   ]
  },
  {
   "cell_type": "code",
   "execution_count": null,
   "metadata": {},
   "outputs": [],
   "source": [
    "# 1. 价格走势图\n",
    "plt.figure(figsize=(12, 5))\n",
    "plt.plot(data_aapl.index, data_aapl['Adj Close'], label=\"AAPL价格\", color='blue')\n",
    "plt.plot(data_spy.index, data_spy['Adj Close'], label=\"SPY价格\", color='orange')\n",
    "plt.title(\"AAPL vs SPY 价格走势\")\n",
    "plt.xlabel(\"日期\")\n",
    "plt.ylabel(\"价格 ($)\")\n",
    "plt.legend()\n",
    "plt.grid(True)\n",
    "plt.show()"
   ]
  },
  {
   "cell_type": "code",
   "execution_count": null,
   "metadata": {},
   "outputs": [],
   "source": [
    "# 2. 收益率分布图\n",
    "plt.figure(figsize=(10, 5))\n",
    "plt.hist(data_aapl['Daily Return'].dropna(), bins=50, alpha=0.6, label=\"AAPL\", color='blue')\n",
    "plt.hist(data_spy['Daily Return'].dropna(), bins=50, alpha=0.6, label=\"SPY\", color='orange')\n",
    "plt.axvline(data_aapl['Daily Return'].mean(), color='blue', linestyle='dashed', linewidth=2, label=\"AAPL均值\")\n",
    "plt.axvline(data_spy['Daily Return'].mean(), color='orange', linestyle='dashed', linewidth=2, label=\"SPY均值\")\n",
    "plt.title(\"日收益率分布: AAPL vs SPY\")\n",
    "plt.xlabel(\"日收益率\")\n",
    "plt.ylabel(\"频率\")\n",
    "plt.legend()\n",
    "plt.grid(True)\n",
    "plt.show()"
   ]
  },
  {
   "cell_type": "code",
   "execution_count": null,
   "metadata": {},
   "outputs": [],
   "source": [
    "# 3. 累计收益率图\n",
    "data_aapl['Cumulative Return'] = (1 + data_aapl['Daily Return']).cumprod()\n",
    "data_spy['Cumulative Return'] = (1 + data_spy['Daily Return']).cumprod()\n",
    "\n",
    "plt.figure(figsize=(12, 5))\n",
    "plt.plot(data_aapl.index, data_aapl['Cumulative Return'], label=\"AAPL累计收益率\", color='blue')\n",
    "plt.plot(data_spy.index, data_spy['Cumulative Return'], label=\"SPY累计收益率\", color='orange')\n",
    "plt.title(\"累计收益率: AAPL vs SPY\")\n",
    "plt.xlabel(\"日期\")\n",
    "plt.ylabel(\"累计收益率\")\n",
    "plt.legend()\n",
    "plt.grid(True)\n",
    "plt.show()"
   ]
  },
  {
   "cell_type": "code",
   "execution_count": null,
   "metadata": {},
   "outputs": [],
   "source": [
    "# 4. 夏普比率可视化 - 资本市场线\n",
    "# 资产数据\n",
    "assets = ['AAPL', 'SPY']\n",
    "annual_volatilities = [std_aapl, std_spy]  # 年波动率 (X 轴)\n",
    "annual_returns = [return_aapl, return_spy]  # 年期望收益率 (Y 轴)\n",
    "\n",
    "# 计算夏普比率斜率\n",
    "sharpe_ratios = [(r - risk_free_rate) / s for r, s in zip(annual_returns, annual_volatilities)]\n",
    "\n",
    "# 创建图形\n",
    "plt.figure(figsize=(8, 6))\n",
    "\n",
    "# 绘制资本市场线 (CML)，从无风险收益率开始\n",
    "x_values = np.linspace(0, max(annual_volatilities) * 1.2, 100)\n",
    "y_values = risk_free_rate + sharpe_aapl * x_values  # 使用 AAPL 的夏普比率画斜率\n",
    "plt.plot(x_values, y_values, linestyle=\"--\", color=\"black\", label=\"资本市场线 (CML)\")\n",
    "\n",
    "# 绘制 AAPL 和 SPY 的点\n",
    "for i, asset in enumerate(assets):\n",
    "    plt.scatter(annual_volatilities[i], annual_returns[i], s=100, label=asset, edgecolors='black')\n",
    "    plt.text(annual_volatilities[i], annual_returns[i], f\"  {asset}\", fontsize=12, verticalalignment='bottom', horizontalalignment='left')\n",
    "\n",
    "# 绘制无风险资产（现金）的点\n",
    "plt.scatter(0, risk_free_rate, color='red', s=100, label=\"无风险资产\", edgecolors='black')\n",
    "plt.text(0, risk_free_rate, \"  现金\", fontsize=12, verticalalignment='bottom', horizontalalignment='left')\n",
    "\n",
    "# 设置图表标题和标签\n",
    "plt.title(\"夏普比率比较 (年化收益率 vs 风险)\")\n",
    "plt.xlabel(\"年化波动率 (%)\")\n",
    "plt.ylabel(\"年化期望收益率 (%)\")\n",
    "\n",
    "# 添加图例和网格\n",
    "plt.legend()\n",
    "plt.grid(True, linestyle='--', alpha=0.7)\n",
    "\n",
    "# 展示图表\n",
    "plt.show()"
   ]
  },
  {
   "cell_type": "markdown",
   "metadata": {},
   "source": [
    "## 1.7 结果分析与解释\n",
    "\n",
    "通过上述计算和可视化，我们可以得出以下结论：\n",
    "\n",
    "1. **夏普比率比较**：\n",
    "   - AAPL夏普比率：显示了苹果公司在风险调整后的收益表现\n",
    "   - SPY夏普比率：反映了标普500指数的风险调整收益\n",
    "   - 两者的对比可以判断哪个投资在单位风险下提供了更好的收益\n",
    "\n",
    "2. **价格走势分析**：\n",
    "   - 通过价格走势图，我们可以直观地看到AAPL和SPY在研究期间的价格变动情况\n",
    "   - 价格走势反映了市场对这两种资产的估值变化\n",
    "\n",
    "3. **收益率分布特征**：\n",
    "   - 收益率分布直方图展示了每日收益率的频率分布\n",
    "   - 通过比较两个分布的形状、集中趋势和离散程度，我们可以判断两种资产的风险特征\n",
    "\n",
    "4. **累计收益率表现**：\n",
    "   - 累计收益率图展示了长期持有这两种资产的收益表现\n",
    "   - 这个指标对长期投资者特别重要\n",
    "\n",
    "5. **资本市场线分析**：\n",
    "   - 资本市场线(CML)展示了风险与收益的理论关系\n",
    "   - 投资者可以根据自己的风险偏好，在这条线上选择适合的投资组合"
   ]
  }
 ],
 "metadata": {
  "kernelspec": {
   "display_name": "base",
   "language": "python",
   "name": "python3"
  },
  "language_info": {
   "codemirror_mode": {
    "name": "ipython",
    "version": 3
   },
   "file_extension": ".py",
   "mimetype": "text/x-python",
   "name": "python",
   "nbconvert_exporter": "python",
   "pygments_lexer": "ipython3",
   "version": "3.9.13"
  }
 },
 "nbformat": 4,
 "nbformat_minor": 4
}
