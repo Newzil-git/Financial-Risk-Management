{
 "cells": [
  {
   "cell_type": "code",
   "execution_count": null,
   "id": "49d69020",
   "metadata": {},
   "outputs": [],
   "source": [
    "import pandas as pd\n",
    "import numpy as np\n",
    "import matplotlib.pyplot as plt"
   ]
  },
  {
   "cell_type": "code",
   "execution_count": null,
   "id": "19400420",
   "metadata": {},
   "outputs": [],
   "source": [
    "# 无风险收益率\n",
    "risk_free_rate = 0.02\n",
    "# 文件路径\n",
    "file_path_aapl = \"AAPL_data.csv\"\n",
    "file_path_spy = \"SPY_data.csv\""
   ]
  },
  {
   "cell_type": "code",
   "execution_count": null,
   "id": "44a48c42",
   "metadata": {},
   "outputs": [],
   "source": [
    "# 读取 CSV 并跳过前两行\n",
    "column_names = [\"Date\", \"Open\", \"High\", \"Low\", \"Close\", \"Volume\"]"
   ]
  },
  {
   "cell_type": "code",
   "execution_count": null,
   "id": "2f699f48",
   "metadata": {},
   "outputs": [],
   "source": [
    "data_aapl = pd.read_csv(file_path_aapl, skiprows=3, names=column_names)\n",
    "data_spy = pd.read_csv(file_path_spy, skiprows=3, names=column_names)"
   ]
  },
  {
   "cell_type": "code",
   "execution_count": null,
   "id": "9d23a562",
   "metadata": {},
   "outputs": [],
   "source": [
    "# 统一列名（将 \"Close\" 重命名为 \"Adj Close\"）\n",
    "data_aapl.rename(columns={'Close': 'Adj Close'}, inplace=True)\n",
    "data_spy.rename(columns={'Close': 'Adj Close'}, inplace=True)"
   ]
  },
  {
   "cell_type": "code",
   "execution_count": null,
   "id": "4122fc13",
   "metadata": {},
   "outputs": [],
   "source": [
    "# 转换日期格式并设置索引\n",
    "data_aapl['Date'] = pd.to_datetime(data_aapl['Date'], format=\"%Y/%m/%d\")\n",
    "data_spy['Date'] = pd.to_datetime(data_spy['Date'])"
   ]
  },
  {
   "cell_type": "code",
   "execution_count": null,
   "id": "c1489777",
   "metadata": {},
   "outputs": [],
   "source": [
    "data_aapl.set_index('Date', inplace=True)\n",
    "data_spy.set_index('Date', inplace=True)"
   ]
  },
  {
   "cell_type": "code",
   "execution_count": null,
   "id": "db4d688a",
   "metadata": {
    "lines_to_next_cell": 1
   },
   "outputs": [],
   "source": [
    "# 计算每日收益率\n",
    "data_aapl['Daily Return'] = data_aapl['Adj Close'].pct_change()\n",
    "data_spy['Daily Return'] = data_spy['Adj Close'].pct_change()"
   ]
  },
  {
   "cell_type": "code",
   "execution_count": null,
   "id": "3513b60c",
   "metadata": {
    "lines_to_next_cell": 1
   },
   "outputs": [],
   "source": [
    "# 计算 Sharpe Ratio\n",
    "def calculate_sharpe_ratio(data, risk_free_rate=0.02):\n",
    "    avg_daily_return = data['Daily Return'].mean()\n",
    "    std_daily_return = data['Daily Return'].std()\n",
    "\n",
    "    # 年化收益率 标准差\n",
    "    annual_return = avg_daily_return * 252\n",
    "    annual_std = std_daily_return * np.sqrt(252)\n",
    "\n",
    "    # 计算 Sharpe Ratio\n",
    "    sharpe_ratio = (annual_return - risk_free_rate) / annual_std\n",
    "    return sharpe_ratio, annual_return, annual_std"
   ]
  },
  {
   "cell_type": "code",
   "execution_count": null,
   "id": "7b8e12b0",
   "metadata": {},
   "outputs": [],
   "source": [
    "# 计算 AAPL 和 SPY 的 Sharpe Ratio\n",
    "sharpe_aapl, return_aapl, std_aapl = calculate_sharpe_ratio(data_aapl)\n",
    "sharpe_spy, return_spy, std_spy = calculate_sharpe_ratio(data_spy)"
   ]
  },
  {
   "cell_type": "code",
   "execution_count": null,
   "id": "d0e72009",
   "metadata": {},
   "outputs": [],
   "source": [
    "# 打印计算结果\n",
    "print(f\"AAPL 夏普比率: {sharpe_aapl:.2f}, 年化收益率: {return_aapl:.2%}, 年化标准差: {std_aapl:.2%}\")\n",
    "print(f\"SPY 夏普比率: {sharpe_spy:.2f}, 年化收益率: {return_spy:.2%}, 年化标准差: {std_spy:.2%}\")"
   ]
  },
  {
   "cell_type": "code",
   "execution_count": null,
   "id": "ee9f685b",
   "metadata": {},
   "outputs": [],
   "source": [
    "# 可视化\n",
    "# 1. 价格走势\n",
    "plt.figure(figsize=(12, 5))\n",
    "plt.plot(data_aapl.index, data_aapl['Adj Close'], label=\"AAPL Price\", color='blue')\n",
    "plt.plot(data_spy.index, data_spy['Adj Close'], label=\"SPY Price\", color='orange')\n",
    "plt.title(\"AAPL vs SPY Price Trend (2022-2025)\")\n",
    "plt.xlabel(\"Date\")\n",
    "plt.ylabel(\"Price ($)\")\n",
    "plt.legend()\n",
    "plt.grid(True)\n",
    "plt.show()"
   ]
  },
  {
   "cell_type": "code",
   "execution_count": null,
   "id": "8db87cc4",
   "metadata": {},
   "outputs": [],
   "source": [
    "# 2. 收益率分布\n",
    "plt.figure(figsize=(10, 5))\n",
    "plt.hist(data_aapl['Daily Return'].dropna(), bins=50, alpha=0.6, label=\"AAPL\", color='blue')\n",
    "plt.hist(data_spy['Daily Return'].dropna(), bins=50, alpha=0.6, label=\"SPY\", color='orange')\n",
    "plt.axvline(data_aapl['Daily Return'].mean(), color='blue', linestyle='dashed', linewidth=2, label=\"AAPL Mean\")\n",
    "plt.axvline(data_spy['Daily Return'].mean(), color='orange', linestyle='dashed', linewidth=2, label=\"SPY Mean\")\n",
    "plt.title(\"Daily Return Distribution: AAPL vs SPY\")\n",
    "plt.xlabel(\"Daily Return\")\n",
    "plt.ylabel(\"Frequency\")\n",
    "plt.legend()\n",
    "plt.grid(True)\n",
    "plt.show()"
   ]
  },
  {
   "cell_type": "code",
   "execution_count": null,
   "id": "4b04ff02",
   "metadata": {},
   "outputs": [],
   "source": [
    "# 3. 累计收益率\n",
    "data_aapl['Cumulative Return'] = (1 + data_aapl['Daily Return']).cumprod()\n",
    "data_spy['Cumulative Return'] = (1 + data_spy['Daily Return']).cumprod()"
   ]
  },
  {
   "cell_type": "code",
   "execution_count": null,
   "id": "eeb59d86",
   "metadata": {},
   "outputs": [],
   "source": [
    "plt.figure(figsize=(12, 5))\n",
    "plt.plot(data_aapl.index, data_aapl['Cumulative Return'], label=\"AAPL Cumulative Return\", color='blue')\n",
    "plt.plot(data_spy.index, data_spy['Cumulative Return'], label=\"SPY Cumulative Return\", color='orange')\n",
    "plt.title(\"Cumulative Return: AAPL vs SPY (2022-2025)\")\n",
    "plt.xlabel(\"Date\")\n",
    "plt.ylabel(\"Cumulative Return\")\n",
    "plt.legend()\n",
    "plt.grid(True)\n",
    "plt.show()"
   ]
  },
  {
   "cell_type": "code",
   "execution_count": null,
   "id": "4d9c5a53",
   "metadata": {},
   "outputs": [],
   "source": [
    "# 资产数据\n",
    "assets = ['AAPL', 'SPY']\n",
    "annual_volatilities = [std_aapl, std_spy]  # 年波动率 (X 轴)\n",
    "annual_returns = [return_aapl, return_spy]  # 年期望收益率 (Y 轴)"
   ]
  },
  {
   "cell_type": "code",
   "execution_count": null,
   "id": "d8d9208b",
   "metadata": {},
   "outputs": [],
   "source": [
    "# 计算夏普比率斜率\n",
    "sharpe_ratios = [(r - risk_free_rate) / s for r, s in zip(annual_returns, annual_volatilities)]"
   ]
  },
  {
   "cell_type": "code",
   "execution_count": null,
   "id": "437ce578",
   "metadata": {},
   "outputs": [],
   "source": [
    "# 创建图形\n",
    "plt.figure(figsize=(8, 6))"
   ]
  },
  {
   "cell_type": "code",
   "execution_count": null,
   "id": "2d4a712d",
   "metadata": {},
   "outputs": [],
   "source": [
    "# 绘制资本市场线 (CML)，从无风险收益率开始\n",
    "x_values = np.linspace(0, max(annual_volatilities) * 1.2, 100)\n",
    "y_values = risk_free_rate + sharpe_aapl * x_values  # 使用 AAPL 的 Sharpe Ratio 画斜率\n",
    "plt.plot(x_values, y_values, linestyle=\"--\", color=\"black\", label=\"Capital Market Line (CML)\")"
   ]
  },
  {
   "cell_type": "code",
   "execution_count": null,
   "id": "0f04656c",
   "metadata": {},
   "outputs": [],
   "source": [
    "# 绘制 AAPL 和 SPY 的点\n",
    "for i, asset in enumerate(assets):\n",
    "    plt.scatter(annual_volatilities[i], annual_returns[i], s=100, label=asset, edgecolors='black')\n",
    "    plt.text(annual_volatilities[i], annual_returns[i], f\"  {asset}\", fontsize=12, verticalalignment='bottom', horizontalalignment='left')"
   ]
  },
  {
   "cell_type": "code",
   "execution_count": null,
   "id": "512dadbf",
   "metadata": {},
   "outputs": [],
   "source": [
    "# 绘制无风险资产（现金）的点\n",
    "plt.scatter(0, risk_free_rate, color='red', s=100, label=\"Risk-Free Asset\", edgecolors='black')\n",
    "plt.text(0, risk_free_rate, \"  Cash\", fontsize=12, verticalalignment='bottom', horizontalalignment='left')"
   ]
  },
  {
   "cell_type": "code",
   "execution_count": null,
   "id": "05c3283a",
   "metadata": {},
   "outputs": [],
   "source": [
    "# 设置图表标题和标签\n",
    "plt.title(\"Sharpe Ratio Comparison (Annual Return vs. Risk)\")\n",
    "plt.xlabel(\"Annual Volatility (%)\")\n",
    "plt.ylabel(\"Annual Expected Return (%)\")"
   ]
  },
  {
   "cell_type": "code",
   "execution_count": null,
   "id": "26fbf906",
   "metadata": {},
   "outputs": [],
   "source": [
    "# 添加图例和网格\n",
    "plt.legend()\n",
    "plt.grid(True, linestyle='--', alpha=0.7)"
   ]
  },
  {
   "cell_type": "code",
   "execution_count": null,
   "id": "09d446bf",
   "metadata": {},
   "outputs": [],
   "source": [
    "# 展示图表\n",
    "plt.show()"
   ]
  }
 ],
 "metadata": {
  "jupytext": {
   "cell_metadata_filter": "-all",
   "main_language": "python",
   "notebook_metadata_filter": "-all"
  }
 },
 "nbformat": 4,
 "nbformat_minor": 5
}
