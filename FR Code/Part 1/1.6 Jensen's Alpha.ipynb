{
 "cells": [
  {
   "cell_type": "code",
   "execution_count": null,
   "id": "8ea84873",
   "metadata": {},
   "outputs": [],
   "source": [
    "import pandas as pd\n",
    "import numpy as np\n",
    "import statsmodels.api as sm"
   ]
  },
  {
   "cell_type": "code",
   "execution_count": null,
   "id": "7a9d4355",
   "metadata": {},
   "outputs": [],
   "source": [
    "# 假设的无风险利率\n",
    "risk_free_rate = 0.02 / 252"
   ]
  },
  {
   "cell_type": "code",
   "execution_count": null,
   "id": "3dae8648",
   "metadata": {},
   "outputs": [],
   "source": [
    "# 读取数据\n",
    "file_path_aapl = \"AAPL_data.csv\"\n",
    "file_path_spy = \"SPY_data.csv\""
   ]
  },
  {
   "cell_type": "code",
   "execution_count": null,
   "id": "cc212b78",
   "metadata": {},
   "outputs": [],
   "source": [
    "# 读取 CSV 数据\n",
    "column_names = [\"Date\", \"Open\", \"High\", \"Low\", \"Close\", \"Volume\"]\n",
    "data_aapl = pd.read_csv(file_path_aapl, skiprows=3, names=column_names)\n",
    "data_spy = pd.read_csv(file_path_spy, skiprows=3, names=column_names)"
   ]
  },
  {
   "cell_type": "code",
   "execution_count": null,
   "id": "6fd6952f",
   "metadata": {},
   "outputs": [],
   "source": [
    "# 统一列名\n",
    "data_aapl.rename(columns={'Close': 'Adj Close'}, inplace=True)\n",
    "data_spy.rename(columns={'Close': 'Adj Close'}, inplace=True)"
   ]
  },
  {
   "cell_type": "code",
   "execution_count": null,
   "id": "e6ca3593",
   "metadata": {},
   "outputs": [],
   "source": [
    "# 转换日期格式\n",
    "data_aapl['Date'] = pd.to_datetime(data_aapl['Date'], format=\"%Y/%m/%d\")\n",
    "data_spy['Date'] = pd.to_datetime(data_spy['Date'])"
   ]
  },
  {
   "cell_type": "code",
   "execution_count": null,
   "id": "c7f23614",
   "metadata": {},
   "outputs": [],
   "source": [
    "# 设置索引\n",
    "data_aapl.set_index('Date', inplace=True)\n",
    "data_spy.set_index('Date', inplace=True)"
   ]
  },
  {
   "cell_type": "code",
   "execution_count": null,
   "id": "0b8d25f8",
   "metadata": {},
   "outputs": [],
   "source": [
    "# 计算每日收益率\n",
    "data_aapl['Daily Return'] = data_aapl['Adj Close'].pct_change()\n",
    "data_spy['Daily Return'] = data_spy['Adj Close'].pct_change()"
   ]
  },
  {
   "cell_type": "code",
   "execution_count": null,
   "id": "978eda28",
   "metadata": {},
   "outputs": [],
   "source": [
    "# 计算 AAPL 的 Beta 值\n",
    "X = sm.add_constant(data_spy['Daily Return'].dropna())\n",
    "y = data_aapl['Daily Return'].dropna()"
   ]
  },
  {
   "cell_type": "code",
   "execution_count": null,
   "id": "c747eace",
   "metadata": {
    "lines_to_next_cell": 2
   },
   "outputs": [],
   "source": [
    "model = sm.OLS(y, X).fit()\n",
    "beta_aapl = model.params.iloc[1]"
   ]
  },
  {
   "cell_type": "code",
   "execution_count": null,
   "id": "6f54852d",
   "metadata": {},
   "outputs": [],
   "source": [
    "# 计算 AAPL 和 SPY 的平均回报\n",
    "mu_aapl = data_aapl['Daily Return'].mean()\n",
    "mu_spy = data_spy['Daily Return'].mean()"
   ]
  },
  {
   "cell_type": "code",
   "execution_count": null,
   "id": "3ed084a1",
   "metadata": {},
   "outputs": [],
   "source": [
    "# 计算 Jensen's Alpha\n",
    "jensens_alpha_aapl = mu_aapl - risk_free_rate - beta_aapl * (mu_spy - risk_free_rate)"
   ]
  },
  {
   "cell_type": "code",
   "execution_count": null,
   "id": "e489f4f2",
   "metadata": {},
   "outputs": [],
   "source": [
    "# 打印结果\n",
    "print(f\"AAPL 的 Jensen's Alpha: {jensens_alpha_aapl:.4f}\")"
   ]
  }
 ],
 "metadata": {
  "jupytext": {
   "cell_metadata_filter": "-all",
   "main_language": "python",
   "notebook_metadata_filter": "-all"
  }
 },
 "nbformat": 4,
 "nbformat_minor": 5
}
