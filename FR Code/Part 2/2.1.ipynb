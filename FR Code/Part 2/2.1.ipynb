{
 "cells": [
  {
   "cell_type": "markdown",
   "metadata": {},
   "source": [
    "# 2.1 金融风险管理 - 投资组合分布特征分析\n",
    "\n",
    "本notebook展示了如何通过分析投资组合的偏度(Skewness)和峰度(Kurtosis)来评估风险特征。\n",
    "\n",
    "## 关键概念解释：\n",
    "\n",
    "* **偏度(Skewness)**: 衡量分布的不对称性程度\n",
    "  * 负偏度: 分布左侧尾部较长，大部分收益集中在右侧（可能有较大亏损风险）\n",
    "  * 正偏度: 分布右侧尾部较长，大部分收益集中在左侧（可能有较小概率获得高收益）\n",
    "  * 零偏度: 完全对称分布\n",
    "\n",
    "* **峰度(Kurtosis)**: 衡量分布尾部厚度，反映极端事件发生的概率\n",
    "  * 正态分布的峰度为3（有时称为超额峰度=0）\n",
    "  * 高峰度: 尾部更厚，极端事件发生概率更高\n",
    "  * 低峰度: 尾部更薄，极端事件发生概率更低"
   ]
  },
  {
   "cell_type": "markdown",
   "metadata": {},
   "source": [
    "## 1. 安装必要的库"
   ]
  },
  {
   "cell_type": "code",
   "execution_count": null,
   "metadata": {},
   "outputs": [],
   "source": [
    "# 安装必要的库\n",
    "!pip install numpy matplotlib scipy"
   ]
  },
  {
   "cell_type": "markdown",
   "metadata": {},
   "source": [
    "## 2. 导入相关库"
   ]
  },
  {
   "cell_type": "code",
   "execution_count": 2,
   "metadata": {},
   "outputs": [],
   "source": [
    "import numpy as np\n",
    "import matplotlib.pyplot as plt\n",
    "from scipy.stats import skewnorm, kurtosis\n",
    "\n",
    "# 设置中文显示\n",
    "plt.rcParams['font.sans-serif']=['SimHei']  # 用来正常显示中文标签\n",
    "plt.rcParams['axes.unicode_minus']=False    # 用来正常显示负号"
   ]
  },
  {
   "cell_type": "markdown",
   "metadata": {},
   "source": [
    "## 3. 定义投资组合参数\n",
    "\n",
    "这里我们定义两个具有不同偏度和峰度特征的投资组合，用于比较其风险特征。"
   ]
  },
  {
   "cell_type": "code",
   "execution_count": 3,
   "metadata": {},
   "outputs": [],
   "source": [
    "# 3.1 定义投资组合的偏度和峰度\n",
    "skewness_A = -1.6  # 投资组合A的偏度，负值表示左偏\n",
    "kurtosis_A = 1.9   # 投资组合A的峰度，小于3表示尾部较薄\n",
    "skewness_B = 0.8   # 投资组合B的偏度，正值表示右偏\n",
    "kurtosis_B = 3.2   # 投资组合B的峰度，大于3表示尾部较厚\n",
    "\n",
    "# 正态分布的峰度为3（参考值）\n",
    "normal_kurtosis = 3"
   ]
  },
  {
   "cell_type": "markdown",
   "metadata": {},
   "source": [
    "## 4. 生成模拟数据\n",
    "\n",
    "使用skewnorm分布生成具有特定偏度的数据，用于可视化分析。"
   ]
  },
  {
   "cell_type": "code",
   "execution_count": 4,
   "metadata": {},
   "outputs": [],
   "source": [
    "# 4.1 生成偏度和峰度的可视化数据\n",
    "data_A = skewnorm.rvs(skewness_A, size=1000)  # 生成投资组合A的收益率样本\n",
    "data_B = skewnorm.rvs(skewness_B, size=1000)  # 生成投资组合B的收益率样本"
   ]
  },
  {
   "cell_type": "markdown",
   "metadata": {},
   "source": [
    "## 5. 可视化投资组合特征\n",
    "\n",
    "通过直方图展示不同投资组合的收益率分布特征。"
   ]
  },
  {
   "cell_type": "code",
   "execution_count": null,
   "metadata": {},
   "outputs": [],
   "source": [
    "# 5.1 绘制直方图比较两个投资组合\n",
    "plt.figure(figsize=(12, 6))\n",
    "\n",
    "# 投资组合A直方图\n",
    "plt.subplot(1, 2, 1)\n",
    "plt.hist(data_A, bins=50, alpha=0.6, color='blue', label=f'偏度: {skewness_A}, 峰度: {kurtosis_A}')\n",
    "plt.title('投资组合A')\n",
    "plt.xlabel('收益率')\n",
    "plt.ylabel('频率')\n",
    "plt.legend()\n",
    "\n",
    "# 投资组合B直方图\n",
    "plt.subplot(1, 2, 2)\n",
    "plt.hist(data_B, bins=50, alpha=0.6, color='orange', label=f'偏度: {skewness_B}, 峰度: {kurtosis_B}')\n",
    "plt.title('投资组合B')\n",
    "plt.xlabel('收益率')\n",
    "plt.ylabel('频率')\n",
    "plt.legend()\n",
    "\n",
    "plt.tight_layout()\n",
    "plt.show()"
   ]
  },
  {
   "cell_type": "markdown",
   "metadata": {},
   "source": [
    "## 6. 结果分析\n",
    "\n",
    "### 投资组合A（负偏度，低峰度）：\n",
    "- 负偏度(-1.6)表示收益率分布左偏，大部分收益集中在右侧，但有长尾向左延伸\n",
    "- 这意味着有较高概率获得中等收益，但也存在小概率发生大幅亏损的风险\n",
    "- 低峰度(1.9)表示极端事件发生概率低于正态分布\n",
    "\n",
    "### 投资组合B（正偏度，高峰度）：\n",
    "- 正偏度(0.8)表示收益率分布右偏，大部分收益集中在左侧，但有长尾向右延伸\n",
    "- 这意味着有较高概率获得较小收益，但也存在小概率获得大幅收益的机会\n",
    "- 高峰度(3.2)表示极端事件发生概率高于正态分布\n",
    "\n",
    "### 风险管理启示：\n",
    "- 投资组合A可能更适合风险厌恶型投资者，因为大多数收益表现稳定\n",
    "- 投资组合B可能更适合风险偏好型投资者，愿意接受较小常规收益以追求偶尔的高回报\n",
    "- 峰度分析有助于评估极端市场事件对投资组合的潜在影响"
   ]
  }
 ],
 "metadata": {
  "kernelspec": {
   "display_name": "base",
   "language": "python",
   "name": "python3"
  },
  "language_info": {
   "codemirror_mode": {
    "name": "ipython",
    "version": 3
   },
   "file_extension": ".py",
   "mimetype": "text/x-python",
   "name": "python",
   "nbconvert_exporter": "python",
   "pygments_lexer": "ipython3",
   "version": "3.9.13"
  }
 },
 "nbformat": 4,
 "nbformat_minor": 4
}
