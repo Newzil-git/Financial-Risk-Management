{
 "cells": [
  {
   "cell_type": "markdown",
   "metadata": {},
   "source": [
    "# 2.4 金融风险管理 - 二项分布与金融概率事件分析\n",
    "\n",
    "本notebook演示了二项分布在金融风险管理中的应用，特别是计算特定事件发生概率的情景。\n",
    "\n",
    "## 关键概念解释：\n",
    "\n",
    "* **二项分布(Binomial Distribution)**:\n",
    "  * 描述n次独立的是/否试验中成功次数的概率分布\n",
    "  * 由参数n(试验次数)和p(单次试验成功概率)确定\n",
    "  * 用于建模具有两种可能结果的事件序列\n",
    "\n",
    "* **金融应用**:\n",
    "  * 风险事件发生概率估计\n",
    "  * 资产组合中特定数量资产违约概率\n",
    "  * 判断答对特定数量问题的概率（如本例）"
   ]
  },
  {
   "cell_type": "markdown",
   "metadata": {},
   "source": [
    "## 1. 安装必要的库"
   ]
  },
  {
   "cell_type": "code",
   "execution_count": null,
   "metadata": {},
   "outputs": [],
   "source": [
    "# 安装必要的库\n",
    "!pip install numpy matplotlib scipy"
   ]
  },
  {
   "cell_type": "markdown",
   "metadata": {},
   "source": [
    "## 2. 导入相关库"
   ]
  },
  {
   "cell_type": "code",
   "execution_count": 2,
   "metadata": {},
   "outputs": [],
   "source": [
    "from scipy.stats import binom\n",
    "import numpy as np\n",
    "import matplotlib.pyplot as plt\n",
    "\n",
    "# 设置中文显示\n",
    "plt.rcParams['font.sans-serif']=['SimHei']  # 用来正常显示中文标签\n",
    "plt.rcParams['axes.unicode_minus']=False    # 用来正常显示负号"
   ]
  },
  {
   "cell_type": "markdown",
   "metadata": {},
   "source": [
    "## 3. 设定二项分布参数\n",
    "\n",
    "在此例中，我们模拟一个有6个问题的测试，每个问题有25%的概率答对。"
   ]
  },
  {
   "cell_type": "code",
   "execution_count": null,
   "metadata": {},
   "outputs": [],
   "source": [
    "# 3.1 定义二项分布参数\n",
    "n = 6       # 问题总数\n",
    "p = 0.25    # 答对单个问题的概率\n",
    "\n",
    "print(f\"二项分布参数:\\n试验次数(n) = {n}\\n成功概率(p) = {p}\")"
   ]
  },
  {
   "cell_type": "markdown",
   "metadata": {},
   "source": [
    "## 4. 计算概率\n",
    "\n",
    "计算答对特定数量问题的概率以及累积概率。"
   ]
  },
  {
   "cell_type": "code",
   "execution_count": null,
   "metadata": {},
   "outputs": [],
   "source": [
    "# 4.1 计算答对0个或1个问题的概率\n",
    "p_x_0 = binom.pmf(0, n, p)    # P(X=0)\n",
    "p_x_1 = binom.pmf(1, n, p)    # P(X=1)\n",
    "\n",
    "# 4.2 计算答对少于2个问题的累积概率\n",
    "p_x_lt_2 = binom.cdf(1, n, p)  # P(X<2) = P(X=0) + P(X=1)\n",
    "\n",
    "print(f\"答对0个问题的概率: {p_x_0:.4f} ({p_x_0*100:.2f}%)\")\n",
    "print(f\"答对1个问题的概率: {p_x_1:.4f} ({p_x_1*100:.2f}%)\")\n",
    "print(f\"答对少于2个问题的累积概率: {p_x_lt_2:.4f} ({p_x_lt_2*100:.2f}%)\")"
   ]
  },
  {
   "cell_type": "markdown",
   "metadata": {},
   "source": [
    "## 5. 可视化分析\n",
    "\n",
    "绘制二项分布，并标注关注区域的概率。"
   ]
  },
  {
   "cell_type": "code",
   "execution_count": null,
   "metadata": {},
   "outputs": [],
   "source": [
    "# 5.1 生成二项分布数据\n",
    "k = np.arange(0, n+1)                 # 可能的答对问题数（0到6）\n",
    "binomial_pmf = binom.pmf(k, n, p)     # 计算各种可能结果的概率质量函数值\n",
    "\n",
    "# 5.2 绘制二项分布柱状图\n",
    "plt.figure(figsize=(10, 6))\n",
    "\n",
    "# 绘制所有可能的情况\n",
    "plt.bar(k, binomial_pmf, color='blue', alpha=0.7, label='二项分布 PMF')\n",
    "\n",
    "# 特别标注答对少于2个问题的区域\n",
    "plt.bar(k[k<2], binomial_pmf[k<2], color='red', alpha=0.7, label='答对少于2个问题')\n",
    "\n",
    "# 添加标签和标题\n",
    "plt.title(f'二项分布 (n={n}, p={p})')\n",
    "plt.xlabel('答对的问题数量')\n",
    "plt.ylabel('概率')\n",
    "plt.grid(True, alpha=0.3)\n",
    "plt.xticks(k)\n",
    "plt.legend()\n",
    "\n",
    "# 添加数值标签\n",
    "for i, prob in enumerate(binomial_pmf):\n",
    "    plt.text(i, prob + 0.01, f'{prob:.4f}', ha='center')\n",
    "\n",
    "plt.show()"
   ]
  },
  {
   "cell_type": "markdown",
   "metadata": {},
   "source": [
    "## 6. 结果分析"
   ]
  },
  {
   "cell_type": "code",
   "execution_count": null,
   "metadata": {},
   "outputs": [],
   "source": [
    "print(f\"答对少于2个问题的概率为: {p_x_lt_2:.4f} ({p_x_lt_2*100:.2f}%)\")"
   ]
  },
  {
   "cell_type": "markdown",
   "metadata": {},
   "source": [
    "## 7. 金融风险管理启示\n",
    "\n",
    "将二项分布应用到金融风险管理场景中的启示：\n",
    "\n",
    "1. **违约风险评估**：\n",
    "   - 如果将此模型应用于债券投资组合，其中p代表单个债券的违约概率，则可计算多个债券同时违约的概率\n",
    "   - 在本例中，如果p=0.25代表单个债券的违约率，那么在6只债券中有少于2只违约的概率为{p_x_lt_2:.4f}或{p_x_lt_2*100:.2f}%\n",
    "\n",
    "2. **组合风险控制**：\n",
    "   - 通过调整参数n（资产数量）和p（单个资产风险），可优化投资组合风险结构\n",
    "   - 例如，如果希望将多项资产同时违约的概率控制在特定水平，可计算所需的资产分散程度\n",
    "\n",
    "3. **风险事件概率估计**：\n",
    "   - 二项分布可用于估计金融市场中多个独立风险事件同时发生的概率\n",
    "   - 这对市场风险、操作风险等多种风险类型的量化具有重要意义\n",
    "\n",
    "4. **场景分析与压力测试**：\n",
    "   - 在压力测试中，可通过调整p值（单个事件风险概率）来模拟不同市场环境下的风险暴露\n",
    "   - 例如，在市场危机时期，p值可能需要上调以反映风险事件概率增加的状况"
   ]
  }
 ],
 "metadata": {
  "kernelspec": {
   "display_name": "base",
   "language": "python",
   "name": "python3"
  },
  "language_info": {
   "codemirror_mode": {
    "name": "ipython",
    "version": 3
   },
   "file_extension": ".py",
   "mimetype": "text/x-python",
   "name": "python",
   "nbconvert_exporter": "python",
   "pygments_lexer": "ipython3",
   "version": "3.9.13"
  }
 },
 "nbformat": 4,
 "nbformat_minor": 4
}
