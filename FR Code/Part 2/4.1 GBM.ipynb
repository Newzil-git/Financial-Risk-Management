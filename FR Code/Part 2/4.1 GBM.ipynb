{
 "cells": [
  {
   "cell_type": "code",
   "execution_count": null,
   "id": "1188183c",
   "metadata": {},
   "outputs": [],
   "source": [
    "import pandas as pd\n",
    "import numpy as np\n",
    "import matplotlib.pyplot as plt\n",
    "import matplotlib"
   ]
  },
  {
   "cell_type": "code",
   "execution_count": null,
   "id": "bc197dbe",
   "metadata": {},
   "outputs": [],
   "source": [
    "# 使用内建的中文字体设置\n",
    "matplotlib.rcParams['font.family'] = 'SimHei'  \n",
    "matplotlib.rcParams['axes.unicode_minus'] = False\n",
    "# 读取数据并清理\n",
    "data_file = '4.1 AAPL_data.csv'\n",
    "data = pd.read_csv(data_file)"
   ]
  },
  {
   "cell_type": "code",
   "execution_count": null,
   "id": "519e3ddf",
   "metadata": {},
   "outputs": [],
   "source": [
    "# 将 'Close' 列转换为数字类型\n",
    "data['Close'] = pd.to_numeric(data['Close'], errors='coerce')"
   ]
  },
  {
   "cell_type": "code",
   "execution_count": null,
   "id": "264a0861",
   "metadata": {},
   "outputs": [],
   "source": [
    "# 清理掉含有NaN的行\n",
    "data_clean = data.dropna(subset=['Close'])\n",
    "prices_clean = data_clean['Close'].values"
   ]
  },
  {
   "cell_type": "code",
   "execution_count": null,
   "id": "e30fa1a1",
   "metadata": {},
   "outputs": [],
   "source": [
    "# 计算日收益率\n",
    "returns_clean = np.diff(prices_clean) / prices_clean[:-1]"
   ]
  },
  {
   "cell_type": "code",
   "execution_count": null,
   "id": "5da2d693",
   "metadata": {},
   "outputs": [],
   "source": [
    "# 估计均值(mu)和波动率(sigma)\n",
    "mu_clean = np.mean(returns_clean)\n",
    "sigma_clean = np.std(returns_clean)"
   ]
  },
  {
   "cell_type": "code",
   "execution_count": null,
   "id": "cd964276",
   "metadata": {},
   "outputs": [],
   "source": [
    "# 设置模拟参数\n",
    "n_steps = 100  # 模拟的步数\n",
    "delta_t = 1 / 252  # 每步的时间间隔（假设每年252个交易日）\n",
    "initial_price = prices_clean[-1]"
   ]
  },
  {
   "cell_type": "code",
   "execution_count": null,
   "id": "3ae0df7a",
   "metadata": {},
   "outputs": [],
   "source": [
    "# 模拟多条路径的函数\n",
    "def simulate_multiple_paths(n_paths, n_steps, mu, sigma, initial_price, delta_t):\n",
    "    all_paths = []\n",
    "    for _ in range(n_paths):\n",
    "        simulated_prices = [initial_price]\n",
    "        for i in range(n_steps):\n",
    "            Z = np.random.normal(0, 1)\n",
    "            next_price = simulated_prices[-1] * np.exp((mu - 0.5 * sigma ** 2) * delta_t + sigma * np.sqrt(delta_t) * Z)\n",
    "            simulated_prices.append(next_price)\n",
    "        all_paths.append(simulated_prices)\n",
    "    return all_paths"
   ]
  },
  {
   "cell_type": "code",
   "execution_count": null,
   "id": "e00d6bf1",
   "metadata": {},
   "outputs": [],
   "source": [
    "# 模拟3条路径\n",
    "n_paths = 3\n",
    "paths = simulate_multiple_paths(n_paths, n_steps, mu_clean, sigma_clean, initial_price, delta_t)"
   ]
  },
  {
   "cell_type": "code",
   "execution_count": null,
   "id": "0e2944c1",
   "metadata": {},
   "outputs": [],
   "source": [
    "# 绘制多条路径\n",
    "for i, path in enumerate(paths):\n",
    "    plt.plot(path, label=f'Path #{i + 1}')"
   ]
  },
  {
   "cell_type": "code",
   "execution_count": null,
   "id": "b5840fef",
   "metadata": {},
   "outputs": [],
   "source": [
    "plt.title('模拟价格路径')\n",
    "plt.xlabel('未来步骤')\n",
    "plt.ylabel('价格')\n",
    "plt.legend()\n",
    "plt.show()"
   ]
  },
  {
   "cell_type": "code",
   "execution_count": null,
   "id": "3e84770f",
   "metadata": {},
   "outputs": [],
   "source": [
    "# 将模拟数据存储到DataFrame中，并生成表格\n",
    "simulated_prices_clean = np.array(paths[0])\n",
    "steps = list(range(n_steps + 1))\n",
    "uniform_random = [None] + [np.random.uniform(0, 1) for _ in range(n_steps)]\n",
    "normal_random = [None] + [\n",
    "    (mu_clean - 0.5 * sigma_clean ** 2) * delta_t + sigma_clean * np.sqrt(delta_t) * np.random.normal(0, 1) for _ in\n",
    "    range(n_steps)]\n",
    "simulated_data = pd.DataFrame({\n",
    "    \"Step\": steps,\n",
    "    \"Uniform\": uniform_random,\n",
    "    \"Normal\": normal_random,\n",
    "    \"Price Increment\": [None] + [\n",
    "        (mu_clean - 0.5 * sigma_clean ** 2) * delta_t + sigma_clean * np.sqrt(delta_t) * np.random.normal(0, 1) for _ in\n",
    "        range(n_steps)],\n",
    "    \"Price\": simulated_prices_clean\n",
    "})"
   ]
  },
  {
   "cell_type": "code",
   "execution_count": null,
   "id": "2cc1742e",
   "metadata": {},
   "outputs": [],
   "source": [
    "# 输出结果数据集\n",
    "simulated_data.to_csv('4.1_模拟.csv', index=False)"
   ]
  }
 ],
 "metadata": {
  "jupytext": {
   "cell_metadata_filter": "-all",
   "main_language": "python",
   "notebook_metadata_filter": "-all"
  }
 },
 "nbformat": 4,
 "nbformat_minor": 5
}
