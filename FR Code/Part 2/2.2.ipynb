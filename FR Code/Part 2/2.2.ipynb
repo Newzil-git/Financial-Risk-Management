{
 "cells": [
  {
   "cell_type": "markdown",
   "metadata": {},
   "source": [
    "# 2.2 金融风险管理 - 正态分布与风险度量\n",
    "\n",
    "本notebook演示了如何使用正态分布计算风险度量，特别是计算收益落在特定范围外的概率。\n",
    "\n",
    "## 关键概念解释：\n",
    "\n",
    "* **正态分布(Normal Distribution)**: 在金融中常用于建模资产收益率分布\n",
    "  * 由均值(μ)和标准差(σ)两个参数完全确定\n",
    "  * 均值决定了分布的中心位置\n",
    "  * 标准差决定了分布的分散程度，标准差越大，风险越高\n",
    "\n",
    "* **尾部风险(Tail Risk)**: 分布尾部代表极端事件发生的概率\n",
    "  * 在风险管理中，通常关注超出某个阈值的概率\n",
    "  * 这些极端事件虽然概率小，但可能造成严重损失"
   ]
  },
  {
   "cell_type": "markdown",
   "metadata": {},
   "source": [
    "## 1. 安装必要的库"
   ]
  },
  {
   "cell_type": "code",
   "execution_count": null,
   "metadata": {},
   "source": [
    "# 安装必要的库\n",
    "!pip install numpy matplotlib scipy"
   ]
  },
  {
   "cell_type": "markdown",
   "metadata": {},
   "source": [
    "## 2. 导入相关库"
   ]
  },
  {
   "cell_type": "code",
   "execution_count": null,
   "metadata": {},
   "source": [
    "from scipy.stats import norm\n",
    "import numpy as np\n",
    "import matplotlib.pyplot as plt\n",
    "\n",
    "# 设置中文显示\n",
    "plt.rcParams['font.sans-serif']=['SimHei']  # 用来正常显示中文标签\n",
    "plt.rcParams['axes.unicode_minus']=False    # 用来正常显示负号"
   ]
  },
  {
   "cell_type": "markdown",
   "metadata": {},
   "source": [
    "## 3. 定义正态分布参数\n",
    "\n",
    "设定正态分布的均值(μ)和标准差(σ)，代表某项金融资产的收益分布特征。"
   ]
  },
  {
   "cell_type": "code",
   "execution_count": null,
   "metadata": {},
   "source": [
    "# 3.1 定义均值和标准差\n",
    "mu = 80      # 平均收益为80\n",
    "sigma = 24   # 标准差为24\n",
    "\n",
    "print(f\"正态分布参数:\\n均值(μ) = {mu}\\n标准差(σ) = {sigma}\")"
   ]
  },
  {
   "cell_type": "markdown",
   "metadata": {},
   "source": [
    "## 4. 计算风险指标\n",
    "\n",
    "计算特定阈值下的风险概率，即收益落在指定范围外的概率。"
   ]
  },
  {
   "cell_type": "code",
   "execution_count": null,
   "metadata": {},
   "source": [
    "# 4.1 计算P(X < 32)和P(X > 116)，即收益低于32或高于116的概率\n",
    "p_less_32 = norm.cdf(32, mu, sigma)          # 计算收益低于32的概率\n",
    "p_greater_116 = 1 - norm.cdf(116, mu, sigma) # 计算收益高于116的概率\n",
    "\n",
    "# 4.2 计算不在32到116范围内的总概率\n",
    "p_outside = p_less_32 + p_greater_116\n",
    "\n",
    "print(f\"收益低于32的概率: {p_less_32:.4f} ({p_less_32*100:.2f}%)\")\n",
    "print(f\"收益高于116的概率: {p_greater_116:.4f} ({p_greater_116*100:.2f}%)\")\n",
    "print(f\"收益不在32到116范围内的总概率: {p_outside:.4f} ({p_outside*100:.2f}%)\")"
   ]
  },
  {
   "cell_type": "markdown",
   "metadata": {},
   "source": [
    "## 5. 可视化分析\n",
    "\n",
    "绘制正态分布图，并标注关注的风险区域。"
   ]
  },
  {
   "cell_type": "code",
   "execution_count": null,
   "metadata": {},
   "source": [
    "# 5.1 绘制正态分布图\n",
    "x = np.linspace(mu - 4*sigma, mu + 4*sigma, 1000)  # 生成X轴数据范围\n",
    "y = norm.pdf(x, mu, sigma)                         # 计算对应的概率密度\n",
    "\n",
    "plt.figure(figsize=(10, 6))\n",
    "plt.plot(x, y, label='正态分布')\n",
    "plt.fill_between(x, y, where=(x < 32) | (x > 116), color='red', alpha=0.5, label='32-116范围外')\n",
    "plt.title(f'均值={mu}, 标准差={sigma}的正态分布')\n",
    "plt.xlabel('收益值')\n",
    "plt.ylabel('概率密度')\n",
    "plt.grid(True, alpha=0.3)\n",
    "plt.legend()\n",
    "plt.show()"
   ]
  },
  {
   "cell_type": "markdown",
   "metadata": {},
   "source": [
    "## 6. 结果输出与分析"
   ]
  },
  {
   "cell_type": "code",
   "execution_count": null,
   "metadata": {},
   "source": [
    "print(f\"不在32到116范围内的概率为: {p_outside * 100:.2f}%\")"
   ]
  },
  {
   "cell_type": "markdown",
   "metadata": {},
   "source": [
    "## 7. 风险管理启示\n",
    "\n",
    "从上述分析可以得出以下风险管理启示：\n",
    "\n",
    "1. **尾部风险评估**：\n",
    "   - 在给定的分布参数下，收益落在极端区域(32以下或116以上)的概率约为{p_outside:.4f}，即{p_outside*100:.2f}%\n",
    "   - 这可以帮助风险管理人员评估极端情况的可能性\n",
    "\n",
    "2. **风险控制措施**：\n",
    "   - 如果{p_outside*100:.2f}%的风险被认为太高，可以考虑调整投资策略或增加对冲措施\n",
    "   - 收益低于32的概率({p_less_32*100:.2f}%)代表下行风险，应特别关注\n",
    "\n",
    "3. **风险沟通**：\n",
    "   - 向利益相关者清晰传达潜在的极端情况概率\n",
    "   - 正态分布假设可能低估实际的尾部风险，实际市场数据通常表现出更厚的尾部\n",
    "\n",
    "4. **压力测试应用**：\n",
    "   - 可以利用这种方法进行压力测试，评估在极端市场条件下的潜在损失"
   ]
  }
 ],
 "metadata": {
  "kernelspec": {
   "display_name": "Python 3",
   "language": "python",
   "name": "python3"
  },
  "language_info": {
   "codemirror_mode": {
    "name": "ipython",
    "version": 3
   },
   "file_extension": ".py",
   "mimetype": "text/x-python",
   "name": "python",
   "nbconvert_exporter": "python",
   "pygments_lexer": "ipython3",
   "version": "3.8.8"
  }
 },
 "nbformat": 4,
 "nbformat_minor": 4
}