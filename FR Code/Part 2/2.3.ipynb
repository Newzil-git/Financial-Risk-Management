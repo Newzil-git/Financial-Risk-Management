{
 "cells": [
  {
   "cell_type": "markdown",
   "metadata": {},
   "source": [
    "# 2.3 金融风险管理 - 对数正态分布与股票价格预测\n",
    "\n",
    "本notebook演示了如何使用对数正态分布对股票价格进行建模，并计算置信区间，这是金融风险管理中的重要应用。\n",
    "\n",
    "## 关键概念解释：\n",
    "\n",
    "* **对数正态分布(Lognormal Distribution)**:\n",
    "  * 若随机变量X的对数服从正态分布，则X服从对数正态分布\n",
    "  * 广泛用于建模股票价格、资产价格等永远为正的金融变量\n",
    "  * 对数正态分布是几何布朗运动模型的基础\n",
    "\n",
    "* **置信区间(Confidence Interval)**:\n",
    "  * 用来估计总体参数的可能取值范围\n",
    "  * 95%置信区间表示有95%的概率，真实值会落在该区间内\n",
    "  * 在风险管理中，置信区间帮助评估价格波动的范围"
   ]
  },
  {
   "cell_type": "markdown",
   "metadata": {},
   "source": [
    "## 1. 安装必要的库"
   ]
  },
  {
   "cell_type": "code",
   "execution_count": null,
   "metadata": {},
   "source": [
    "# 安装必要的库\n",
    "!pip install numpy matplotlib scipy"
   ]
  },
  {
   "cell_type": "markdown",
   "metadata": {},
   "source": [
    "## 2. 导入相关库"
   ]
  },
  {
   "cell_type": "code",
   "execution_count": null,
   "metadata": {},
   "source": [
    "from scipy.stats import norm\n",
    "import numpy as np\n",
    "import matplotlib.pyplot as plt\n",
    "\n",
    "# 设置中文显示\n",
    "plt.rcParams['font.sans-serif']=['SimHei']  # 用来正常显示中文标签\n",
    "plt.rcParams['axes.unicode_minus']=False    # 用来正常显示负号"
   ]
  },
  {
   "cell_type": "markdown",
   "metadata": {},
   "source": [
    "## 3. 设定对数正态分布参数\n",
    "\n",
    "对数正态分布通常由期望收益率(μ)和波动率(σ)两个参数确定，这里我们使用这些参数来模拟股票价格的分布。"
   ]
  },
  {
   "cell_type": "code",
   "execution_count": null,
   "metadata": {},
   "source": [
    "# 3.1 定义对数正态分布参数\n",
    "mu = 0.1               # 期望收益率为10%\n",
    "sigma = np.sqrt(0.2)   # 年化波动率约为44.7%\n",
    "S0 = 100               # 初始股票价格为100\n",
    "\n",
    "print(f\"对数正态分布参数:\\n期望收益率(μ) = {mu}\\n年化波动率(σ) = {sigma:.4f}\\n初始股票价格 = {S0}\")"
   ]
  },
  {
   "cell_type": "markdown",
   "metadata": {},
   "source": [
    "## 4. 计算置信区间\n",
    "\n",
    "计算股票价格的95%置信区间，即股票价格有95%的概率会落在该区间内。"
   ]
  },
  {
   "cell_type": "code",
   "execution_count": null,
   "metadata": {},
   "source": [
    "# 4.1 计算95%置信区间\n",
    "z_score = 1.96  # 对应95%置信度的z值\n",
    "\n",
    "# 对数正态分布的下界和上界计算\n",
    "lower_bound = S0 * np.exp(mu - z_score * sigma)\n",
    "upper_bound = S0 * np.exp(mu + z_score * sigma)\n",
    "\n",
    "print(f\"95%置信区间下界: {lower_bound:.2f}\")\n",
    "print(f\"95%置信区间上界: {upper_bound:.2f}\")\n",
    "print(f\"95%置信区间: [{lower_bound:.2f}, {upper_bound:.2f}]\")"
   ]
  },
  {
   "cell_type": "markdown",
   "metadata": {},
   "source": [
    "## 5. 可视化分析\n",
    "\n",
    "绘制对数正态分布，并标注95%置信区间。"
   ]
  },
  {
   "cell_type": "code",
   "execution_count": null,
   "metadata": {},
   "source": [
    "# 5.1 生成对数正态分布数据\n",
    "x = np.linspace(20, 300, 1000)  # 生成x轴数据范围\n",
    "\n",
    "# 对数正态分布的概率密度函数\n",
    "def lognormal_pdf(x, mu, sigma, S0):\n",
    "    return (1 / (x * sigma * np.sqrt(2 * np.pi))) * \\\n",
    "           np.exp(-(np.log(x/S0) - mu)**2 / (2 * sigma**2))\n",
    "\n",
    "# 计算概率密度值\n",
    "y = lognormal_pdf(x, mu, sigma, S0)\n",
    "\n",
    "# 5.2 绘制对数正态分布图\n",
    "plt.figure(figsize=(10, 6))\n",
    "plt.plot(x, y, color='blue', label='对数正态分布')\n",
    "\n",
    "# 填充置信区间\n",
    "plt.fill_between(x, y, where=(x >= lower_bound) & (x <= upper_bound), \n",
    "                 color='green', alpha=0.3, label='95%置信区间')\n",
    "\n",
    "# 添加标签和标题\n",
    "plt.title('股票价格的对数正态分布与95%置信区间')\n",
    "plt.xlabel('股票价格')\n",
    "plt.ylabel('概率密度')\n",
    "plt.grid(True, alpha=0.3)\n",
    "plt.legend()\n",
    "\n",
    "# 添加垂直线表示置信区间的边界\n",
    "plt.axvline(x=lower_bound, color='red', linestyle='--', alpha=0.7, \n",
    "            label=f'下界: {lower_bound:.2f}')\n",
    "plt.axvline(x=upper_bound, color='red', linestyle='--', alpha=0.7, \n",
    "            label=f'上界: {upper_bound:.2f}')\n",
    "\n",
    "plt.legend()\n",
    "plt.show()"
   ]
  },
  {
   "cell_type": "markdown",
   "metadata": {},
   "source": [
    "## 6. 输出置信区间"
   ]
  },
  {
   "cell_type": "code",
   "execution_count": null,
   "metadata": {},
   "source": [
    "print(f\"95%置信区间为: [{lower_bound:.2f}, {upper_bound:.2f}]\")"
   ]
  },
  {
   "cell_type": "markdown",
   "metadata": {},
   "source": [
    "## 7. 风险管理启示\n",
    "\n",
    "从对数正态分布分析可以得出以下风险管理启示：\n",
    "\n",
    "1. **价格波动范围**：\n",
    "   - 基于当前参数，股票价格有95%的概率会落在[{lower_bound:.2f}, {upper_bound:.2f}]区间内\n",
    "   - 这意味着股价可能下跌至{lower_bound:.2f}或上涨至{upper_bound:.2f}\n",
    "\n",
    "2. **风险防范策略**：\n",
    "   - 如下行风险不可接受，可考虑购买执行价格为{lower_bound:.2f}的看跌期权进行保护\n",
    "   - 如考虑获利了结，可设定{upper_bound:.2f}为止盈价位\n",
    "\n",
    "3. **对冲需求评估**：\n",
    "   - 置信区间宽度为{upper_bound-lower_bound:.2f}，表明价格波动较大，可能需要更强的对冲措施\n",
    "   - 波动率σ={sigma:.4f}较高，表明市场不确定性强\n",
    "\n",
    "4. **资本准备**：\n",
    "   - 基于置信区间，风险管理部门可估算潜在最大损失，合理配置资本缓冲\n",
    "   - 极端情况下（5%概率），损失可能超出预期范围"
   ]
  }
 ],
 "metadata": {
  "kernelspec": {
   "display_name": "Python 3",
   "language": "python",
   "name": "python3"
  },
  "language_info": {
   "codemirror_mode": {
    "name": "ipython",
    "version": 3
   },
   "file_extension": ".py",
   "mimetype": "text/x-python",
   "name": "python",
   "nbconvert_exporter": "python",
   "pygments_lexer": "ipython3",
   "version": "3.8.8"
  }
 },
 "nbformat": 4,
 "nbformat_minor": 4
}