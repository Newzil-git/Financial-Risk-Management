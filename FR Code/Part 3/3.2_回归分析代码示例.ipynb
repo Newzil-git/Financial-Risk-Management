{
 "cells": [
  {
   "cell_type": "markdown",
   "metadata": {},
   "source": [
    "# 3.2 金融风险管理中的回归分析\n",
    "\n",
    "本Notebook演示了金融风险管理中的回归分析应用，特别是CAPM模型相关的实证分析方法。主要内容包括：\n",
    "1. 数据生成过程\n",
    "2. 回归模型估计\n",
    "3. 统计检验\n",
    "4. 可视化分析"
   ]
  },
{
   "cell_type": "markdown",
   "metadata": {},
   "source": [
    "确保所有需要的库都已安装。"
   ]
  },
  {
   "cell_type": "code",
   "execution_count": null,
   "metadata": {},
   "source": [
    "# 安装所需的库\n",
    "!pip install numpy pandas scipy statsmodels matplotlib seaborn"
   ]
  },
  {
   "cell_type": "markdown",
   "metadata": {},
   "source": [
    "导入相关库"
   ]
  },
  {
   "cell_type": "code",
   "execution_count": null,
   "metadata": {},
   "source": [
    "import numpy as np\n",
    "import pandas as pd\n",
    "import statsmodels.api as sm\n",
    "import matplotlib.pyplot as plt\n",
    "from statsmodels.stats.diagnostic import het_breuschpagan, normal_ad\n",
    "import seaborn as sns\n",
    "\n",
    "# 设置中文显示\n",
    "plt.rcParams['font.sans-serif']=['SimHei']  # 用来正常显示中文标签\n",
    "plt.rcParams['axes.unicode_minus']=False    # 用来正常显示负号"
   ]
  },
  {
   "cell_type": "markdown",
   "metadata": {},
   "source": [
    "## 1. 数据生成过程\n",
    "\n",
    "在本节中，我们模拟生成符合CAPM模型的市场收益率和个股收益率数据。\n",
    "\n",
    "CAPM模型表示为：\n",
    "$r_i = \\alpha_i + \\beta_i r_m + \\epsilon_i$\n",
    "\n",
    "其中：\n",
    "- $r_i$ 是个股收益率\n",
    "- $r_m$ 是市场收益率\n",
    "- $\\alpha_i$ 是截距项\n",
    "- $\\beta_i$ 是系统性风险系数\n",
    "- $\\epsilon_i$ 是误差项"
   ]
  },
  {
   "cell_type": "code",
   "execution_count": null,
   "metadata": {},
   "source": [
    "# 设置随机种子保证可重复性\n",
    "np.random.seed(2023)\n",
    "\n",
    "# 步骤1：数据生成过程\n",
    "T = 100  # 样本量\n",
    "alpha_true = 0.1   # 真实截距项\n",
    "beta_true = 1.5    # 真实斜率系数\n",
    "sigma = 0.2        # 误差标准差\n",
    "\n",
    "# 生成解释变量（市场收益率）\n",
    "x = np.random.normal(0, 0.3, T)\n",
    "# 生成误差项\n",
    "epsilon = np.random.normal(0, sigma, T)\n",
    "# 生成被解释变量（个股收益率）\n",
    "y = alpha_true + beta_true * x + epsilon\n",
    "\n",
    "# 创建DataFrame\n",
    "df = pd.DataFrame({'Market_Return': x, 'Stock_Return': y})"
   ]
  },
  {
   "cell_type": "markdown",
   "metadata": {},
   "source": [
    "## 2. 回归模型估计\n",
    "\n",
    "使用普通最小二乘法(OLS)估计CAPM模型参数。"
   ]
  },
  {
   "cell_type": "code",
   "execution_count": null,
   "metadata": {},
   "source": [
    "# 添加常数项\n",
    "X = sm.add_constant(df['Market_Return'])\n",
    "model = sm.OLS(df['Stock_Return'], X)\n",
    "results = model.fit()\n",
    "\n",
    "# 提取关键结果\n",
    "alpha_est = results.params[0]\n",
    "beta_est = results.params[1]\n",
    "se_alpha = results.bse[0]\n",
    "se_beta = results.bse[1]\n",
    "t_alpha = results.tvalues[0]\n",
    "t_beta = results.tvalues[1]\n",
    "p_alpha = results.pvalues[0]\n",
    "p_beta = results.pvalues[1]\n",
    "r_squared = results.rsquared\n",
    "adj_r_squared = results.rsquared_adj"
   ]
  },
  {
   "cell_type": "markdown",
   "metadata": {},
   "source": [
    "## 3. 统计检验\n",
    "\n",
    "进行模型诊断和残差分析，检验回归模型的基本假设是否满足。"
   ]
  },
  {
   "cell_type": "code",
   "execution_count": null,
   "metadata": {},
   "source": [
    "# 残差分析\n",
    "residuals = results.resid\n",
    "fitted = results.fittedvalues\n",
    "\n",
    "# Jarque-Bera正态性检验\n",
    "jb_stat, jb_pval = normal_ad(residuals)\n",
    "\n",
    "# Breusch-Pagan异方差检验\n",
    "bp_stat, bp_pval, _, _ = het_breuschpagan(residuals, X)\n",
    "\n",
    "# Durbin-Watson自相关检验\n",
    "dw_stat = sm.stats.durbin_watson(residuals)"
   ]
  },
  {
   "cell_type": "markdown",
   "metadata": {},
   "source": [
    "## 4. 可视化分析\n",
    "\n",
    "通过图表直观展示回归分析结果和诊断结果。"
   ]
  },
  {
   "cell_type": "code",
   "execution_count": null,
   "metadata": {},
   "source": [
    "plt.style.use('seaborn')\n",
    "\n",
    "# 图1：散点图与回归线\n",
    "plt.figure(figsize=(10, 6))\n",
    "sns.regplot(x='Market_Return', y='Stock_Return', data=df,\n",
    "            line_kws={'color':'red', 'lw':2},\n",
    "            scatter_kws={'alpha':0.6})\n",
    "plt.title('Stock Return vs Market Return', fontsize=14)\n",
    "plt.xlabel('Market Return', fontsize=12)\n",
    "plt.ylabel('Stock Return', fontsize=12)\n",
    "plt.grid(True, alpha=0.3)\n",
    "plt.savefig('scatter_plot.png', dpi=300, bbox_inches='tight')"
   ]
  },
  {
   "cell_type": "code",
   "execution_count": null,
   "metadata": {},
   "source": [
    "# 图2：残差分布图\n",
    "plt.figure(figsize=(10, 6))\n",
    "plt.scatter(fitted, residuals, alpha=0.6)\n",
    "plt.axhline(y=0, color='r', linestyle='--')\n",
    "plt.title('Residual Analysis', fontsize=14)\n",
    "plt.xlabel('Predicted Values', fontsize=12)\n",
    "plt.ylabel('Residuals', fontsize=12)\n",
    "plt.grid(True, alpha=0.3)\n",
    "plt.savefig('residual_plot.png', dpi=300, bbox_inches='tight')"
   ]
  },
  {
   "cell_type": "markdown",
   "metadata": {},
   "source": [
    "## 5. 结果输出\n",
    "\n",
    "打印回归结果摘要和统计检验结果。"
   ]
  },
  {
   "cell_type": "code",
   "execution_count": null,
   "metadata": {},
   "source": [
    "print(\"=\"*50)\n",
    "print(\"Regression Results Summary\")\n",
    "print(\"=\"*50)\n",
    "print(f\"Sample Size: {T}\")\n",
    "print(f\"Intercept Estimate (α): {alpha_est:.4f} (SE: {se_alpha:.4f})\")\n",
    "print(f\"Slope Coefficient (β): {beta_est:.4f} (SE: {se_beta:.4f})\")\n",
    "print(f\"R-squared: {r_squared:.4f}\")\n",
    "print(f\"Adjusted R-squared: {adj_r_squared:.4f}\\n\")\n",
    "\n",
    "print(\"Statistical Tests:\")\n",
    "print(f\"Intercept t-statistic: {t_alpha:.2f} (p-value: {p_alpha:.4f})\")\n",
    "print(f\"Slope t-statistic: {t_beta:.2f} (p-value: {p_beta:.4f})\")\n",
    "print(f\"Jarque-Bera Test: Statistic={jb_stat:.2f} (p-value={jb_pval:.4f})\")\n",
    "print(f\"Breusch-Pagan Test: Statistic={bp_stat:.2f} (p-value={bp_pval:.4f})\")\n",
    "print(f\"Durbin-Watson Statistic: {dw_stat:.2f}\")\n",
    "\n",
    "print(\"\\nVisualizations saved as:\")\n",
    "print(\"scatter_plot.png (Scatter plot with regression line)\")\n",
    "print(\"residual_plot.png (Residual plot)\")"
   ]
  }
 ],
 "metadata": {
  "kernelspec": {
   "display_name": "Python 3",
   "language": "python",
   "name": "python3"
  },
  "language_info": {
   "codemirror_mode": {
    "name": "ipython",
    "version": 3
   },
   "file_extension": ".py",
   "mimetype": "text/x-python",
   "name": "python",
   "nbconvert_exporter": "python",
   "pygments_lexer": "ipython3",
   "version": "3.8.8"
  }
 },
 "nbformat": 4,
 "nbformat_minor": 4
}