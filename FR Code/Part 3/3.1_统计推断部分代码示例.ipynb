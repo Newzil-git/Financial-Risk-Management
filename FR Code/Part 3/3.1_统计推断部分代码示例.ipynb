{
 "cells": [
  {
   "cell_type": "markdown",
   "metadata": {},
   "source": [
    "# 3.1 金融风险管理中的统计推断\n",
    "\n",
    "本Notebook演示了金融数据分析中常用的统计推断方法，包括：\n",
    "1. 基本统计量分析\n",
    "2. 均值检验（t检验）\n",
    "3. 方差检验（卡方检验）\n",
    "4. 正态性检验（Jarque-Bera检验）"
   ]
  },
 {
   "cell_type": "markdown",
   "metadata": {},
   "source": [
    "确保所有需要的库都已安装。"
   ]
  },
  {
   "cell_type": "code",
   "execution_count": null,
   "metadata": {},
   "source": [
    "# 安装所需的库\n",
    "!pip install numpy pandas scipy statsmodels matplotlib seaborn"
   ]
  },
  {
   "cell_type": "markdown",
   "metadata": {},
   "source": [
    "导入相关库"
   ]
  },
  {
   "cell_type": "code",
   "execution_count": null,
   "metadata": {},
   "source": [
    "import numpy as np\n",
    "import pandas as pd\n",
    "import scipy.stats as stats\n",
    "import statsmodels.api as sm\n",
    "import matplotlib.pyplot as plt\n",
    "\n",
    "# 设置中文显示\n",
    "plt.rcParams['font.sans-serif']=['SimHei']  # 用来正常显示中文标签\n",
    "plt.rcParams['axes.unicode_minus']=False    # 用来正常显示负号"
   ]
  },
  {
   "cell_type": "markdown",
   "metadata": {},
   "source": [
    "## 1. 数据生成与基本统计\n",
    "\n",
    "生成模拟的金融收益率数据。我们使用t分布生成厚尾数据，这更符合实际金融收益率数据的特征。"
   ]
  },
  {
   "cell_type": "code",
   "execution_count": null,
   "metadata": {},
   "source": [
    "# 设置随机种子保证可重复性\n",
    "np.random.seed(2023)\n",
    "\n",
    "# 生成模拟数据：假设真实μ=-0.18%，σ=3.24%，T=240\n",
    "T = 240\n",
    "true_mu = -0.0018\n",
    "true_sigma = 0.0324\n",
    "\n",
    "# 生成厚尾数据（使用t分布模拟非正态性）\n",
    "returns = true_mu + true_sigma * np.random.standard_t(5, T)/np.sqrt(5/3)\n",
    "\n",
    "# 转换为DataFrame便于分析\n",
    "df = pd.DataFrame({'Return': returns})\n",
    "\n",
    "# 计算基本统计量\n",
    "mu_hat = df['Return'].mean()\n",
    "sigma_hat = df['Return'].std(ddof=1)\n",
    "skew = stats.skew(df['Return'])\n",
    "kurt = stats.kurtosis(df['Return'], fisher=False)  # Fisher=False得到Pearson峰度\n",
    "\n",
    "print(f\"样本均值: {mu_hat:.4f}\")\n",
    "print(f\"样本标准差: {sigma_hat:.4f}\")\n",
    "print(f\"样本偏度: {skew:.2f}\")\n",
    "print(f\"样本峰度: {kurt:.2f}\")"
   ]
  },
  {
   "cell_type": "markdown",
   "metadata": {},
   "source": [
    "## 2. 均值检验 (t检验)\n",
    "\n",
    "在金融风险管理中，均值检验用于评估资产收益率是否显著不同于零。\n",
    "\n",
    "t统计量计算公式：\n",
    "\n",
    "$t = \\frac{\\bar{X} - \\mu_0}{s/\\sqrt{n}}$\n",
    "\n",
    "其中 $\\bar{X}$ 是样本均值，$\\mu_0$ 是假设的总体均值，$s$ 是样本标准差，$n$ 是样本容量。"
   ]
  },
  {
   "cell_type": "code",
   "execution_count": null,
   "metadata": {},
   "source": [
    "# 原假设 H0: μ = 0\n",
    "t_stat = (mu_hat - 0)/(sigma_hat/np.sqrt(T))\n",
    "p_value = 2 * (1 - stats.t.cdf(abs(t_stat), T-1))\n",
    "\n",
    "print(f\"\\nt统计量: {t_stat:.2f}\")\n",
    "print(f\"P值: {p_value:.4f}\")\n",
    "\n",
    "# 置信区间计算\n",
    "conf_level = 0.95\n",
    "t_critical = stats.t.ppf((1 + conf_level)/2, T-1)\n",
    "ci_low = mu_hat - t_critical * sigma_hat/np.sqrt(T)\n",
    "ci_high = mu_hat + t_critical * sigma_hat/np.sqrt(T)\n",
    "print(f\"95%置信区间: [{ci_low:.4f}, {ci_high:.4f}]\")"
   ]
  },
  {
   "cell_type": "markdown",
   "metadata": {},
   "source": [
    "## 3. 方差检验 (卡方检验)\n",
    "\n",
    "方差检验用于评估资产波动率的稳定性。卡方统计量计算公式：\n",
    "\n",
    "$\\chi^2 = \\frac{(n-1)s^2}{\\sigma_0^2}$\n",
    "\n",
    "其中 $s^2$ 是样本方差，$\\sigma_0^2$ 是假设的总体方差，$n$ 是样本容量。"
   ]
  },
  {
   "cell_type": "code",
   "execution_count": null,
   "metadata": {},
   "source": [
    "# 原假设 H0: σ^2 = true_sigma^2\n",
    "chi2_stat = (T-1)*sigma_hat**2 / true_sigma**2\n",
    "chi2_critical_low = stats.chi2.ppf(0.025, T-1)\n",
    "chi2_critical_high = stats.chi2.ppf(0.975, T-1)\n",
    "\n",
    "print(f\"\\n卡方统计量: {chi2_stat:.2f}\")\n",
    "print(f\"卡方临界值区间: [{chi2_critical_low:.2f}, {chi2_critical_high:.2f}]\")\n",
    "\n",
    "# 方差置信区间\n",
    "ci_var_low = (T-1)*sigma_hat**2 / chi2_critical_high\n",
    "ci_var_high = (T-1)*sigma_hat**2 / chi2_critical_low\n",
    "ci_vol_low = np.sqrt(ci_var_low)\n",
    "ci_vol_high = np.sqrt(ci_var_high)\n",
    "print(f\"波动率95%置信区间: [{ci_vol_low:.4f}, {ci_vol_high:.4f}]\")"
   ]
  },
  {
   "cell_type": "markdown",
   "metadata": {},
   "source": [
    "## 4. 正态性检验 (Jarque-Bera)\n",
    "\n",
    "Jarque-Bera检验用于评估收益率是否服从正态分布。JB统计量计算公式：\n",
    "\n",
    "$JB = n \\left[ \\frac{S^2}{6} + \\frac{(K-3)^2}{24} \\right]$\n",
    "\n",
    "其中 $S$ 是样本偏度，$K$ 是样本峰度，$n$ 是样本容量。"
   ]
  },
  {
   "cell_type": "code",
   "execution_count": null,
   "metadata": {},
   "source": [
    "jb_stat = T * (skew**2/6 + (kurt-3)**2/24)\n",
    "jb_pvalue = 1 - stats.chi2.cdf(jb_stat, 2)\n",
    "\n",
    "print(f\"\\nJB统计量: {jb_stat:.2f}\")\n",
    "print(f\"P值: {jb_pvalue:.4e}\")"
   ]
  },
  {
   "cell_type": "markdown",
   "metadata": {},
   "source": [
    "## 5. 可视化分析\n",
    "\n",
    "使用多种图形方式展示收益率分布特征和统计检验结果。"
   ]
  },
  {
   "cell_type": "code",
   "execution_count": null,
   "metadata": {},
   "source": [
    "plt.figure(figsize=(12, 8))\n",
    "\n",
    "# 直方图与正态分布对比\n",
    "plt.subplot(2,2,1)\n",
    "x = np.linspace(-0.1, 0.1, 100)\n",
    "plt.hist(df['Return'], bins=30, density=True, alpha=0.6, label='Empirical')\n",
    "plt.plot(x, stats.norm.pdf(x, mu_hat, sigma_hat), 'r-', lw=2, label='Normal Fit')\n",
    "plt.title('Return Distribution vs Normal Fit')\n",
    "plt.legend()\n",
    "\n",
    "# Q-Q图\n",
    "plt.subplot(2,2,2)\n",
    "sm.qqplot(df['Return'], line='s', ax=plt.gca())\n",
    "plt.title('Q-Q Plot against Normal Distribution')\n",
    "\n",
    "# 均值抽样分布模拟\n",
    "plt.subplot(2,2,3)\n",
    "sample_means = [np.random.choice(df['Return'], 100).mean() for _ in range(1000)]\n",
    "plt.hist(sample_means, bins=30, density=True)\n",
    "plt.title('Sampling Distribution of Sample Mean')\n",
    "plt.xlabel('Sample Means')\n",
    "\n",
    "# 波动率置信区间\n",
    "plt.subplot(2,2,4)\n",
    "plt.errorbar(0, sigma_hat, yerr=[[sigma_hat - ci_vol_low], [ci_vol_high - sigma_hat]],\n",
    "             fmt='o', capsize=10)\n",
    "plt.xlim(-0.5, 0.5)\n",
    "plt.title('Volatility Estimate with 95% CI')\n",
    "plt.yticks()\n",
    "plt.tight_layout()\n",
    "plt.show()"
   ]
  }
 ],
 "metadata": {
  "kernelspec": {
   "display_name": "Python 3",
   "language": "python",
   "name": "python3"
  },
  "language_info": {
   "codemirror_mode": {
    "name": "ipython",
    "version": 3
   },
   "file_extension": ".py",
   "mimetype": "text/x-python",
   "name": "python",
   "nbconvert_exporter": "python",
   "pygments_lexer": "ipython3",
   "version": "3.8.8"
  }
 },
 "nbformat": 4,
 "nbformat_minor": 4
}