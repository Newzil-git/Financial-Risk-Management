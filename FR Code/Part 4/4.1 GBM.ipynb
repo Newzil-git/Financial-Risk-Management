{
 "cells": [
  {
   "cell_type": "markdown",
   "metadata": {},
   "source": [
    "# 4.1 金融风险管理 - 几何布朗运动模型模拟股票价格\n",
    "\n",
    "本notebook演示了如何使用几何布朗运动(GBM)模型模拟股票价格路径，这是金融风险管理和资产定价中的基础模型。\n",
    "\n",
    "## 关键概念解释：\n",
    "\n",
    "* **几何布朗运动(Geometric Brownian Motion, GBM)**:\n",
    "  * 描述随机变量的连续时间随机过程，广泛用于金融市场中建模股票价格变动\n",
    "  * GBM假设股票收益率服从对数正态分布\n",
    "  * 数学表示: $dS_t = \\mu S_t dt + \\sigma S_t dW_t$\n",
    "    * $S_t$: 时间t的股票价格\n",
    "    * $\\mu$: 期望收益率(漂移项)\n",
    "    * $\\sigma$: 波动率\n",
    "    * $dW_t$: 维纳过程(标准布朗运动)增量\n",
    "\n",
    "* **离散化实现**:\n",
    "  * 连续的GBM方程可以离散化为: $S_{t+\\Delta t} = S_t \\exp\\left[(\\mu-\\frac{\\sigma^2}{2})\\Delta t + \\sigma \\sqrt{\\Delta t}Z_t\\right]$\n",
    "  * 其中$Z_t$是服从标准正态分布$N(0,1)$的随机变量\n",
    "  * $\\Delta t$是时间步长\n",
    "\n",
    "* **应用价值**:\n",
    "  * 风险评估：通过模拟未来价格路径，评估潜在风险敞口\n",
    "  * 期权定价：Black-Scholes模型的基础假设\n",
    "  * 投资组合分析：预测未来可能的市场情景"
   ]
  },
  {
   "cell_type": "markdown",
   "metadata": {},
   "source": [
    "## 1. 安装必要的库"
   ]
  },
  {
   "cell_type": "code",
   "execution_count": null,
   "metadata": {},
   "outputs": [],
   "source": [
    "# 安装必要的库\n",
    "!pip install pandas numpy matplotlib"
   ]
  },
  {
   "cell_type": "markdown",
   "metadata": {},
   "source": [
    "## 2. 下载数据文件"
   ]
  },
  {
   "cell_type": "code",
   "execution_count": null,
   "metadata": {},
   "outputs": [],
   "source": [
    "# 2.1 从GitHub下载数据文件\n",
    "import os\n",
    "\n",
    "# 检查文件是否已存在，如果不存在则下载\n",
    "if not os.path.exists(\"4.1 AAPL_data.csv\"):\n",
    "    print(\"从GitHub下载AAPL数据...\")\n",
    "    !wget -O \"4.1 AAPL_data.csv\" \"https://raw.githubusercontent.com/Newzil-git/Financial-Risk-Management/main/FR%20Code/Part%204/4.1%20AAPL_data.csv\"\n",
    "else:\n",
    "    print(\"AAPL数据文件已存在，跳过下载\")\n",
    "\n",
    "print(\"数据文件准备完成\")"
   ]
  },
  {
   "cell_type": "markdown",
   "metadata": {},
   "source": [
    "## 3. 导入相关库并设置中文显示"
   ]
  },
  {
   "cell_type": "code",
   "execution_count": 6,
   "metadata": {},
   "outputs": [],
   "source": [
    "import pandas as pd\n",
    "import numpy as np\n",
    "import matplotlib.pyplot as plt\n",
    "import matplotlib\n",
    "\n",
    "# 使用内建的中文字体设置\n",
    "matplotlib.rcParams['font.family'] = 'SimHei'  \n",
    "matplotlib.rcParams['axes.unicode_minus'] = False"
   ]
  },
  {
   "cell_type": "markdown",
   "metadata": {},
   "source": [
    "## 4. 数据加载与预处理\n",
    "\n",
    "加载历史股票数据并清理，用于估计模型参数。"
   ]
  },
  {
   "cell_type": "code",
   "execution_count": null,
   "metadata": {},
   "outputs": [],
   "source": [
    "# 4.1 读取数据并查看前几行\n",
    "try:\n",
    "    data_file = \"4.1 AAPL_data.csv\"\n",
    "    data = pd.read_csv(data_file)\n",
    "    print(\"原始数据前5行:\")\n",
    "    display(data.head())\n",
    "except Exception as e:\n",
    "    print(f\"读取数据文件时出错: {e}\")\n",
    "    print(\"创建模拟数据用于演示...\")\n",
    "    # 创建模拟数据用于演示\n",
    "    np.random.seed(42)\n",
    "    dates = pd.date_range(start='2023-01-01', periods=252, freq='B')\n",
    "    initial_price = 150\n",
    "    prices = [initial_price]\n",
    "    \n",
    "    for _ in range(251):\n",
    "        daily_return = np.random.normal(0.0005, 0.015)\n",
    "        price = prices[-1] * (1 + daily_return)\n",
    "        prices.append(price)\n",
    "    \n",
    "    data = pd.DataFrame({\n",
    "        'Date': dates,\n",
    "        'Close': prices,\n",
    "        'High': [p * (1 + np.random.uniform(0, 0.02)) for p in prices],\n",
    "        'Low': [p * (1 - np.random.uniform(0, 0.02)) for p in prices],\n",
    "        'Open': [prices[i-1] if i > 0 else prices[0] for i in range(252)],\n",
    "        'Volume': np.random.randint(5000000, 20000000, 252)\n",
    "    })\n",
    "    \n",
    "    print(\"模拟数据前5行:\")\n",
    "    display(data.head())"
   ]
  },
  {
   "cell_type": "code",
   "execution_count": null,
   "metadata": {},
   "outputs": [],
   "source": [
    "# 4.2 数据清理\n",
    "# 将 'Close' 列转换为数字类型\n",
    "data['Close'] = pd.to_numeric(data['Close'], errors='coerce')\n",
    "\n",
    "# 清理掉含有NaN的行\n",
    "data_clean = data.dropna(subset=['Close'])\n",
    "prices_clean = data_clean['Close'].values\n",
    "\n",
    "print(f\"清理后的数据点数量: {len(prices_clean)}\")\n",
    "prices_clean[:5]  # 显示前5个价格点"
   ]
  },
  {
   "cell_type": "markdown",
   "metadata": {},
   "source": [
    "## 5. 参数估计\n",
    "\n",
    "使用历史数据估计GBM模型的关键参数：漂移率(μ)和波动率(σ)。"
   ]
  },
  {
   "cell_type": "code",
   "execution_count": null,
   "metadata": {},
   "outputs": [],
   "source": [
    "# 5.1 计算日收益率\n",
    "returns_clean = np.diff(prices_clean) / prices_clean[:-1]\n",
    "\n",
    "# 5.2 估计均值(mu)和波动率(sigma)\n",
    "mu_clean = np.mean(returns_clean)\n",
    "sigma_clean = np.std(returns_clean)\n",
    "\n",
    "print(f\"估计的日均收益率(μ): {mu_clean:.6f}\")\n",
    "print(f\"估计的日波动率(σ): {sigma_clean:.6f}\")\n",
    "print(f\"年化收益率: {mu_clean * 252:.4f}\")\n",
    "print(f\"年化波动率: {sigma_clean * np.sqrt(252):.4f}\")"
   ]
  },
  {
   "cell_type": "markdown",
   "metadata": {},
   "source": [
    "## 6. 模拟设置\n",
    "\n",
    "定义几何布朗运动模拟的参数和模拟函数。"
   ]
  },
  {
   "cell_type": "code",
   "execution_count": null,
   "metadata": {},
   "outputs": [],
   "source": [
    "# 6.1 设置模拟参数\n",
    "n_steps = 100  # 模拟的步数\n",
    "delta_t = 1 / 252  # 每步的时间间隔（假设每年252个交易日）\n",
    "initial_price = prices_clean[-1]  # 使用最后一个观察到的价格作为初始价格\n",
    "\n",
    "print(f\"模拟步数: {n_steps}\")\n",
    "print(f\"时间步长: {delta_t:.6f}\")\n",
    "print(f\"初始价格: {initial_price:.2f}\")"
   ]
  },
  {
   "cell_type": "code",
   "execution_count": null,
   "metadata": {},
   "outputs": [],
   "source": [
    "# 6.2 定义多路径模拟函数\n",
    "def simulate_multiple_paths(n_paths, n_steps, mu, sigma, initial_price, delta_t):\n",
    "    \"\"\"\n",
    "    使用几何布朗运动模型模拟多条股票价格路径\n",
    "    \n",
    "    参数:\n",
    "    n_paths (int): 要模拟的路径数量\n",
    "    n_steps (int): 每条路径的步数\n",
    "    mu (float): 期望收益率(漂移项)\n",
    "    sigma (float): 波动率\n",
    "    initial_price (float): 初始股票价格\n",
    "    delta_t (float): 时间步长\n",
    "    \n",
    "    返回:\n",
    "    list: 包含多条模拟价格路径的列表\n",
    "    \"\"\"\n",
    "    all_paths = []\n",
    "    for _ in range(n_paths):\n",
    "        simulated_prices = [initial_price]\n",
    "        for i in range(n_steps):\n",
    "            # 生成标准正态随机变量\n",
    "            Z = np.random.normal(0, 1)\n",
    "            # 应用GBM公式计算下一步价格\n",
    "            next_price = simulated_prices[-1] * np.exp((mu - 0.5 * sigma ** 2) * delta_t + sigma * np.sqrt(delta_t) * Z)\n",
    "            simulated_prices.append(next_price)\n",
    "        all_paths.append(simulated_prices)\n",
    "    return all_paths"
   ]
  },
  {
   "cell_type": "markdown",
   "metadata": {},
   "source": [
    "## 7. 执行模拟\n",
    "\n",
    "使用定义好的参数和函数执行股票价格路径模拟。"
   ]
  },
  {
   "cell_type": "code",
   "execution_count": null,
   "metadata": {},
   "outputs": [],
   "source": [
    "# 7.1 模拟3条路径\n",
    "n_paths = 3\n",
    "paths = simulate_multiple_paths(n_paths, n_steps, mu_clean, sigma_clean, initial_price, delta_t)\n",
    "\n",
    "# 7.2 显示模拟结果的前几个价格点\n",
    "for i, path in enumerate(paths):\n",
    "    print(f\"路径 #{i+1} 的前5个价格点: {path[:5]}\")"
   ]
  },
  {
   "cell_type": "markdown",
   "metadata": {},
   "source": [
    "## 8. 可视化分析\n",
    "\n",
    "绘制模拟的股票价格路径，以便直观地分析股票价格的可能变动。"
   ]
  },
  {
   "cell_type": "code",
   "execution_count": null,
   "metadata": {},
   "outputs": [],
   "source": [
    "# 8.1 绘制多条路径\n",
    "plt.figure(figsize=(12, 6))\n",
    "\n",
    "for i, path in enumerate(paths):\n",
    "    plt.plot(path, label=f'路径 #{i + 1}')\n",
    "\n",
    "plt.title('几何布朗运动模拟的股票价格路径')\n",
    "plt.xlabel('未来交易日')\n",
    "plt.ylabel('股票价格')\n",
    "plt.grid(True, alpha=0.3)\n",
    "plt.legend()\n",
    "plt.show()"
   ]
  },
  {
   "cell_type": "markdown",
   "metadata": {},
   "source": [
    "## 9. 生成模拟数据表格\n",
    "\n",
    "将模拟结果保存为CSV文件，便于进一步分析。"
   ]
  },
  {
   "cell_type": "code",
   "execution_count": null,
   "metadata": {},
   "outputs": [],
   "source": [
    "# 9.1 将模拟数据存储到DataFrame中\n",
    "simulated_prices_clean = np.array(paths[0])  # 使用第一条路径\n",
    "steps = list(range(n_steps + 1))\n",
    "\n",
    "# 生成随机数和价格增量\n",
    "uniform_random = [None] + [np.random.uniform(0, 1) for _ in range(n_steps)]\n",
    "normal_random = [None] + [\n",
    "    (mu_clean - 0.5 * sigma_clean ** 2) * delta_t + sigma_clean * np.sqrt(delta_t) * np.random.normal(0, 1) \n",
    "    for _ in range(n_steps)\n",
    "]\n",
    "\n",
    "# 创建DataFrame\n",
    "simulated_data = pd.DataFrame({\n",
    "    \"Step\": steps,\n",
    "    \"Uniform\": uniform_random,\n",
    "    \"Normal\": normal_random,\n",
    "    \"Price Increment\": [None] + [\n",
    "        (mu_clean - 0.5 * sigma_clean ** 2) * delta_t + sigma_clean * np.sqrt(delta_t) * np.random.normal(0, 1) \n",
    "        for _ in range(n_steps)\n",
    "    ],\n",
    "    \"Price\": simulated_prices_clean\n",
    "})\n",
    "\n",
    "# 显示模拟数据的前几行\n",
    "simulated_data.head(10)"
   ]
  },
  {
   "cell_type": "code",
   "execution_count": null,
   "metadata": {},
   "outputs": [],
   "source": [
    "# 9.2 保存模拟数据到CSV文件\n",
    "simulated_data.to_csv('4.1_模拟.csv', index=False)\n",
    "print(\"模拟数据已保存到 '4.1_模拟.csv'\")"
   ]
  },
  {
   "cell_type": "markdown",
   "metadata": {},
   "source": [
    "## 10. 风险管理应用\n",
    "\n",
    "讨论几何布朗运动模型在金融风险管理中的应用。"
   ]
  },
  {
   "cell_type": "markdown",
   "metadata": {},
   "source": [
    "### 10.1 风险度量计算\n",
    "\n",
    "可以使用模拟的多条路径计算风险度量指标，如VaR（风险价值）和ES（期望损失）。"
   ]
  },
  {
   "cell_type": "code",
   "execution_count": null,
   "metadata": {},
   "outputs": [],
   "source": [
    "# 10.1.1 模拟更多路径用于风险分析\n",
    "n_paths_risk = 1000\n",
    "forecast_horizon = 10  # 预测10天后的价格\n",
    "\n",
    "# 生成多条路径\n",
    "risk_paths = simulate_multiple_paths(\n",
    "    n_paths_risk, forecast_horizon, mu_clean, sigma_clean, initial_price, delta_t\n",
    ")\n",
    "\n",
    "# 提取最终价格\n",
    "final_prices = [path[forecast_horizon] for path in risk_paths]\n",
    "\n",
    "# 计算收益率\n",
    "returns = [(price - initial_price) / initial_price for price in final_prices]\n",
    "\n",
    "# 计算95% VaR和ES\n",
    "confidence_level = 0.95\n",
    "var_95 = np.percentile(returns, (1 - confidence_level) * 100)\n",
    "es_95 = np.mean([r for r in returns if r <= var_95])\n",
    "\n",
    "print(f\"基于{n_paths_risk}条路径的{forecast_horizon}天风险预测:\")\n",
    "print(f\"95% VaR: {var_95*100:.2f}%\")\n",
    "print(f\"95% ES: {es_95*100:.2f}%\")\n",
    "print(f\"在金额上表示, 初始投资{initial_price:.2f}:\")\n",
    "print(f\"95% VaR: {initial_price * abs(var_95):.2f}\")\n",
    "print(f\"95% ES: {initial_price * abs(es_95):.2f}\")"
   ]
  },
  {
   "cell_type": "markdown",
   "metadata": {},
   "source": [
    "### 10.2 模型局限性分析\n",
    "\n",
    "几何布朗运动模型虽然广泛应用，但也存在一些局限性：\n",
    "\n",
    "1. **波动率假设**：\n",
    "   - GBM假设波动率恒定，而实际市场中波动率往往会随时间变化（波动率聚集现象）\n",
    "   - 市场压力期间，波动率通常会突然增加\n",
    "\n",
    "2. **收益率分布**：\n",
    "   - 真实市场收益率通常表现出更厚的尾部分布，而非GBM假设的正态分布\n",
    "   - 极端事件（市场崩盘）发生的频率高于模型预测\n",
    "\n",
    "3. **连续路径**：\n",
    "   - GBM产生连续的价格路径，而实际市场中存在跳跃和缺口\n",
    "   - 无法捕捉隔夜风险或极端价格变动\n",
    "\n",
    "4. **独立性假设**：\n",
    "   - 模型假设价格变动相互独立，忽略了市场可能存在的自相关性和趋势\n",
    "\n",
    "尽管有这些局限性，GBM仍然是金融风险管理中最基础、应用最广泛的模型之一，为更复杂的模型提供了基础。"
   ]
  }
 ],
 "metadata": {
  "kernelspec": {
   "display_name": "base",
   "language": "python",
   "name": "python3"
  },
  "language_info": {
   "codemirror_mode": {
    "name": "ipython",
    "version": 3
   },
   "file_extension": ".py",
   "mimetype": "text/x-python",
   "name": "python",
   "nbconvert_exporter": "python",
   "pygments_lexer": "ipython3",
   "version": "3.9.13"
  }
 },
 "nbformat": 4,
 "nbformat_minor": 4
}
